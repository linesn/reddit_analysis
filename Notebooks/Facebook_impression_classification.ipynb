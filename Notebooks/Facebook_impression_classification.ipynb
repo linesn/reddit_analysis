{
  "nbformat": 4,
  "nbformat_minor": 0,
  "metadata": {
    "colab": {
      "name": "Facebook_impression_classification.ipynb",
      "provenance": [],
      "authorship_tag": "ABX9TyO4Q9MbQuw4GTWcwtpHFS5O",
      "include_colab_link": true
    },
    "kernelspec": {
      "name": "python3",
      "display_name": "Python 3"
    }
  },
  "cells": [
    {
      "cell_type": "markdown",
      "metadata": {
        "id": "view-in-github",
        "colab_type": "text"
      },
      "source": [
        "<a href=\"https://colab.research.google.com/github/linesn/reddit_analysis/blob/main/Facebook_impression_classification.ipynb\" target=\"_parent\"><img src=\"https://colab.research.google.com/assets/colab-badge.svg\" alt=\"Open In Colab\"/></a>"
      ]
    },
    {
      "cell_type": "markdown",
      "metadata": {
        "id": "wAv2r7VRMuCa"
      },
      "source": [
        "# Classifying Facebook post impressions\r\n",
        "Nicholas Lines\r\n",
        "\r\n",
        "This notebook is my work for Module 8 of EN.605.633.81.SP21 Social Media Analytics.  \r\n",
        "The problem prompt is  \r\n",
        "> Design a supervised machine learning classifier that will predict whether the impression of Facebook posts will be greater than 1,000 based on data such as the type of post, weekday or weekend, and weather. Implement the classifier and test it using Python. The data corpus contains data from Facebook on recent posts for a bicycle shop. The columns are Post Message, Message Type, Date and Time of Post, Number of Impression, Weather indicator for snow or rain, and weekday or weekend indicator for the post.  \r\n",
        "> Test your classifier and calculate precision and recall. Turn in Python code for the classifier\r\n",
        "\r\n",
        "The data used was provided by the instructor."
      ]
    },
    {
      "cell_type": "markdown",
      "metadata": {
        "id": "sOudZfsSMy75"
      },
      "source": [
        "## Environment setup\r\n",
        "I'll try to use `scikit-learn` built-in functions and structures wherever possible for consistency and ease of review."
      ]
    },
    {
      "cell_type": "code",
      "metadata": {
        "colab": {
          "base_uri": "https://localhost:8080/"
        },
        "id": "e8Te6TS7Ln5G",
        "outputId": "531d93e0-acc6-4288-949d-e0836d8748f0"
      },
      "source": [
        "%pylab inline\r\n",
        "import pandas as pd\r\n",
        "import os"
      ],
      "execution_count": 25,
      "outputs": [
        {
          "output_type": "stream",
          "text": [
            "Populating the interactive namespace from numpy and matplotlib\n"
          ],
          "name": "stdout"
        },
        {
          "output_type": "stream",
          "text": [
            "/usr/local/lib/python3.7/dist-packages/IPython/core/magics/pylab.py:161: UserWarning: pylab import has clobbered these variables: ['title']\n",
            "`%matplotlib` prevents importing * from pylab and numpy\n",
            "  \"\\n`%matplotlib` prevents importing * from pylab and numpy\"\n"
          ],
          "name": "stderr"
        }
      ]
    },
    {
      "cell_type": "code",
      "metadata": {
        "colab": {
          "base_uri": "https://localhost:8080/"
        },
        "id": "zhiUNTwUNsLh",
        "outputId": "213ccbf4-d9f0-47f9-ecc7-269628836746"
      },
      "source": [
        "if 'COLAB_GPU' in os.environ: # a hacky way of determining if you are in colab.\r\n",
        "  print(\"Notebook is running in colab\")\r\n",
        "  from google.colab import drive\r\n",
        "  drive.mount(\"/content/drive\")\r\n",
        "  DATA_DIR = \"./drive/My Drive/Data/\"\r\n",
        "  \r\n",
        "else:\r\n",
        "  # Get the system information from the OS\r\n",
        "  PLATFORM_SYSTEM = platform.system()\r\n",
        "\r\n",
        "  # Darwin is macOS\r\n",
        "  if PLATFORM_SYSTEM == \"Darwin\":\r\n",
        "      EXECUTABLE_PATH = Path(\"../dependencies/chromedriver\")\r\n",
        "  elif PLATFORM_SYSTEM == \"Windows\":\r\n",
        "      EXECUTABLE_PATH = Path(\"../dependencies/chromedriver.exe\")\r\n",
        "  else:\r\n",
        "      logging.critical(\"Chromedriver not found or Chromedriver is outdated...\")\r\n",
        "      exit()\r\n",
        "  DATA_DIR = \"../Data/\""
      ],
      "execution_count": 6,
      "outputs": [
        {
          "output_type": "stream",
          "text": [
            "Notebook is running in colab\n",
            "Drive already mounted at /content/drive; to attempt to forcibly remount, call drive.mount(\"/content/drive\", force_remount=True).\n"
          ],
          "name": "stdout"
        }
      ]
    },
    {
      "cell_type": "markdown",
      "metadata": {
        "id": "OHZ3f0dINgF-"
      },
      "source": [
        "## Data read-in and feature review"
      ]
    },
    {
      "cell_type": "code",
      "metadata": {
        "id": "CZHknn6WNfCb"
      },
      "source": [
        "df = pd.read_excel(DATA_DIR + \"raw/SocialMediaInsightsforMachineLearning.xlsm\", parse_dates=True)"
      ],
      "execution_count": 58,
      "outputs": []
    },
    {
      "cell_type": "code",
      "metadata": {
        "colab": {
          "base_uri": "https://localhost:8080/",
          "height": 204
        },
        "id": "mJRZkDdtOdQx",
        "outputId": "4a949218-9254-47e5-824b-457fba50204f"
      },
      "source": [
        "df.head()"
      ],
      "execution_count": 59,
      "outputs": [
        {
          "output_type": "execute_result",
          "data": {
            "text/html": [
              "<div>\n",
              "<style scoped>\n",
              "    .dataframe tbody tr th:only-of-type {\n",
              "        vertical-align: middle;\n",
              "    }\n",
              "\n",
              "    .dataframe tbody tr th {\n",
              "        vertical-align: top;\n",
              "    }\n",
              "\n",
              "    .dataframe thead th {\n",
              "        text-align: right;\n",
              "    }\n",
              "</style>\n",
              "<table border=\"1\" class=\"dataframe\">\n",
              "  <thead>\n",
              "    <tr style=\"text-align: right;\">\n",
              "      <th></th>\n",
              "      <th>Post Message</th>\n",
              "      <th>Type</th>\n",
              "      <th>Posted</th>\n",
              "      <th>Impressions</th>\n",
              "      <th>Weather</th>\n",
              "      <th>Weekend</th>\n",
              "    </tr>\n",
              "  </thead>\n",
              "  <tbody>\n",
              "    <tr>\n",
              "      <th>0</th>\n",
              "      <td>Dont forget, our Spring Savings Event is going...</td>\n",
              "      <td>Photo</td>\n",
              "      <td>2016-03-03 03:13:12</td>\n",
              "      <td>1220.0</td>\n",
              "      <td>Snow</td>\n",
              "      <td>N</td>\n",
              "    </tr>\n",
              "    <tr>\n",
              "      <th>1</th>\n",
              "      <td>https://www.facebook.com/natalie.birner/posts/...</td>\n",
              "      <td>SharedVideo</td>\n",
              "      <td>2016-03-03 06:05:04</td>\n",
              "      <td>165.0</td>\n",
              "      <td>Snow</td>\n",
              "      <td>N</td>\n",
              "    </tr>\n",
              "    <tr>\n",
              "      <th>2</th>\n",
              "      <td>Got a new bike in the last year or so and look...</td>\n",
              "      <td>Photo</td>\n",
              "      <td>2016-03-04 12:25:06</td>\n",
              "      <td>1398.0</td>\n",
              "      <td>Snow</td>\n",
              "      <td>Y</td>\n",
              "    </tr>\n",
              "    <tr>\n",
              "      <th>3</th>\n",
              "      <td>Just in! New HiVis Endura jerseys and riding s...</td>\n",
              "      <td>Photo</td>\n",
              "      <td>2016-03-04 13:16:22</td>\n",
              "      <td>1174.0</td>\n",
              "      <td>Snow</td>\n",
              "      <td>Y</td>\n",
              "    </tr>\n",
              "    <tr>\n",
              "      <th>4</th>\n",
              "      <td>Sale ends March 31</td>\n",
              "      <td>Photo</td>\n",
              "      <td>2016-03-04 14:19:07</td>\n",
              "      <td>1030.0</td>\n",
              "      <td>Snow</td>\n",
              "      <td>Y</td>\n",
              "    </tr>\n",
              "  </tbody>\n",
              "</table>\n",
              "</div>"
            ],
            "text/plain": [
              "                                        Post Message  ... Weekend\n",
              "0  Dont forget, our Spring Savings Event is going...  ...       N\n",
              "1  https://www.facebook.com/natalie.birner/posts/...  ...       N\n",
              "2  Got a new bike in the last year or so and look...  ...       Y\n",
              "3  Just in! New HiVis Endura jerseys and riding s...  ...       Y\n",
              "4                                 Sale ends March 31  ...       Y\n",
              "\n",
              "[5 rows x 6 columns]"
            ]
          },
          "metadata": {
            "tags": []
          },
          "execution_count": 59
        }
      ]
    },
    {
      "cell_type": "code",
      "metadata": {
        "colab": {
          "base_uri": "https://localhost:8080/"
        },
        "id": "JACqx1IXPvj3",
        "outputId": "336a2ad3-5581-47d3-f0bc-e544be9aed45"
      },
      "source": [
        "print(f\"There are {df.shape[0]} data points and {df.shape[1]} columns\")"
      ],
      "execution_count": 60,
      "outputs": [
        {
          "output_type": "stream",
          "text": [
            "There are 102 data points and 6 columns\n"
          ],
          "name": "stdout"
        }
      ]
    },
    {
      "cell_type": "code",
      "metadata": {
        "colab": {
          "base_uri": "https://localhost:8080/",
          "height": 265
        },
        "id": "N-aIfARgOoyw",
        "outputId": "811f0f7b-f4a5-48e2-8b8f-4e2737ab967d"
      },
      "source": [
        "df.Impressions.hist(label=\"impressions\");\r\n",
        "legend();"
      ],
      "execution_count": 61,
      "outputs": [
        {
          "output_type": "display_data",
          "data": {
            "image/png": "[encoded data removed]",
            "text/plain": [
              "<Figure size 432x288 with 1 Axes>"
            ]
          },
          "metadata": {
            "tags": [],
            "needs_background": "light"
          }
        }
      ]
    },
    {
      "cell_type": "code",
      "metadata": {
        "colab": {
          "base_uri": "https://localhost:8080/",
          "height": 265
        },
        "id": "itCQRU4rUURy",
        "outputId": "4c52624e-0e70-4bd5-e2c7-ac19d01116f5"
      },
      "source": [
        "df.Posted.hist(label=\"posts by date\")\r\n",
        "legend();"
      ],
      "execution_count": 62,
      "outputs": [
        {
          "output_type": "display_data",
          "data": {
            "image/png": "[encoded data removed]",
            "text/plain": [
              "<Figure size 432x288 with 1 Axes>"
            ]
          },
          "metadata": {
            "tags": [],
            "needs_background": "light"
          }
        }
      ]
    },
    {
      "cell_type": "markdown",
      "metadata": {
        "id": "qr1T7EahREm7"
      },
      "source": [
        "Let's do some gentle feature engineering, using one-hot or dummy encoding to represent categorical data, and extracting a few features from the post body, extract time of day from the post time, etc."
      ]
    },
    {
      "cell_type": "code",
      "metadata": {
        "id": "5Cv6ripAPpC6"
      },
      "source": [
        "df['num_hashtags'] = df[\"Post Message\"].str.count(\"#\") # check if the hash symbol is used\r\n",
        "df['post_length'] = df[\"Post Message\"].str.len() # get the length of the string\r\n",
        "df['contains_link'] = int(bool(df[\"Post Message\"].str.count(\"http\") +  df[\"Post Message\"].str.count(\"www\"))) # check if http or www are used in the string\r\n",
        "df['Time'] = df.Posted.dt.hour * 60 + df.Posted.dt.minute"
      ],
      "execution_count": 65,
      "outputs": []
    },
    {
      "cell_type": "code",
      "metadata": {
        "colab": {
          "base_uri": "https://localhost:8080/"
        },
        "id": "4W14yI3ZQ18o",
        "outputId": "a7799a95-41a7-49ec-a861-5fca191d648e"
      },
      "source": [
        "df[\"Post Message\"].str.count(\"http\")"
      ],
      "execution_count": 66,
      "outputs": [
        {
          "output_type": "execute_result",
          "data": {
            "text/plain": [
              "0      0.0\n",
              "1      1.0\n",
              "2      0.0\n",
              "3      0.0\n",
              "4      0.0\n",
              "      ... \n",
              "97     0.0\n",
              "98     0.0\n",
              "99     0.0\n",
              "100    0.0\n",
              "101    NaN\n",
              "Name: Post Message, Length: 102, dtype: float64"
            ]
          },
          "metadata": {
            "tags": []
          },
          "execution_count": 66
        }
      ]
    },
    {
      "cell_type": "code",
      "metadata": {
        "id": "0r-0BNgnZUAC"
      },
      "source": [
        "df.tail()"
      ],
      "execution_count": null,
      "outputs": []
    },
    {
      "cell_type": "code",
      "metadata": {
        "id": "egApuSRlSFAg"
      },
      "source": [
        "Types_df = pd.get_dummies(df.Type, prefix='Type')\r\n",
        "Weather_df = pd.get_dummies(df.Weather, prefix='Weather')\r\n",
        "Weekend_df = pd.get_dummies(df.Weekend, prefix='Weekend', drop_first=True)\r\n",
        "df = pd.concat([df, Types_df, Weather_df, Weekend_df], axis=1)"
      ],
      "execution_count": 42,
      "outputs": []
    },
    {
      "cell_type": "code",
      "metadata": {
        "colab": {
          "base_uri": "https://localhost:8080/",
          "height": 394
        },
        "id": "rtYujuxOVwCQ",
        "outputId": "389cd0f3-b952-4e8f-eb94-582f0cc47c7a"
      },
      "source": [
        "df.head()"
      ],
      "execution_count": 43,
      "outputs": [
        {
          "output_type": "execute_result",
          "data": {
            "text/html": [
              "<div>\n",
              "<style scoped>\n",
              "    .dataframe tbody tr th:only-of-type {\n",
              "        vertical-align: middle;\n",
              "    }\n",
              "\n",
              "    .dataframe tbody tr th {\n",
              "        vertical-align: top;\n",
              "    }\n",
              "\n",
              "    .dataframe thead th {\n",
              "        text-align: right;\n",
              "    }\n",
              "</style>\n",
              "<table border=\"1\" class=\"dataframe\">\n",
              "  <thead>\n",
              "    <tr style=\"text-align: right;\">\n",
              "      <th></th>\n",
              "      <th>Post Message</th>\n",
              "      <th>Type</th>\n",
              "      <th>Posted</th>\n",
              "      <th>Impressions</th>\n",
              "      <th>Weather</th>\n",
              "      <th>Weekend</th>\n",
              "      <th>Type_Link</th>\n",
              "      <th>Type_Photo</th>\n",
              "      <th>Type_SharedVideo</th>\n",
              "      <th>Type_Status</th>\n",
              "      <th>Type_Video</th>\n",
              "      <th>Weather_Rain</th>\n",
              "      <th>Weather_Snow</th>\n",
              "      <th>Weather_Thunder</th>\n",
              "      <th>Weekend_Y</th>\n",
              "    </tr>\n",
              "  </thead>\n",
              "  <tbody>\n",
              "    <tr>\n",
              "      <th>0</th>\n",
              "      <td>Dont forget, our Spring Savings Event is going...</td>\n",
              "      <td>Photo</td>\n",
              "      <td>2016-03-03 03:13:12</td>\n",
              "      <td>1220.0</td>\n",
              "      <td>Snow</td>\n",
              "      <td>N</td>\n",
              "      <td>0</td>\n",
              "      <td>1</td>\n",
              "      <td>0</td>\n",
              "      <td>0</td>\n",
              "      <td>0</td>\n",
              "      <td>0</td>\n",
              "      <td>1</td>\n",
              "      <td>0</td>\n",
              "      <td>0</td>\n",
              "    </tr>\n",
              "    <tr>\n",
              "      <th>1</th>\n",
              "      <td>https://www.facebook.com/natalie.birner/posts/...</td>\n",
              "      <td>SharedVideo</td>\n",
              "      <td>2016-03-03 06:05:04</td>\n",
              "      <td>165.0</td>\n",
              "      <td>Snow</td>\n",
              "      <td>N</td>\n",
              "      <td>0</td>\n",
              "      <td>0</td>\n",
              "      <td>1</td>\n",
              "      <td>0</td>\n",
              "      <td>0</td>\n",
              "      <td>0</td>\n",
              "      <td>1</td>\n",
              "      <td>0</td>\n",
              "      <td>0</td>\n",
              "    </tr>\n",
              "    <tr>\n",
              "      <th>2</th>\n",
              "      <td>Got a new bike in the last year or so and look...</td>\n",
              "      <td>Photo</td>\n",
              "      <td>2016-03-04 12:25:06</td>\n",
              "      <td>1398.0</td>\n",
              "      <td>Snow</td>\n",
              "      <td>Y</td>\n",
              "      <td>0</td>\n",
              "      <td>1</td>\n",
              "      <td>0</td>\n",
              "      <td>0</td>\n",
              "      <td>0</td>\n",
              "      <td>0</td>\n",
              "      <td>1</td>\n",
              "      <td>0</td>\n",
              "      <td>1</td>\n",
              "    </tr>\n",
              "    <tr>\n",
              "      <th>3</th>\n",
              "      <td>Just in! New HiVis Endura jerseys and riding s...</td>\n",
              "      <td>Photo</td>\n",
              "      <td>2016-03-04 13:16:22</td>\n",
              "      <td>1174.0</td>\n",
              "      <td>Snow</td>\n",
              "      <td>Y</td>\n",
              "      <td>0</td>\n",
              "      <td>1</td>\n",
              "      <td>0</td>\n",
              "      <td>0</td>\n",
              "      <td>0</td>\n",
              "      <td>0</td>\n",
              "      <td>1</td>\n",
              "      <td>0</td>\n",
              "      <td>1</td>\n",
              "    </tr>\n",
              "    <tr>\n",
              "      <th>4</th>\n",
              "      <td>Sale ends March 31</td>\n",
              "      <td>Photo</td>\n",
              "      <td>2016-03-04 14:19:07</td>\n",
              "      <td>1030.0</td>\n",
              "      <td>Snow</td>\n",
              "      <td>Y</td>\n",
              "      <td>0</td>\n",
              "      <td>1</td>\n",
              "      <td>0</td>\n",
              "      <td>0</td>\n",
              "      <td>0</td>\n",
              "      <td>0</td>\n",
              "      <td>1</td>\n",
              "      <td>0</td>\n",
              "      <td>1</td>\n",
              "    </tr>\n",
              "  </tbody>\n",
              "</table>\n",
              "</div>"
            ],
            "text/plain": [
              "                                        Post Message  ... Weekend_Y\n",
              "0  Dont forget, our Spring Savings Event is going...  ...         0\n",
              "1  https://www.facebook.com/natalie.birner/posts/...  ...         0\n",
              "2  Got a new bike in the last year or so and look...  ...         1\n",
              "3  Just in! New HiVis Endura jerseys and riding s...  ...         1\n",
              "4                                 Sale ends March 31  ...         1\n",
              "\n",
              "[5 rows x 15 columns]"
            ]
          },
          "metadata": {
            "tags": []
          },
          "execution_count": 43
        }
      ]
    },
    {
      "cell_type": "code",
      "metadata": {
        "colab": {
          "base_uri": "https://localhost:8080/",
          "height": 379
        },
        "id": "8m67VNPRWugZ",
        "outputId": "bd590060-5732-46bb-e95b-d3baaad3a645"
      },
      "source": [
        "df.corr()"
      ],
      "execution_count": 44,
      "outputs": [
        {
          "output_type": "execute_result",
          "data": {
            "text/html": [
              "<div>\n",
              "<style scoped>\n",
              "    .dataframe tbody tr th:only-of-type {\n",
              "        vertical-align: middle;\n",
              "    }\n",
              "\n",
              "    .dataframe tbody tr th {\n",
              "        vertical-align: top;\n",
              "    }\n",
              "\n",
              "    .dataframe thead th {\n",
              "        text-align: right;\n",
              "    }\n",
              "</style>\n",
              "<table border=\"1\" class=\"dataframe\">\n",
              "  <thead>\n",
              "    <tr style=\"text-align: right;\">\n",
              "      <th></th>\n",
              "      <th>Impressions</th>\n",
              "      <th>Type_Link</th>\n",
              "      <th>Type_Photo</th>\n",
              "      <th>Type_SharedVideo</th>\n",
              "      <th>Type_Status</th>\n",
              "      <th>Type_Video</th>\n",
              "      <th>Weather_Rain</th>\n",
              "      <th>Weather_Snow</th>\n",
              "      <th>Weather_Thunder</th>\n",
              "      <th>Weekend_Y</th>\n",
              "    </tr>\n",
              "  </thead>\n",
              "  <tbody>\n",
              "    <tr>\n",
              "      <th>Impressions</th>\n",
              "      <td>1.000000</td>\n",
              "      <td>0.053028</td>\n",
              "      <td>0.480979</td>\n",
              "      <td>-0.138842</td>\n",
              "      <td>-0.524618</td>\n",
              "      <td>-0.034063</td>\n",
              "      <td>0.059085</td>\n",
              "      <td>0.081404</td>\n",
              "      <td>0.073539</td>\n",
              "      <td>-0.355357</td>\n",
              "    </tr>\n",
              "    <tr>\n",
              "      <th>Type_Link</th>\n",
              "      <td>0.053028</td>\n",
              "      <td>1.000000</td>\n",
              "      <td>-0.387298</td>\n",
              "      <td>-0.043994</td>\n",
              "      <td>-0.172559</td>\n",
              "      <td>-0.062849</td>\n",
              "      <td>-0.006424</td>\n",
              "      <td>0.052275</td>\n",
              "      <td>-0.043994</td>\n",
              "      <td>-0.020657</td>\n",
              "    </tr>\n",
              "    <tr>\n",
              "      <th>Type_Photo</th>\n",
              "      <td>0.480979</td>\n",
              "      <td>-0.387298</td>\n",
              "      <td>1.000000</td>\n",
              "      <td>-0.176068</td>\n",
              "      <td>-0.690596</td>\n",
              "      <td>-0.251526</td>\n",
              "      <td>-0.096203</td>\n",
              "      <td>0.059180</td>\n",
              "      <td>0.113592</td>\n",
              "      <td>-0.141605</td>\n",
              "    </tr>\n",
              "    <tr>\n",
              "      <th>Type_SharedVideo</th>\n",
              "      <td>-0.138842</td>\n",
              "      <td>-0.043994</td>\n",
              "      <td>-0.176068</td>\n",
              "      <td>1.000000</td>\n",
              "      <td>-0.078446</td>\n",
              "      <td>-0.028571</td>\n",
              "      <td>-0.102214</td>\n",
              "      <td>0.241300</td>\n",
              "      <td>-0.020000</td>\n",
              "      <td>-0.025355</td>\n",
              "    </tr>\n",
              "    <tr>\n",
              "      <th>Type_Status</th>\n",
              "      <td>-0.524618</td>\n",
              "      <td>-0.172559</td>\n",
              "      <td>-0.690596</td>\n",
              "      <td>-0.078446</td>\n",
              "      <td>1.000000</td>\n",
              "      <td>-0.112066</td>\n",
              "      <td>0.134594</td>\n",
              "      <td>-0.150572</td>\n",
              "      <td>-0.078446</td>\n",
              "      <td>0.229285</td>\n",
              "    </tr>\n",
              "    <tr>\n",
              "      <th>Type_Video</th>\n",
              "      <td>-0.034063</td>\n",
              "      <td>-0.062849</td>\n",
              "      <td>-0.251526</td>\n",
              "      <td>-0.028571</td>\n",
              "      <td>-0.112066</td>\n",
              "      <td>1.000000</td>\n",
              "      <td>0.066752</td>\n",
              "      <td>-0.054841</td>\n",
              "      <td>-0.028571</td>\n",
              "      <td>-0.036221</td>\n",
              "    </tr>\n",
              "    <tr>\n",
              "      <th>Weather_Rain</th>\n",
              "      <td>0.059085</td>\n",
              "      <td>-0.006424</td>\n",
              "      <td>-0.096203</td>\n",
              "      <td>-0.102214</td>\n",
              "      <td>0.134594</td>\n",
              "      <td>0.066752</td>\n",
              "      <td>1.000000</td>\n",
              "      <td>-0.196193</td>\n",
              "      <td>-0.102214</td>\n",
              "      <td>0.059237</td>\n",
              "    </tr>\n",
              "    <tr>\n",
              "      <th>Weather_Snow</th>\n",
              "      <td>0.081404</td>\n",
              "      <td>0.052275</td>\n",
              "      <td>0.059180</td>\n",
              "      <td>0.241300</td>\n",
              "      <td>-0.150572</td>\n",
              "      <td>-0.054841</td>\n",
              "      <td>-0.196193</td>\n",
              "      <td>1.000000</td>\n",
              "      <td>-0.038389</td>\n",
              "      <td>0.069523</td>\n",
              "    </tr>\n",
              "    <tr>\n",
              "      <th>Weather_Thunder</th>\n",
              "      <td>0.073539</td>\n",
              "      <td>-0.043994</td>\n",
              "      <td>0.113592</td>\n",
              "      <td>-0.020000</td>\n",
              "      <td>-0.078446</td>\n",
              "      <td>-0.028571</td>\n",
              "      <td>-0.102214</td>\n",
              "      <td>-0.038389</td>\n",
              "      <td>1.000000</td>\n",
              "      <td>-0.169031</td>\n",
              "    </tr>\n",
              "    <tr>\n",
              "      <th>Weekend_Y</th>\n",
              "      <td>-0.355357</td>\n",
              "      <td>-0.020657</td>\n",
              "      <td>-0.141605</td>\n",
              "      <td>-0.025355</td>\n",
              "      <td>0.229285</td>\n",
              "      <td>-0.036221</td>\n",
              "      <td>0.059237</td>\n",
              "      <td>0.069523</td>\n",
              "      <td>-0.169031</td>\n",
              "      <td>1.000000</td>\n",
              "    </tr>\n",
              "  </tbody>\n",
              "</table>\n",
              "</div>"
            ],
            "text/plain": [
              "                  Impressions  Type_Link  ...  Weather_Thunder  Weekend_Y\n",
              "Impressions          1.000000   0.053028  ...         0.073539  -0.355357\n",
              "Type_Link            0.053028   1.000000  ...        -0.043994  -0.020657\n",
              "Type_Photo           0.480979  -0.387298  ...         0.113592  -0.141605\n",
              "Type_SharedVideo    -0.138842  -0.043994  ...        -0.020000  -0.025355\n",
              "Type_Status         -0.524618  -0.172559  ...        -0.078446   0.229285\n",
              "Type_Video          -0.034063  -0.062849  ...        -0.028571  -0.036221\n",
              "Weather_Rain         0.059085  -0.006424  ...        -0.102214   0.059237\n",
              "Weather_Snow         0.081404   0.052275  ...        -0.038389   0.069523\n",
              "Weather_Thunder      0.073539  -0.043994  ...         1.000000  -0.169031\n",
              "Weekend_Y           -0.355357  -0.020657  ...        -0.169031   1.000000\n",
              "\n",
              "[10 rows x 10 columns]"
            ]
          },
          "metadata": {
            "tags": []
          },
          "execution_count": 44
        }
      ]
    },
    {
      "cell_type": "code",
      "metadata": {
        "colab": {
          "base_uri": "https://localhost:8080/"
        },
        "id": "9lyr8EjKWyJH",
        "outputId": "0c3a5064-de31-4a4d-aea8-912aefa57a2d"
      },
      "source": [
        "df.Posted[0].hour * 60 + df.Posted[0].minute"
      ],
      "execution_count": 54,
      "outputs": [
        {
          "output_type": "execute_result",
          "data": {
            "text/plain": [
              "193"
            ]
          },
          "metadata": {
            "tags": []
          },
          "execution_count": 54
        }
      ]
    },
    {
      "cell_type": "code",
      "metadata": {
        "id": "oFPlvIKJXRtH"
      },
      "source": [
        ""
      ],
      "execution_count": null,
      "outputs": []
    }
  ]
}