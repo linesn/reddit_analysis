{
  "nbformat": 4,
  "nbformat_minor": 0,
  "metadata": {
    "colab": {
      "name": "vocabulary_entropy.ipynb",
      "provenance": [],
      "authorship_tag": "ABX9TyMZd2h1canzeVkwD7kJIPyP",
      "include_colab_link": true
    },
    "kernelspec": {
      "name": "python3",
      "display_name": "Python 3"
    },
    "language_info": {
      "name": "python"
    },
    "widgets": {
      "application/vnd.jupyter.widget-state+json": {
        "a69c1342ee4645afa35e881048ef5596": {
          "model_module": "@jupyter-widgets/controls",
          "model_name": "HBoxModel",
          "state": {
            "_view_name": "HBoxView",
            "_dom_classes": [],
            "_model_name": "HBoxModel",
            "_view_module": "@jupyter-widgets/controls",
            "_model_module_version": "1.5.0",
            "_view_count": null,
            "_view_module_version": "1.5.0",
            "box_style": "",
            "layout": "IPY_MODEL_128eaf8f2dc349959321751976fad9a5",
            "_model_module": "@jupyter-widgets/controls",
            "children": [
              "IPY_MODEL_c6825ec9c01c4282b6b0d7e23869e0cc",
              "IPY_MODEL_a7fc126e727d4dab9ae4f6eadd5c1807"
            ]
          }
        },
        "128eaf8f2dc349959321751976fad9a5": {
          "model_module": "@jupyter-widgets/base",
          "model_name": "LayoutModel",
          "state": {
            "_view_name": "LayoutView",
            "grid_template_rows": null,
            "right": null,
            "justify_content": null,
            "_view_module": "@jupyter-widgets/base",
            "overflow": null,
            "_model_module_version": "1.2.0",
            "_view_count": null,
            "flex_flow": null,
            "width": null,
            "min_width": null,
            "border": null,
            "align_items": null,
            "bottom": null,
            "_model_module": "@jupyter-widgets/base",
            "top": null,
            "grid_column": null,
            "overflow_y": null,
            "overflow_x": null,
            "grid_auto_flow": null,
            "grid_area": null,
            "grid_template_columns": null,
            "flex": null,
            "_model_name": "LayoutModel",
            "justify_items": null,
            "grid_row": null,
            "max_height": null,
            "align_content": null,
            "visibility": null,
            "align_self": null,
            "height": null,
            "min_height": null,
            "padding": null,
            "grid_auto_rows": null,
            "grid_gap": null,
            "max_width": null,
            "order": null,
            "_view_module_version": "1.2.0",
            "grid_template_areas": null,
            "object_position": null,
            "object_fit": null,
            "grid_auto_columns": null,
            "margin": null,
            "display": null,
            "left": null
          }
        },
        "c6825ec9c01c4282b6b0d7e23869e0cc": {
          "model_module": "@jupyter-widgets/controls",
          "model_name": "FloatProgressModel",
          "state": {
            "_view_name": "ProgressView",
            "style": "IPY_MODEL_50a6b2e87c484a388bf5e8706bd6a43e",
            "_dom_classes": [],
            "description": "100%",
            "_model_name": "FloatProgressModel",
            "bar_style": "success",
            "max": 10,
            "_view_module": "@jupyter-widgets/controls",
            "_model_module_version": "1.5.0",
            "value": 10,
            "_view_count": null,
            "_view_module_version": "1.5.0",
            "orientation": "horizontal",
            "min": 0,
            "description_tooltip": null,
            "_model_module": "@jupyter-widgets/controls",
            "layout": "IPY_MODEL_640d9f02cf244b069eb94d51197f41c0"
          }
        },
        "a7fc126e727d4dab9ae4f6eadd5c1807": {
          "model_module": "@jupyter-widgets/controls",
          "model_name": "HTMLModel",
          "state": {
            "_view_name": "HTMLView",
            "style": "IPY_MODEL_2e9ab7bf21c64c55b55757540ed7ae58",
            "_dom_classes": [],
            "description": "",
            "_model_name": "HTMLModel",
            "placeholder": "​",
            "_view_module": "@jupyter-widgets/controls",
            "_model_module_version": "1.5.0",
            "value": " 10/10 [01:11&lt;00:00,  7.12s/it]",
            "_view_count": null,
            "_view_module_version": "1.5.0",
            "description_tooltip": null,
            "_model_module": "@jupyter-widgets/controls",
            "layout": "IPY_MODEL_7003b8cf18294c58be169d81472fa7a0"
          }
        },
        "50a6b2e87c484a388bf5e8706bd6a43e": {
          "model_module": "@jupyter-widgets/controls",
          "model_name": "ProgressStyleModel",
          "state": {
            "_view_name": "StyleView",
            "_model_name": "ProgressStyleModel",
            "description_width": "initial",
            "_view_module": "@jupyter-widgets/base",
            "_model_module_version": "1.5.0",
            "_view_count": null,
            "_view_module_version": "1.2.0",
            "bar_color": null,
            "_model_module": "@jupyter-widgets/controls"
          }
        },
        "640d9f02cf244b069eb94d51197f41c0": {
          "model_module": "@jupyter-widgets/base",
          "model_name": "LayoutModel",
          "state": {
            "_view_name": "LayoutView",
            "grid_template_rows": null,
            "right": null,
            "justify_content": null,
            "_view_module": "@jupyter-widgets/base",
            "overflow": null,
            "_model_module_version": "1.2.0",
            "_view_count": null,
            "flex_flow": null,
            "width": null,
            "min_width": null,
            "border": null,
            "align_items": null,
            "bottom": null,
            "_model_module": "@jupyter-widgets/base",
            "top": null,
            "grid_column": null,
            "overflow_y": null,
            "overflow_x": null,
            "grid_auto_flow": null,
            "grid_area": null,
            "grid_template_columns": null,
            "flex": null,
            "_model_name": "LayoutModel",
            "justify_items": null,
            "grid_row": null,
            "max_height": null,
            "align_content": null,
            "visibility": null,
            "align_self": null,
            "height": null,
            "min_height": null,
            "padding": null,
            "grid_auto_rows": null,
            "grid_gap": null,
            "max_width": null,
            "order": null,
            "_view_module_version": "1.2.0",
            "grid_template_areas": null,
            "object_position": null,
            "object_fit": null,
            "grid_auto_columns": null,
            "margin": null,
            "display": null,
            "left": null
          }
        },
        "2e9ab7bf21c64c55b55757540ed7ae58": {
          "model_module": "@jupyter-widgets/controls",
          "model_name": "DescriptionStyleModel",
          "state": {
            "_view_name": "StyleView",
            "_model_name": "DescriptionStyleModel",
            "description_width": "",
            "_view_module": "@jupyter-widgets/base",
            "_model_module_version": "1.5.0",
            "_view_count": null,
            "_view_module_version": "1.2.0",
            "_model_module": "@jupyter-widgets/controls"
          }
        },
        "7003b8cf18294c58be169d81472fa7a0": {
          "model_module": "@jupyter-widgets/base",
          "model_name": "LayoutModel",
          "state": {
            "_view_name": "LayoutView",
            "grid_template_rows": null,
            "right": null,
            "justify_content": null,
            "_view_module": "@jupyter-widgets/base",
            "overflow": null,
            "_model_module_version": "1.2.0",
            "_view_count": null,
            "flex_flow": null,
            "width": null,
            "min_width": null,
            "border": null,
            "align_items": null,
            "bottom": null,
            "_model_module": "@jupyter-widgets/base",
            "top": null,
            "grid_column": null,
            "overflow_y": null,
            "overflow_x": null,
            "grid_auto_flow": null,
            "grid_area": null,
            "grid_template_columns": null,
            "flex": null,
            "_model_name": "LayoutModel",
            "justify_items": null,
            "grid_row": null,
            "max_height": null,
            "align_content": null,
            "visibility": null,
            "align_self": null,
            "height": null,
            "min_height": null,
            "padding": null,
            "grid_auto_rows": null,
            "grid_gap": null,
            "max_width": null,
            "order": null,
            "_view_module_version": "1.2.0",
            "grid_template_areas": null,
            "object_position": null,
            "object_fit": null,
            "grid_auto_columns": null,
            "margin": null,
            "display": null,
            "left": null
          }
        },
        "0e07f06f3f894ae188f7a66c857172c6": {
          "model_module": "@jupyter-widgets/controls",
          "model_name": "HBoxModel",
          "state": {
            "_view_name": "HBoxView",
            "_dom_classes": [],
            "_model_name": "HBoxModel",
            "_view_module": "@jupyter-widgets/controls",
            "_model_module_version": "1.5.0",
            "_view_count": null,
            "_view_module_version": "1.5.0",
            "box_style": "",
            "layout": "IPY_MODEL_6ed1836f0e9e4e81a7f9f689dfb1840e",
            "_model_module": "@jupyter-widgets/controls",
            "children": [
              "IPY_MODEL_9e5ffecc195a40b08215e815c15df30e",
              "IPY_MODEL_77a9d3a750054bed9cbc166daf39f7d0"
            ]
          }
        },
        "6ed1836f0e9e4e81a7f9f689dfb1840e": {
          "model_module": "@jupyter-widgets/base",
          "model_name": "LayoutModel",
          "state": {
            "_view_name": "LayoutView",
            "grid_template_rows": null,
            "right": null,
            "justify_content": null,
            "_view_module": "@jupyter-widgets/base",
            "overflow": null,
            "_model_module_version": "1.2.0",
            "_view_count": null,
            "flex_flow": null,
            "width": null,
            "min_width": null,
            "border": null,
            "align_items": null,
            "bottom": null,
            "_model_module": "@jupyter-widgets/base",
            "top": null,
            "grid_column": null,
            "overflow_y": null,
            "overflow_x": null,
            "grid_auto_flow": null,
            "grid_area": null,
            "grid_template_columns": null,
            "flex": null,
            "_model_name": "LayoutModel",
            "justify_items": null,
            "grid_row": null,
            "max_height": null,
            "align_content": null,
            "visibility": null,
            "align_self": null,
            "height": null,
            "min_height": null,
            "padding": null,
            "grid_auto_rows": null,
            "grid_gap": null,
            "max_width": null,
            "order": null,
            "_view_module_version": "1.2.0",
            "grid_template_areas": null,
            "object_position": null,
            "object_fit": null,
            "grid_auto_columns": null,
            "margin": null,
            "display": null,
            "left": null
          }
        },
        "9e5ffecc195a40b08215e815c15df30e": {
          "model_module": "@jupyter-widgets/controls",
          "model_name": "FloatProgressModel",
          "state": {
            "_view_name": "ProgressView",
            "style": "IPY_MODEL_392e3f8ffe4743659abb02ce645a2489",
            "_dom_classes": [],
            "description": "100%",
            "_model_name": "FloatProgressModel",
            "bar_style": "success",
            "max": 10,
            "_view_module": "@jupyter-widgets/controls",
            "_model_module_version": "1.5.0",
            "value": 10,
            "_view_count": null,
            "_view_module_version": "1.5.0",
            "orientation": "horizontal",
            "min": 0,
            "description_tooltip": null,
            "_model_module": "@jupyter-widgets/controls",
            "layout": "IPY_MODEL_8e934bcb27fc412581fd21685bd179cb"
          }
        },
        "77a9d3a750054bed9cbc166daf39f7d0": {
          "model_module": "@jupyter-widgets/controls",
          "model_name": "HTMLModel",
          "state": {
            "_view_name": "HTMLView",
            "style": "IPY_MODEL_d1e9155069334b999bbf8dd1a988fa19",
            "_dom_classes": [],
            "description": "",
            "_model_name": "HTMLModel",
            "placeholder": "​",
            "_view_module": "@jupyter-widgets/controls",
            "_model_module_version": "1.5.0",
            "value": " 10/10 [00:28&lt;00:00,  2.86s/it]",
            "_view_count": null,
            "_view_module_version": "1.5.0",
            "description_tooltip": null,
            "_model_module": "@jupyter-widgets/controls",
            "layout": "IPY_MODEL_942dedeef4374dca8925c8cada9f1b8c"
          }
        },
        "392e3f8ffe4743659abb02ce645a2489": {
          "model_module": "@jupyter-widgets/controls",
          "model_name": "ProgressStyleModel",
          "state": {
            "_view_name": "StyleView",
            "_model_name": "ProgressStyleModel",
            "description_width": "initial",
            "_view_module": "@jupyter-widgets/base",
            "_model_module_version": "1.5.0",
            "_view_count": null,
            "_view_module_version": "1.2.0",
            "bar_color": null,
            "_model_module": "@jupyter-widgets/controls"
          }
        },
        "8e934bcb27fc412581fd21685bd179cb": {
          "model_module": "@jupyter-widgets/base",
          "model_name": "LayoutModel",
          "state": {
            "_view_name": "LayoutView",
            "grid_template_rows": null,
            "right": null,
            "justify_content": null,
            "_view_module": "@jupyter-widgets/base",
            "overflow": null,
            "_model_module_version": "1.2.0",
            "_view_count": null,
            "flex_flow": null,
            "width": null,
            "min_width": null,
            "border": null,
            "align_items": null,
            "bottom": null,
            "_model_module": "@jupyter-widgets/base",
            "top": null,
            "grid_column": null,
            "overflow_y": null,
            "overflow_x": null,
            "grid_auto_flow": null,
            "grid_area": null,
            "grid_template_columns": null,
            "flex": null,
            "_model_name": "LayoutModel",
            "justify_items": null,
            "grid_row": null,
            "max_height": null,
            "align_content": null,
            "visibility": null,
            "align_self": null,
            "height": null,
            "min_height": null,
            "padding": null,
            "grid_auto_rows": null,
            "grid_gap": null,
            "max_width": null,
            "order": null,
            "_view_module_version": "1.2.0",
            "grid_template_areas": null,
            "object_position": null,
            "object_fit": null,
            "grid_auto_columns": null,
            "margin": null,
            "display": null,
            "left": null
          }
        },
        "d1e9155069334b999bbf8dd1a988fa19": {
          "model_module": "@jupyter-widgets/controls",
          "model_name": "DescriptionStyleModel",
          "state": {
            "_view_name": "StyleView",
            "_model_name": "DescriptionStyleModel",
            "description_width": "",
            "_view_module": "@jupyter-widgets/base",
            "_model_module_version": "1.5.0",
            "_view_count": null,
            "_view_module_version": "1.2.0",
            "_model_module": "@jupyter-widgets/controls"
          }
        },
        "942dedeef4374dca8925c8cada9f1b8c": {
          "model_module": "@jupyter-widgets/base",
          "model_name": "LayoutModel",
          "state": {
            "_view_name": "LayoutView",
            "grid_template_rows": null,
            "right": null,
            "justify_content": null,
            "_view_module": "@jupyter-widgets/base",
            "overflow": null,
            "_model_module_version": "1.2.0",
            "_view_count": null,
            "flex_flow": null,
            "width": null,
            "min_width": null,
            "border": null,
            "align_items": null,
            "bottom": null,
            "_model_module": "@jupyter-widgets/base",
            "top": null,
            "grid_column": null,
            "overflow_y": null,
            "overflow_x": null,
            "grid_auto_flow": null,
            "grid_area": null,
            "grid_template_columns": null,
            "flex": null,
            "_model_name": "LayoutModel",
            "justify_items": null,
            "grid_row": null,
            "max_height": null,
            "align_content": null,
            "visibility": null,
            "align_self": null,
            "height": null,
            "min_height": null,
            "padding": null,
            "grid_auto_rows": null,
            "grid_gap": null,
            "max_width": null,
            "order": null,
            "_view_module_version": "1.2.0",
            "grid_template_areas": null,
            "object_position": null,
            "object_fit": null,
            "grid_auto_columns": null,
            "margin": null,
            "display": null,
            "left": null
          }
        },
        "56a17b1b02804e52be886144ec4b3fbb": {
          "model_module": "@jupyter-widgets/controls",
          "model_name": "HBoxModel",
          "state": {
            "_view_name": "HBoxView",
            "_dom_classes": [],
            "_model_name": "HBoxModel",
            "_view_module": "@jupyter-widgets/controls",
            "_model_module_version": "1.5.0",
            "_view_count": null,
            "_view_module_version": "1.5.0",
            "box_style": "",
            "layout": "IPY_MODEL_39391bac74b94d6bbbfc728ecfae113b",
            "_model_module": "@jupyter-widgets/controls",
            "children": [
              "IPY_MODEL_2ffd2f066e0840bbb4cb6c4e5e4d9a74",
              "IPY_MODEL_b074fca8e6dc4e93aa4d993c189f6b9b"
            ]
          }
        },
        "39391bac74b94d6bbbfc728ecfae113b": {
          "model_module": "@jupyter-widgets/base",
          "model_name": "LayoutModel",
          "state": {
            "_view_name": "LayoutView",
            "grid_template_rows": null,
            "right": null,
            "justify_content": null,
            "_view_module": "@jupyter-widgets/base",
            "overflow": null,
            "_model_module_version": "1.2.0",
            "_view_count": null,
            "flex_flow": null,
            "width": null,
            "min_width": null,
            "border": null,
            "align_items": null,
            "bottom": null,
            "_model_module": "@jupyter-widgets/base",
            "top": null,
            "grid_column": null,
            "overflow_y": null,
            "overflow_x": null,
            "grid_auto_flow": null,
            "grid_area": null,
            "grid_template_columns": null,
            "flex": null,
            "_model_name": "LayoutModel",
            "justify_items": null,
            "grid_row": null,
            "max_height": null,
            "align_content": null,
            "visibility": null,
            "align_self": null,
            "height": null,
            "min_height": null,
            "padding": null,
            "grid_auto_rows": null,
            "grid_gap": null,
            "max_width": null,
            "order": null,
            "_view_module_version": "1.2.0",
            "grid_template_areas": null,
            "object_position": null,
            "object_fit": null,
            "grid_auto_columns": null,
            "margin": null,
            "display": null,
            "left": null
          }
        },
        "2ffd2f066e0840bbb4cb6c4e5e4d9a74": {
          "model_module": "@jupyter-widgets/controls",
          "model_name": "FloatProgressModel",
          "state": {
            "_view_name": "ProgressView",
            "style": "IPY_MODEL_de8898ba41f14809a5348a8fe7f29a92",
            "_dom_classes": [],
            "description": "100%",
            "_model_name": "FloatProgressModel",
            "bar_style": "success",
            "max": 10,
            "_view_module": "@jupyter-widgets/controls",
            "_model_module_version": "1.5.0",
            "value": 10,
            "_view_count": null,
            "_view_module_version": "1.5.0",
            "orientation": "horizontal",
            "min": 0,
            "description_tooltip": null,
            "_model_module": "@jupyter-widgets/controls",
            "layout": "IPY_MODEL_2f1a38da43fb4890bbffef26a96f3f97"
          }
        },
        "b074fca8e6dc4e93aa4d993c189f6b9b": {
          "model_module": "@jupyter-widgets/controls",
          "model_name": "HTMLModel",
          "state": {
            "_view_name": "HTMLView",
            "style": "IPY_MODEL_21cb5c4c3c1f41a6b3421aa93e1ec84f",
            "_dom_classes": [],
            "description": "",
            "_model_name": "HTMLModel",
            "placeholder": "​",
            "_view_module": "@jupyter-widgets/controls",
            "_model_module_version": "1.5.0",
            "value": " 10/10 [00:02&lt;00:00,  3.46it/s]",
            "_view_count": null,
            "_view_module_version": "1.5.0",
            "description_tooltip": null,
            "_model_module": "@jupyter-widgets/controls",
            "layout": "IPY_MODEL_cfe81561cb894a5b8ff53e4aec44e044"
          }
        },
        "de8898ba41f14809a5348a8fe7f29a92": {
          "model_module": "@jupyter-widgets/controls",
          "model_name": "ProgressStyleModel",
          "state": {
            "_view_name": "StyleView",
            "_model_name": "ProgressStyleModel",
            "description_width": "initial",
            "_view_module": "@jupyter-widgets/base",
            "_model_module_version": "1.5.0",
            "_view_count": null,
            "_view_module_version": "1.2.0",
            "bar_color": null,
            "_model_module": "@jupyter-widgets/controls"
          }
        },
        "2f1a38da43fb4890bbffef26a96f3f97": {
          "model_module": "@jupyter-widgets/base",
          "model_name": "LayoutModel",
          "state": {
            "_view_name": "LayoutView",
            "grid_template_rows": null,
            "right": null,
            "justify_content": null,
            "_view_module": "@jupyter-widgets/base",
            "overflow": null,
            "_model_module_version": "1.2.0",
            "_view_count": null,
            "flex_flow": null,
            "width": null,
            "min_width": null,
            "border": null,
            "align_items": null,
            "bottom": null,
            "_model_module": "@jupyter-widgets/base",
            "top": null,
            "grid_column": null,
            "overflow_y": null,
            "overflow_x": null,
            "grid_auto_flow": null,
            "grid_area": null,
            "grid_template_columns": null,
            "flex": null,
            "_model_name": "LayoutModel",
            "justify_items": null,
            "grid_row": null,
            "max_height": null,
            "align_content": null,
            "visibility": null,
            "align_self": null,
            "height": null,
            "min_height": null,
            "padding": null,
            "grid_auto_rows": null,
            "grid_gap": null,
            "max_width": null,
            "order": null,
            "_view_module_version": "1.2.0",
            "grid_template_areas": null,
            "object_position": null,
            "object_fit": null,
            "grid_auto_columns": null,
            "margin": null,
            "display": null,
            "left": null
          }
        },
        "21cb5c4c3c1f41a6b3421aa93e1ec84f": {
          "model_module": "@jupyter-widgets/controls",
          "model_name": "DescriptionStyleModel",
          "state": {
            "_view_name": "StyleView",
            "_model_name": "DescriptionStyleModel",
            "description_width": "",
            "_view_module": "@jupyter-widgets/base",
            "_model_module_version": "1.5.0",
            "_view_count": null,
            "_view_module_version": "1.2.0",
            "_model_module": "@jupyter-widgets/controls"
          }
        },
        "cfe81561cb894a5b8ff53e4aec44e044": {
          "model_module": "@jupyter-widgets/base",
          "model_name": "LayoutModel",
          "state": {
            "_view_name": "LayoutView",
            "grid_template_rows": null,
            "right": null,
            "justify_content": null,
            "_view_module": "@jupyter-widgets/base",
            "overflow": null,
            "_model_module_version": "1.2.0",
            "_view_count": null,
            "flex_flow": null,
            "width": null,
            "min_width": null,
            "border": null,
            "align_items": null,
            "bottom": null,
            "_model_module": "@jupyter-widgets/base",
            "top": null,
            "grid_column": null,
            "overflow_y": null,
            "overflow_x": null,
            "grid_auto_flow": null,
            "grid_area": null,
            "grid_template_columns": null,
            "flex": null,
            "_model_name": "LayoutModel",
            "justify_items": null,
            "grid_row": null,
            "max_height": null,
            "align_content": null,
            "visibility": null,
            "align_self": null,
            "height": null,
            "min_height": null,
            "padding": null,
            "grid_auto_rows": null,
            "grid_gap": null,
            "max_width": null,
            "order": null,
            "_view_module_version": "1.2.0",
            "grid_template_areas": null,
            "object_position": null,
            "object_fit": null,
            "grid_auto_columns": null,
            "margin": null,
            "display": null,
            "left": null
          }
        },
        "6f7ade86ea244f139441f3adc7e53628": {
          "model_module": "@jupyter-widgets/controls",
          "model_name": "HBoxModel",
          "state": {
            "_view_name": "HBoxView",
            "_dom_classes": [],
            "_model_name": "HBoxModel",
            "_view_module": "@jupyter-widgets/controls",
            "_model_module_version": "1.5.0",
            "_view_count": null,
            "_view_module_version": "1.5.0",
            "box_style": "",
            "layout": "IPY_MODEL_019607c9268d47f89866f69c31804174",
            "_model_module": "@jupyter-widgets/controls",
            "children": [
              "IPY_MODEL_c8e16a58453f444b90e3bf5ad5a00a75",
              "IPY_MODEL_6f064b52937f4b8987cdd45fb4c1a5b0"
            ]
          }
        },
        "019607c9268d47f89866f69c31804174": {
          "model_module": "@jupyter-widgets/base",
          "model_name": "LayoutModel",
          "state": {
            "_view_name": "LayoutView",
            "grid_template_rows": null,
            "right": null,
            "justify_content": null,
            "_view_module": "@jupyter-widgets/base",
            "overflow": null,
            "_model_module_version": "1.2.0",
            "_view_count": null,
            "flex_flow": null,
            "width": null,
            "min_width": null,
            "border": null,
            "align_items": null,
            "bottom": null,
            "_model_module": "@jupyter-widgets/base",
            "top": null,
            "grid_column": null,
            "overflow_y": null,
            "overflow_x": null,
            "grid_auto_flow": null,
            "grid_area": null,
            "grid_template_columns": null,
            "flex": null,
            "_model_name": "LayoutModel",
            "justify_items": null,
            "grid_row": null,
            "max_height": null,
            "align_content": null,
            "visibility": null,
            "align_self": null,
            "height": null,
            "min_height": null,
            "padding": null,
            "grid_auto_rows": null,
            "grid_gap": null,
            "max_width": null,
            "order": null,
            "_view_module_version": "1.2.0",
            "grid_template_areas": null,
            "object_position": null,
            "object_fit": null,
            "grid_auto_columns": null,
            "margin": null,
            "display": null,
            "left": null
          }
        },
        "c8e16a58453f444b90e3bf5ad5a00a75": {
          "model_module": "@jupyter-widgets/controls",
          "model_name": "FloatProgressModel",
          "state": {
            "_view_name": "ProgressView",
            "style": "IPY_MODEL_97108b43cda941ea8a748f182ef8f906",
            "_dom_classes": [],
            "description": "100%",
            "_model_name": "FloatProgressModel",
            "bar_style": "success",
            "max": 10,
            "_view_module": "@jupyter-widgets/controls",
            "_model_module_version": "1.5.0",
            "value": 10,
            "_view_count": null,
            "_view_module_version": "1.5.0",
            "orientation": "horizontal",
            "min": 0,
            "description_tooltip": null,
            "_model_module": "@jupyter-widgets/controls",
            "layout": "IPY_MODEL_5dad04e7473d4649a376d76167d1ee44"
          }
        },
        "6f064b52937f4b8987cdd45fb4c1a5b0": {
          "model_module": "@jupyter-widgets/controls",
          "model_name": "HTMLModel",
          "state": {
            "_view_name": "HTMLView",
            "style": "IPY_MODEL_9dadc7248eac4b6fa924f2c66b207881",
            "_dom_classes": [],
            "description": "",
            "_model_name": "HTMLModel",
            "placeholder": "​",
            "_view_module": "@jupyter-widgets/controls",
            "_model_module_version": "1.5.0",
            "value": " 10/10 [00:41&lt;00:00,  4.18s/it]",
            "_view_count": null,
            "_view_module_version": "1.5.0",
            "description_tooltip": null,
            "_model_module": "@jupyter-widgets/controls",
            "layout": "IPY_MODEL_fcb6607eb52849c59862cf6bf69250ff"
          }
        },
        "97108b43cda941ea8a748f182ef8f906": {
          "model_module": "@jupyter-widgets/controls",
          "model_name": "ProgressStyleModel",
          "state": {
            "_view_name": "StyleView",
            "_model_name": "ProgressStyleModel",
            "description_width": "initial",
            "_view_module": "@jupyter-widgets/base",
            "_model_module_version": "1.5.0",
            "_view_count": null,
            "_view_module_version": "1.2.0",
            "bar_color": null,
            "_model_module": "@jupyter-widgets/controls"
          }
        },
        "5dad04e7473d4649a376d76167d1ee44": {
          "model_module": "@jupyter-widgets/base",
          "model_name": "LayoutModel",
          "state": {
            "_view_name": "LayoutView",
            "grid_template_rows": null,
            "right": null,
            "justify_content": null,
            "_view_module": "@jupyter-widgets/base",
            "overflow": null,
            "_model_module_version": "1.2.0",
            "_view_count": null,
            "flex_flow": null,
            "width": null,
            "min_width": null,
            "border": null,
            "align_items": null,
            "bottom": null,
            "_model_module": "@jupyter-widgets/base",
            "top": null,
            "grid_column": null,
            "overflow_y": null,
            "overflow_x": null,
            "grid_auto_flow": null,
            "grid_area": null,
            "grid_template_columns": null,
            "flex": null,
            "_model_name": "LayoutModel",
            "justify_items": null,
            "grid_row": null,
            "max_height": null,
            "align_content": null,
            "visibility": null,
            "align_self": null,
            "height": null,
            "min_height": null,
            "padding": null,
            "grid_auto_rows": null,
            "grid_gap": null,
            "max_width": null,
            "order": null,
            "_view_module_version": "1.2.0",
            "grid_template_areas": null,
            "object_position": null,
            "object_fit": null,
            "grid_auto_columns": null,
            "margin": null,
            "display": null,
            "left": null
          }
        },
        "9dadc7248eac4b6fa924f2c66b207881": {
          "model_module": "@jupyter-widgets/controls",
          "model_name": "DescriptionStyleModel",
          "state": {
            "_view_name": "StyleView",
            "_model_name": "DescriptionStyleModel",
            "description_width": "",
            "_view_module": "@jupyter-widgets/base",
            "_model_module_version": "1.5.0",
            "_view_count": null,
            "_view_module_version": "1.2.0",
            "_model_module": "@jupyter-widgets/controls"
          }
        },
        "fcb6607eb52849c59862cf6bf69250ff": {
          "model_module": "@jupyter-widgets/base",
          "model_name": "LayoutModel",
          "state": {
            "_view_name": "LayoutView",
            "grid_template_rows": null,
            "right": null,
            "justify_content": null,
            "_view_module": "@jupyter-widgets/base",
            "overflow": null,
            "_model_module_version": "1.2.0",
            "_view_count": null,
            "flex_flow": null,
            "width": null,
            "min_width": null,
            "border": null,
            "align_items": null,
            "bottom": null,
            "_model_module": "@jupyter-widgets/base",
            "top": null,
            "grid_column": null,
            "overflow_y": null,
            "overflow_x": null,
            "grid_auto_flow": null,
            "grid_area": null,
            "grid_template_columns": null,
            "flex": null,
            "_model_name": "LayoutModel",
            "justify_items": null,
            "grid_row": null,
            "max_height": null,
            "align_content": null,
            "visibility": null,
            "align_self": null,
            "height": null,
            "min_height": null,
            "padding": null,
            "grid_auto_rows": null,
            "grid_gap": null,
            "max_width": null,
            "order": null,
            "_view_module_version": "1.2.0",
            "grid_template_areas": null,
            "object_position": null,
            "object_fit": null,
            "grid_auto_columns": null,
            "margin": null,
            "display": null,
            "left": null
          }
        },
        "52f728ef81e74964861bd4bb26312c7c": {
          "model_module": "@jupyter-widgets/controls",
          "model_name": "HBoxModel",
          "state": {
            "_view_name": "HBoxView",
            "_dom_classes": [],
            "_model_name": "HBoxModel",
            "_view_module": "@jupyter-widgets/controls",
            "_model_module_version": "1.5.0",
            "_view_count": null,
            "_view_module_version": "1.5.0",
            "box_style": "",
            "layout": "IPY_MODEL_50f1a2bf34f849e8a4ee22024dfa81ad",
            "_model_module": "@jupyter-widgets/controls",
            "children": [
              "IPY_MODEL_496640dfa3e046d3be58f64893a34b0d",
              "IPY_MODEL_8ff12a6233224afd95f413307e38f20a"
            ]
          }
        },
        "50f1a2bf34f849e8a4ee22024dfa81ad": {
          "model_module": "@jupyter-widgets/base",
          "model_name": "LayoutModel",
          "state": {
            "_view_name": "LayoutView",
            "grid_template_rows": null,
            "right": null,
            "justify_content": null,
            "_view_module": "@jupyter-widgets/base",
            "overflow": null,
            "_model_module_version": "1.2.0",
            "_view_count": null,
            "flex_flow": null,
            "width": null,
            "min_width": null,
            "border": null,
            "align_items": null,
            "bottom": null,
            "_model_module": "@jupyter-widgets/base",
            "top": null,
            "grid_column": null,
            "overflow_y": null,
            "overflow_x": null,
            "grid_auto_flow": null,
            "grid_area": null,
            "grid_template_columns": null,
            "flex": null,
            "_model_name": "LayoutModel",
            "justify_items": null,
            "grid_row": null,
            "max_height": null,
            "align_content": null,
            "visibility": null,
            "align_self": null,
            "height": null,
            "min_height": null,
            "padding": null,
            "grid_auto_rows": null,
            "grid_gap": null,
            "max_width": null,
            "order": null,
            "_view_module_version": "1.2.0",
            "grid_template_areas": null,
            "object_position": null,
            "object_fit": null,
            "grid_auto_columns": null,
            "margin": null,
            "display": null,
            "left": null
          }
        },
        "496640dfa3e046d3be58f64893a34b0d": {
          "model_module": "@jupyter-widgets/controls",
          "model_name": "FloatProgressModel",
          "state": {
            "_view_name": "ProgressView",
            "style": "IPY_MODEL_8be1b90060144c44b75e1c98f169c124",
            "_dom_classes": [],
            "description": "100%",
            "_model_name": "FloatProgressModel",
            "bar_style": "success",
            "max": 100,
            "_view_module": "@jupyter-widgets/controls",
            "_model_module_version": "1.5.0",
            "value": 100,
            "_view_count": null,
            "_view_module_version": "1.5.0",
            "orientation": "horizontal",
            "min": 0,
            "description_tooltip": null,
            "_model_module": "@jupyter-widgets/controls",
            "layout": "IPY_MODEL_4b0e5a3e7462433982ba047977f6f7ff"
          }
        },
        "8ff12a6233224afd95f413307e38f20a": {
          "model_module": "@jupyter-widgets/controls",
          "model_name": "HTMLModel",
          "state": {
            "_view_name": "HTMLView",
            "style": "IPY_MODEL_cff5ff7b3e0a492aae33ad3254a1d9a1",
            "_dom_classes": [],
            "description": "",
            "_model_name": "HTMLModel",
            "placeholder": "​",
            "_view_module": "@jupyter-widgets/controls",
            "_model_module_version": "1.5.0",
            "value": " 100/100 [00:00&lt;00:00, 862.44it/s]",
            "_view_count": null,
            "_view_module_version": "1.5.0",
            "description_tooltip": null,
            "_model_module": "@jupyter-widgets/controls",
            "layout": "IPY_MODEL_4b4e1f279d824fef8c71cba9a46a80fd"
          }
        },
        "8be1b90060144c44b75e1c98f169c124": {
          "model_module": "@jupyter-widgets/controls",
          "model_name": "ProgressStyleModel",
          "state": {
            "_view_name": "StyleView",
            "_model_name": "ProgressStyleModel",
            "description_width": "initial",
            "_view_module": "@jupyter-widgets/base",
            "_model_module_version": "1.5.0",
            "_view_count": null,
            "_view_module_version": "1.2.0",
            "bar_color": null,
            "_model_module": "@jupyter-widgets/controls"
          }
        },
        "4b0e5a3e7462433982ba047977f6f7ff": {
          "model_module": "@jupyter-widgets/base",
          "model_name": "LayoutModel",
          "state": {
            "_view_name": "LayoutView",
            "grid_template_rows": null,
            "right": null,
            "justify_content": null,
            "_view_module": "@jupyter-widgets/base",
            "overflow": null,
            "_model_module_version": "1.2.0",
            "_view_count": null,
            "flex_flow": null,
            "width": null,
            "min_width": null,
            "border": null,
            "align_items": null,
            "bottom": null,
            "_model_module": "@jupyter-widgets/base",
            "top": null,
            "grid_column": null,
            "overflow_y": null,
            "overflow_x": null,
            "grid_auto_flow": null,
            "grid_area": null,
            "grid_template_columns": null,
            "flex": null,
            "_model_name": "LayoutModel",
            "justify_items": null,
            "grid_row": null,
            "max_height": null,
            "align_content": null,
            "visibility": null,
            "align_self": null,
            "height": null,
            "min_height": null,
            "padding": null,
            "grid_auto_rows": null,
            "grid_gap": null,
            "max_width": null,
            "order": null,
            "_view_module_version": "1.2.0",
            "grid_template_areas": null,
            "object_position": null,
            "object_fit": null,
            "grid_auto_columns": null,
            "margin": null,
            "display": null,
            "left": null
          }
        },
        "cff5ff7b3e0a492aae33ad3254a1d9a1": {
          "model_module": "@jupyter-widgets/controls",
          "model_name": "DescriptionStyleModel",
          "state": {
            "_view_name": "StyleView",
            "_model_name": "DescriptionStyleModel",
            "description_width": "",
            "_view_module": "@jupyter-widgets/base",
            "_model_module_version": "1.5.0",
            "_view_count": null,
            "_view_module_version": "1.2.0",
            "_model_module": "@jupyter-widgets/controls"
          }
        },
        "4b4e1f279d824fef8c71cba9a46a80fd": {
          "model_module": "@jupyter-widgets/base",
          "model_name": "LayoutModel",
          "state": {
            "_view_name": "LayoutView",
            "grid_template_rows": null,
            "right": null,
            "justify_content": null,
            "_view_module": "@jupyter-widgets/base",
            "overflow": null,
            "_model_module_version": "1.2.0",
            "_view_count": null,
            "flex_flow": null,
            "width": null,
            "min_width": null,
            "border": null,
            "align_items": null,
            "bottom": null,
            "_model_module": "@jupyter-widgets/base",
            "top": null,
            "grid_column": null,
            "overflow_y": null,
            "overflow_x": null,
            "grid_auto_flow": null,
            "grid_area": null,
            "grid_template_columns": null,
            "flex": null,
            "_model_name": "LayoutModel",
            "justify_items": null,
            "grid_row": null,
            "max_height": null,
            "align_content": null,
            "visibility": null,
            "align_self": null,
            "height": null,
            "min_height": null,
            "padding": null,
            "grid_auto_rows": null,
            "grid_gap": null,
            "max_width": null,
            "order": null,
            "_view_module_version": "1.2.0",
            "grid_template_areas": null,
            "object_position": null,
            "object_fit": null,
            "grid_auto_columns": null,
            "margin": null,
            "display": null,
            "left": null
          }
        },
        "c185007ffe404b9ab5a25e701dc49bd0": {
          "model_module": "@jupyter-widgets/controls",
          "model_name": "HBoxModel",
          "state": {
            "_view_name": "HBoxView",
            "_dom_classes": [],
            "_model_name": "HBoxModel",
            "_view_module": "@jupyter-widgets/controls",
            "_model_module_version": "1.5.0",
            "_view_count": null,
            "_view_module_version": "1.5.0",
            "box_style": "",
            "layout": "IPY_MODEL_1b4616c4671240f1a0dae71074bdba82",
            "_model_module": "@jupyter-widgets/controls",
            "children": [
              "IPY_MODEL_bff52faa7dd74d63ae147c9c2ebd909f",
              "IPY_MODEL_0f898205d7be43e3a2ff781ca2c20331"
            ]
          }
        },
        "1b4616c4671240f1a0dae71074bdba82": {
          "model_module": "@jupyter-widgets/base",
          "model_name": "LayoutModel",
          "state": {
            "_view_name": "LayoutView",
            "grid_template_rows": null,
            "right": null,
            "justify_content": null,
            "_view_module": "@jupyter-widgets/base",
            "overflow": null,
            "_model_module_version": "1.2.0",
            "_view_count": null,
            "flex_flow": null,
            "width": null,
            "min_width": null,
            "border": null,
            "align_items": null,
            "bottom": null,
            "_model_module": "@jupyter-widgets/base",
            "top": null,
            "grid_column": null,
            "overflow_y": null,
            "overflow_x": null,
            "grid_auto_flow": null,
            "grid_area": null,
            "grid_template_columns": null,
            "flex": null,
            "_model_name": "LayoutModel",
            "justify_items": null,
            "grid_row": null,
            "max_height": null,
            "align_content": null,
            "visibility": null,
            "align_self": null,
            "height": null,
            "min_height": null,
            "padding": null,
            "grid_auto_rows": null,
            "grid_gap": null,
            "max_width": null,
            "order": null,
            "_view_module_version": "1.2.0",
            "grid_template_areas": null,
            "object_position": null,
            "object_fit": null,
            "grid_auto_columns": null,
            "margin": null,
            "display": null,
            "left": null
          }
        },
        "bff52faa7dd74d63ae147c9c2ebd909f": {
          "model_module": "@jupyter-widgets/controls",
          "model_name": "FloatProgressModel",
          "state": {
            "_view_name": "ProgressView",
            "style": "IPY_MODEL_868800eab8604c7e807763ad5927355b",
            "_dom_classes": [],
            "description": "100%",
            "_model_name": "FloatProgressModel",
            "bar_style": "success",
            "max": 100,
            "_view_module": "@jupyter-widgets/controls",
            "_model_module_version": "1.5.0",
            "value": 100,
            "_view_count": null,
            "_view_module_version": "1.5.0",
            "orientation": "horizontal",
            "min": 0,
            "description_tooltip": null,
            "_model_module": "@jupyter-widgets/controls",
            "layout": "IPY_MODEL_1a64bf3d68b645138d0cf28b386cf59c"
          }
        },
        "0f898205d7be43e3a2ff781ca2c20331": {
          "model_module": "@jupyter-widgets/controls",
          "model_name": "HTMLModel",
          "state": {
            "_view_name": "HTMLView",
            "style": "IPY_MODEL_3c102e257b1842deaa8a283ce5fe804c",
            "_dom_classes": [],
            "description": "",
            "_model_name": "HTMLModel",
            "placeholder": "​",
            "_view_module": "@jupyter-widgets/controls",
            "_model_module_version": "1.5.0",
            "value": " 100/100 [00:02&lt;00:00, 39.07it/s]",
            "_view_count": null,
            "_view_module_version": "1.5.0",
            "description_tooltip": null,
            "_model_module": "@jupyter-widgets/controls",
            "layout": "IPY_MODEL_e21a0ed5c8ef4100b1465d786a678494"
          }
        },
        "868800eab8604c7e807763ad5927355b": {
          "model_module": "@jupyter-widgets/controls",
          "model_name": "ProgressStyleModel",
          "state": {
            "_view_name": "StyleView",
            "_model_name": "ProgressStyleModel",
            "description_width": "initial",
            "_view_module": "@jupyter-widgets/base",
            "_model_module_version": "1.5.0",
            "_view_count": null,
            "_view_module_version": "1.2.0",
            "bar_color": null,
            "_model_module": "@jupyter-widgets/controls"
          }
        },
        "1a64bf3d68b645138d0cf28b386cf59c": {
          "model_module": "@jupyter-widgets/base",
          "model_name": "LayoutModel",
          "state": {
            "_view_name": "LayoutView",
            "grid_template_rows": null,
            "right": null,
            "justify_content": null,
            "_view_module": "@jupyter-widgets/base",
            "overflow": null,
            "_model_module_version": "1.2.0",
            "_view_count": null,
            "flex_flow": null,
            "width": null,
            "min_width": null,
            "border": null,
            "align_items": null,
            "bottom": null,
            "_model_module": "@jupyter-widgets/base",
            "top": null,
            "grid_column": null,
            "overflow_y": null,
            "overflow_x": null,
            "grid_auto_flow": null,
            "grid_area": null,
            "grid_template_columns": null,
            "flex": null,
            "_model_name": "LayoutModel",
            "justify_items": null,
            "grid_row": null,
            "max_height": null,
            "align_content": null,
            "visibility": null,
            "align_self": null,
            "height": null,
            "min_height": null,
            "padding": null,
            "grid_auto_rows": null,
            "grid_gap": null,
            "max_width": null,
            "order": null,
            "_view_module_version": "1.2.0",
            "grid_template_areas": null,
            "object_position": null,
            "object_fit": null,
            "grid_auto_columns": null,
            "margin": null,
            "display": null,
            "left": null
          }
        },
        "3c102e257b1842deaa8a283ce5fe804c": {
          "model_module": "@jupyter-widgets/controls",
          "model_name": "DescriptionStyleModel",
          "state": {
            "_view_name": "StyleView",
            "_model_name": "DescriptionStyleModel",
            "description_width": "",
            "_view_module": "@jupyter-widgets/base",
            "_model_module_version": "1.5.0",
            "_view_count": null,
            "_view_module_version": "1.2.0",
            "_model_module": "@jupyter-widgets/controls"
          }
        },
        "e21a0ed5c8ef4100b1465d786a678494": {
          "model_module": "@jupyter-widgets/base",
          "model_name": "LayoutModel",
          "state": {
            "_view_name": "LayoutView",
            "grid_template_rows": null,
            "right": null,
            "justify_content": null,
            "_view_module": "@jupyter-widgets/base",
            "overflow": null,
            "_model_module_version": "1.2.0",
            "_view_count": null,
            "flex_flow": null,
            "width": null,
            "min_width": null,
            "border": null,
            "align_items": null,
            "bottom": null,
            "_model_module": "@jupyter-widgets/base",
            "top": null,
            "grid_column": null,
            "overflow_y": null,
            "overflow_x": null,
            "grid_auto_flow": null,
            "grid_area": null,
            "grid_template_columns": null,
            "flex": null,
            "_model_name": "LayoutModel",
            "justify_items": null,
            "grid_row": null,
            "max_height": null,
            "align_content": null,
            "visibility": null,
            "align_self": null,
            "height": null,
            "min_height": null,
            "padding": null,
            "grid_auto_rows": null,
            "grid_gap": null,
            "max_width": null,
            "order": null,
            "_view_module_version": "1.2.0",
            "grid_template_areas": null,
            "object_position": null,
            "object_fit": null,
            "grid_auto_columns": null,
            "margin": null,
            "display": null,
            "left": null
          }
        },
        "3edbc0b2af924a45b889c5feddb378f4": {
          "model_module": "@jupyter-widgets/controls",
          "model_name": "HBoxModel",
          "state": {
            "_view_name": "HBoxView",
            "_dom_classes": [],
            "_model_name": "HBoxModel",
            "_view_module": "@jupyter-widgets/controls",
            "_model_module_version": "1.5.0",
            "_view_count": null,
            "_view_module_version": "1.5.0",
            "box_style": "",
            "layout": "IPY_MODEL_8cbdcc21c1874050b3b17ff34a2e0353",
            "_model_module": "@jupyter-widgets/controls",
            "children": [
              "IPY_MODEL_64a4b0a5e7394b589870921938128f8a",
              "IPY_MODEL_b570c473c3da4661a46603c26fbd9f8c"
            ]
          }
        },
        "8cbdcc21c1874050b3b17ff34a2e0353": {
          "model_module": "@jupyter-widgets/base",
          "model_name": "LayoutModel",
          "state": {
            "_view_name": "LayoutView",
            "grid_template_rows": null,
            "right": null,
            "justify_content": null,
            "_view_module": "@jupyter-widgets/base",
            "overflow": null,
            "_model_module_version": "1.2.0",
            "_view_count": null,
            "flex_flow": null,
            "width": null,
            "min_width": null,
            "border": null,
            "align_items": null,
            "bottom": null,
            "_model_module": "@jupyter-widgets/base",
            "top": null,
            "grid_column": null,
            "overflow_y": null,
            "overflow_x": null,
            "grid_auto_flow": null,
            "grid_area": null,
            "grid_template_columns": null,
            "flex": null,
            "_model_name": "LayoutModel",
            "justify_items": null,
            "grid_row": null,
            "max_height": null,
            "align_content": null,
            "visibility": null,
            "align_self": null,
            "height": null,
            "min_height": null,
            "padding": null,
            "grid_auto_rows": null,
            "grid_gap": null,
            "max_width": null,
            "order": null,
            "_view_module_version": "1.2.0",
            "grid_template_areas": null,
            "object_position": null,
            "object_fit": null,
            "grid_auto_columns": null,
            "margin": null,
            "display": null,
            "left": null
          }
        },
        "64a4b0a5e7394b589870921938128f8a": {
          "model_module": "@jupyter-widgets/controls",
          "model_name": "FloatProgressModel",
          "state": {
            "_view_name": "ProgressView",
            "style": "IPY_MODEL_251cceeefa25401ebfee51d509912a5f",
            "_dom_classes": [],
            "description": "100%",
            "_model_name": "FloatProgressModel",
            "bar_style": "success",
            "max": 100,
            "_view_module": "@jupyter-widgets/controls",
            "_model_module_version": "1.5.0",
            "value": 100,
            "_view_count": null,
            "_view_module_version": "1.5.0",
            "orientation": "horizontal",
            "min": 0,
            "description_tooltip": null,
            "_model_module": "@jupyter-widgets/controls",
            "layout": "IPY_MODEL_15a1765a3ff2459da388d92b8bcabbff"
          }
        },
        "b570c473c3da4661a46603c26fbd9f8c": {
          "model_module": "@jupyter-widgets/controls",
          "model_name": "HTMLModel",
          "state": {
            "_view_name": "HTMLView",
            "style": "IPY_MODEL_42902ff6c56b4ea6a1003077b84cb532",
            "_dom_classes": [],
            "description": "",
            "_model_name": "HTMLModel",
            "placeholder": "​",
            "_view_module": "@jupyter-widgets/controls",
            "_model_module_version": "1.5.0",
            "value": " 100/100 [00:01&lt;00:00, 57.33it/s]",
            "_view_count": null,
            "_view_module_version": "1.5.0",
            "description_tooltip": null,
            "_model_module": "@jupyter-widgets/controls",
            "layout": "IPY_MODEL_0dedb1510cc34fcab59b9a77d62566f9"
          }
        },
        "251cceeefa25401ebfee51d509912a5f": {
          "model_module": "@jupyter-widgets/controls",
          "model_name": "ProgressStyleModel",
          "state": {
            "_view_name": "StyleView",
            "_model_name": "ProgressStyleModel",
            "description_width": "initial",
            "_view_module": "@jupyter-widgets/base",
            "_model_module_version": "1.5.0",
            "_view_count": null,
            "_view_module_version": "1.2.0",
            "bar_color": null,
            "_model_module": "@jupyter-widgets/controls"
          }
        },
        "15a1765a3ff2459da388d92b8bcabbff": {
          "model_module": "@jupyter-widgets/base",
          "model_name": "LayoutModel",
          "state": {
            "_view_name": "LayoutView",
            "grid_template_rows": null,
            "right": null,
            "justify_content": null,
            "_view_module": "@jupyter-widgets/base",
            "overflow": null,
            "_model_module_version": "1.2.0",
            "_view_count": null,
            "flex_flow": null,
            "width": null,
            "min_width": null,
            "border": null,
            "align_items": null,
            "bottom": null,
            "_model_module": "@jupyter-widgets/base",
            "top": null,
            "grid_column": null,
            "overflow_y": null,
            "overflow_x": null,
            "grid_auto_flow": null,
            "grid_area": null,
            "grid_template_columns": null,
            "flex": null,
            "_model_name": "LayoutModel",
            "justify_items": null,
            "grid_row": null,
            "max_height": null,
            "align_content": null,
            "visibility": null,
            "align_self": null,
            "height": null,
            "min_height": null,
            "padding": null,
            "grid_auto_rows": null,
            "grid_gap": null,
            "max_width": null,
            "order": null,
            "_view_module_version": "1.2.0",
            "grid_template_areas": null,
            "object_position": null,
            "object_fit": null,
            "grid_auto_columns": null,
            "margin": null,
            "display": null,
            "left": null
          }
        },
        "42902ff6c56b4ea6a1003077b84cb532": {
          "model_module": "@jupyter-widgets/controls",
          "model_name": "DescriptionStyleModel",
          "state": {
            "_view_name": "StyleView",
            "_model_name": "DescriptionStyleModel",
            "description_width": "",
            "_view_module": "@jupyter-widgets/base",
            "_model_module_version": "1.5.0",
            "_view_count": null,
            "_view_module_version": "1.2.0",
            "_model_module": "@jupyter-widgets/controls"
          }
        },
        "0dedb1510cc34fcab59b9a77d62566f9": {
          "model_module": "@jupyter-widgets/base",
          "model_name": "LayoutModel",
          "state": {
            "_view_name": "LayoutView",
            "grid_template_rows": null,
            "right": null,
            "justify_content": null,
            "_view_module": "@jupyter-widgets/base",
            "overflow": null,
            "_model_module_version": "1.2.0",
            "_view_count": null,
            "flex_flow": null,
            "width": null,
            "min_width": null,
            "border": null,
            "align_items": null,
            "bottom": null,
            "_model_module": "@jupyter-widgets/base",
            "top": null,
            "grid_column": null,
            "overflow_y": null,
            "overflow_x": null,
            "grid_auto_flow": null,
            "grid_area": null,
            "grid_template_columns": null,
            "flex": null,
            "_model_name": "LayoutModel",
            "justify_items": null,
            "grid_row": null,
            "max_height": null,
            "align_content": null,
            "visibility": null,
            "align_self": null,
            "height": null,
            "min_height": null,
            "padding": null,
            "grid_auto_rows": null,
            "grid_gap": null,
            "max_width": null,
            "order": null,
            "_view_module_version": "1.2.0",
            "grid_template_areas": null,
            "object_position": null,
            "object_fit": null,
            "grid_auto_columns": null,
            "margin": null,
            "display": null,
            "left": null
          }
        },
        "0b725e6b1ac24088a53caf41a25fb6a4": {
          "model_module": "@jupyter-widgets/controls",
          "model_name": "HBoxModel",
          "state": {
            "_view_name": "HBoxView",
            "_dom_classes": [],
            "_model_name": "HBoxModel",
            "_view_module": "@jupyter-widgets/controls",
            "_model_module_version": "1.5.0",
            "_view_count": null,
            "_view_module_version": "1.5.0",
            "box_style": "",
            "layout": "IPY_MODEL_c785742aca1f433790e91a8a66d41b82",
            "_model_module": "@jupyter-widgets/controls",
            "children": [
              "IPY_MODEL_42ff58fc363745fca2682f736982ca32",
              "IPY_MODEL_4d4021441c7749d69bb95ab5c216d941"
            ]
          }
        },
        "c785742aca1f433790e91a8a66d41b82": {
          "model_module": "@jupyter-widgets/base",
          "model_name": "LayoutModel",
          "state": {
            "_view_name": "LayoutView",
            "grid_template_rows": null,
            "right": null,
            "justify_content": null,
            "_view_module": "@jupyter-widgets/base",
            "overflow": null,
            "_model_module_version": "1.2.0",
            "_view_count": null,
            "flex_flow": null,
            "width": null,
            "min_width": null,
            "border": null,
            "align_items": null,
            "bottom": null,
            "_model_module": "@jupyter-widgets/base",
            "top": null,
            "grid_column": null,
            "overflow_y": null,
            "overflow_x": null,
            "grid_auto_flow": null,
            "grid_area": null,
            "grid_template_columns": null,
            "flex": null,
            "_model_name": "LayoutModel",
            "justify_items": null,
            "grid_row": null,
            "max_height": null,
            "align_content": null,
            "visibility": null,
            "align_self": null,
            "height": null,
            "min_height": null,
            "padding": null,
            "grid_auto_rows": null,
            "grid_gap": null,
            "max_width": null,
            "order": null,
            "_view_module_version": "1.2.0",
            "grid_template_areas": null,
            "object_position": null,
            "object_fit": null,
            "grid_auto_columns": null,
            "margin": null,
            "display": null,
            "left": null
          }
        },
        "42ff58fc363745fca2682f736982ca32": {
          "model_module": "@jupyter-widgets/controls",
          "model_name": "FloatProgressModel",
          "state": {
            "_view_name": "ProgressView",
            "style": "IPY_MODEL_47a8850abe4446de974f269d712f39c2",
            "_dom_classes": [],
            "description": "100%",
            "_model_name": "FloatProgressModel",
            "bar_style": "success",
            "max": 100,
            "_view_module": "@jupyter-widgets/controls",
            "_model_module_version": "1.5.0",
            "value": 100,
            "_view_count": null,
            "_view_module_version": "1.5.0",
            "orientation": "horizontal",
            "min": 0,
            "description_tooltip": null,
            "_model_module": "@jupyter-widgets/controls",
            "layout": "IPY_MODEL_e147d9cb8dc04270b4e168c16c178f52"
          }
        },
        "4d4021441c7749d69bb95ab5c216d941": {
          "model_module": "@jupyter-widgets/controls",
          "model_name": "HTMLModel",
          "state": {
            "_view_name": "HTMLView",
            "style": "IPY_MODEL_bdf3a2dd2d124f92b52b7076b1681cfd",
            "_dom_classes": [],
            "description": "",
            "_model_name": "HTMLModel",
            "placeholder": "​",
            "_view_module": "@jupyter-widgets/controls",
            "_model_module_version": "1.5.0",
            "value": " 100/100 [00:01&lt;00:00, 64.20it/s]",
            "_view_count": null,
            "_view_module_version": "1.5.0",
            "description_tooltip": null,
            "_model_module": "@jupyter-widgets/controls",
            "layout": "IPY_MODEL_10485ee32c024264b8d2502a9db3ae5a"
          }
        },
        "47a8850abe4446de974f269d712f39c2": {
          "model_module": "@jupyter-widgets/controls",
          "model_name": "ProgressStyleModel",
          "state": {
            "_view_name": "StyleView",
            "_model_name": "ProgressStyleModel",
            "description_width": "initial",
            "_view_module": "@jupyter-widgets/base",
            "_model_module_version": "1.5.0",
            "_view_count": null,
            "_view_module_version": "1.2.0",
            "bar_color": null,
            "_model_module": "@jupyter-widgets/controls"
          }
        },
        "e147d9cb8dc04270b4e168c16c178f52": {
          "model_module": "@jupyter-widgets/base",
          "model_name": "LayoutModel",
          "state": {
            "_view_name": "LayoutView",
            "grid_template_rows": null,
            "right": null,
            "justify_content": null,
            "_view_module": "@jupyter-widgets/base",
            "overflow": null,
            "_model_module_version": "1.2.0",
            "_view_count": null,
            "flex_flow": null,
            "width": null,
            "min_width": null,
            "border": null,
            "align_items": null,
            "bottom": null,
            "_model_module": "@jupyter-widgets/base",
            "top": null,
            "grid_column": null,
            "overflow_y": null,
            "overflow_x": null,
            "grid_auto_flow": null,
            "grid_area": null,
            "grid_template_columns": null,
            "flex": null,
            "_model_name": "LayoutModel",
            "justify_items": null,
            "grid_row": null,
            "max_height": null,
            "align_content": null,
            "visibility": null,
            "align_self": null,
            "height": null,
            "min_height": null,
            "padding": null,
            "grid_auto_rows": null,
            "grid_gap": null,
            "max_width": null,
            "order": null,
            "_view_module_version": "1.2.0",
            "grid_template_areas": null,
            "object_position": null,
            "object_fit": null,
            "grid_auto_columns": null,
            "margin": null,
            "display": null,
            "left": null
          }
        },
        "bdf3a2dd2d124f92b52b7076b1681cfd": {
          "model_module": "@jupyter-widgets/controls",
          "model_name": "DescriptionStyleModel",
          "state": {
            "_view_name": "StyleView",
            "_model_name": "DescriptionStyleModel",
            "description_width": "",
            "_view_module": "@jupyter-widgets/base",
            "_model_module_version": "1.5.0",
            "_view_count": null,
            "_view_module_version": "1.2.0",
            "_model_module": "@jupyter-widgets/controls"
          }
        },
        "10485ee32c024264b8d2502a9db3ae5a": {
          "model_module": "@jupyter-widgets/base",
          "model_name": "LayoutModel",
          "state": {
            "_view_name": "LayoutView",
            "grid_template_rows": null,
            "right": null,
            "justify_content": null,
            "_view_module": "@jupyter-widgets/base",
            "overflow": null,
            "_model_module_version": "1.2.0",
            "_view_count": null,
            "flex_flow": null,
            "width": null,
            "min_width": null,
            "border": null,
            "align_items": null,
            "bottom": null,
            "_model_module": "@jupyter-widgets/base",
            "top": null,
            "grid_column": null,
            "overflow_y": null,
            "overflow_x": null,
            "grid_auto_flow": null,
            "grid_area": null,
            "grid_template_columns": null,
            "flex": null,
            "_model_name": "LayoutModel",
            "justify_items": null,
            "grid_row": null,
            "max_height": null,
            "align_content": null,
            "visibility": null,
            "align_self": null,
            "height": null,
            "min_height": null,
            "padding": null,
            "grid_auto_rows": null,
            "grid_gap": null,
            "max_width": null,
            "order": null,
            "_view_module_version": "1.2.0",
            "grid_template_areas": null,
            "object_position": null,
            "object_fit": null,
            "grid_auto_columns": null,
            "margin": null,
            "display": null,
            "left": null
          }
        },
        "c71c40ea6ab248e5af5a472369b595a4": {
          "model_module": "@jupyter-widgets/controls",
          "model_name": "HBoxModel",
          "state": {
            "_view_name": "HBoxView",
            "_dom_classes": [],
            "_model_name": "HBoxModel",
            "_view_module": "@jupyter-widgets/controls",
            "_model_module_version": "1.5.0",
            "_view_count": null,
            "_view_module_version": "1.5.0",
            "box_style": "",
            "layout": "IPY_MODEL_2a9bf327c8084780ad41692792a8326f",
            "_model_module": "@jupyter-widgets/controls",
            "children": [
              "IPY_MODEL_83779e94dd6b4d139d2776f969a13e1a",
              "IPY_MODEL_a2454d63aa8d4389b731df16776ab770"
            ]
          }
        },
        "2a9bf327c8084780ad41692792a8326f": {
          "model_module": "@jupyter-widgets/base",
          "model_name": "LayoutModel",
          "state": {
            "_view_name": "LayoutView",
            "grid_template_rows": null,
            "right": null,
            "justify_content": null,
            "_view_module": "@jupyter-widgets/base",
            "overflow": null,
            "_model_module_version": "1.2.0",
            "_view_count": null,
            "flex_flow": null,
            "width": null,
            "min_width": null,
            "border": null,
            "align_items": null,
            "bottom": null,
            "_model_module": "@jupyter-widgets/base",
            "top": null,
            "grid_column": null,
            "overflow_y": null,
            "overflow_x": null,
            "grid_auto_flow": null,
            "grid_area": null,
            "grid_template_columns": null,
            "flex": null,
            "_model_name": "LayoutModel",
            "justify_items": null,
            "grid_row": null,
            "max_height": null,
            "align_content": null,
            "visibility": null,
            "align_self": null,
            "height": null,
            "min_height": null,
            "padding": null,
            "grid_auto_rows": null,
            "grid_gap": null,
            "max_width": null,
            "order": null,
            "_view_module_version": "1.2.0",
            "grid_template_areas": null,
            "object_position": null,
            "object_fit": null,
            "grid_auto_columns": null,
            "margin": null,
            "display": null,
            "left": null
          }
        },
        "83779e94dd6b4d139d2776f969a13e1a": {
          "model_module": "@jupyter-widgets/controls",
          "model_name": "FloatProgressModel",
          "state": {
            "_view_name": "ProgressView",
            "style": "IPY_MODEL_abf2714b7fbb48d68219b66adf88f2f6",
            "_dom_classes": [],
            "description": "100%",
            "_model_name": "FloatProgressModel",
            "bar_style": "success",
            "max": 100,
            "_view_module": "@jupyter-widgets/controls",
            "_model_module_version": "1.5.0",
            "value": 100,
            "_view_count": null,
            "_view_module_version": "1.5.0",
            "orientation": "horizontal",
            "min": 0,
            "description_tooltip": null,
            "_model_module": "@jupyter-widgets/controls",
            "layout": "IPY_MODEL_5cb4fc79c8bf476bb88be015af7bbaab"
          }
        },
        "a2454d63aa8d4389b731df16776ab770": {
          "model_module": "@jupyter-widgets/controls",
          "model_name": "HTMLModel",
          "state": {
            "_view_name": "HTMLView",
            "style": "IPY_MODEL_c70e3e15765d4bca85e8ab21225d487a",
            "_dom_classes": [],
            "description": "",
            "_model_name": "HTMLModel",
            "placeholder": "​",
            "_view_module": "@jupyter-widgets/controls",
            "_model_module_version": "1.5.0",
            "value": " 100/100 [00:01&lt;00:00, 56.79it/s]",
            "_view_count": null,
            "_view_module_version": "1.5.0",
            "description_tooltip": null,
            "_model_module": "@jupyter-widgets/controls",
            "layout": "IPY_MODEL_7ff442bf9a834c3398625b82ef77aad6"
          }
        },
        "abf2714b7fbb48d68219b66adf88f2f6": {
          "model_module": "@jupyter-widgets/controls",
          "model_name": "ProgressStyleModel",
          "state": {
            "_view_name": "StyleView",
            "_model_name": "ProgressStyleModel",
            "description_width": "initial",
            "_view_module": "@jupyter-widgets/base",
            "_model_module_version": "1.5.0",
            "_view_count": null,
            "_view_module_version": "1.2.0",
            "bar_color": null,
            "_model_module": "@jupyter-widgets/controls"
          }
        },
        "5cb4fc79c8bf476bb88be015af7bbaab": {
          "model_module": "@jupyter-widgets/base",
          "model_name": "LayoutModel",
          "state": {
            "_view_name": "LayoutView",
            "grid_template_rows": null,
            "right": null,
            "justify_content": null,
            "_view_module": "@jupyter-widgets/base",
            "overflow": null,
            "_model_module_version": "1.2.0",
            "_view_count": null,
            "flex_flow": null,
            "width": null,
            "min_width": null,
            "border": null,
            "align_items": null,
            "bottom": null,
            "_model_module": "@jupyter-widgets/base",
            "top": null,
            "grid_column": null,
            "overflow_y": null,
            "overflow_x": null,
            "grid_auto_flow": null,
            "grid_area": null,
            "grid_template_columns": null,
            "flex": null,
            "_model_name": "LayoutModel",
            "justify_items": null,
            "grid_row": null,
            "max_height": null,
            "align_content": null,
            "visibility": null,
            "align_self": null,
            "height": null,
            "min_height": null,
            "padding": null,
            "grid_auto_rows": null,
            "grid_gap": null,
            "max_width": null,
            "order": null,
            "_view_module_version": "1.2.0",
            "grid_template_areas": null,
            "object_position": null,
            "object_fit": null,
            "grid_auto_columns": null,
            "margin": null,
            "display": null,
            "left": null
          }
        },
        "c70e3e15765d4bca85e8ab21225d487a": {
          "model_module": "@jupyter-widgets/controls",
          "model_name": "DescriptionStyleModel",
          "state": {
            "_view_name": "StyleView",
            "_model_name": "DescriptionStyleModel",
            "description_width": "",
            "_view_module": "@jupyter-widgets/base",
            "_model_module_version": "1.5.0",
            "_view_count": null,
            "_view_module_version": "1.2.0",
            "_model_module": "@jupyter-widgets/controls"
          }
        },
        "7ff442bf9a834c3398625b82ef77aad6": {
          "model_module": "@jupyter-widgets/base",
          "model_name": "LayoutModel",
          "state": {
            "_view_name": "LayoutView",
            "grid_template_rows": null,
            "right": null,
            "justify_content": null,
            "_view_module": "@jupyter-widgets/base",
            "overflow": null,
            "_model_module_version": "1.2.0",
            "_view_count": null,
            "flex_flow": null,
            "width": null,
            "min_width": null,
            "border": null,
            "align_items": null,
            "bottom": null,
            "_model_module": "@jupyter-widgets/base",
            "top": null,
            "grid_column": null,
            "overflow_y": null,
            "overflow_x": null,
            "grid_auto_flow": null,
            "grid_area": null,
            "grid_template_columns": null,
            "flex": null,
            "_model_name": "LayoutModel",
            "justify_items": null,
            "grid_row": null,
            "max_height": null,
            "align_content": null,
            "visibility": null,
            "align_self": null,
            "height": null,
            "min_height": null,
            "padding": null,
            "grid_auto_rows": null,
            "grid_gap": null,
            "max_width": null,
            "order": null,
            "_view_module_version": "1.2.0",
            "grid_template_areas": null,
            "object_position": null,
            "object_fit": null,
            "grid_auto_columns": null,
            "margin": null,
            "display": null,
            "left": null
          }
        },
        "b4874edac886420dbabfe1f8cb9eeaa2": {
          "model_module": "@jupyter-widgets/controls",
          "model_name": "HBoxModel",
          "state": {
            "_view_name": "HBoxView",
            "_dom_classes": [],
            "_model_name": "HBoxModel",
            "_view_module": "@jupyter-widgets/controls",
            "_model_module_version": "1.5.0",
            "_view_count": null,
            "_view_module_version": "1.5.0",
            "box_style": "",
            "layout": "IPY_MODEL_c1ba9bc4cfb24a35ad18f9b0b98cabce",
            "_model_module": "@jupyter-widgets/controls",
            "children": [
              "IPY_MODEL_9e956c73d47b4fceb7b5ce59ae3b3af8",
              "IPY_MODEL_91a1f82adaf64a28b7558face45940ab"
            ]
          }
        },
        "c1ba9bc4cfb24a35ad18f9b0b98cabce": {
          "model_module": "@jupyter-widgets/base",
          "model_name": "LayoutModel",
          "state": {
            "_view_name": "LayoutView",
            "grid_template_rows": null,
            "right": null,
            "justify_content": null,
            "_view_module": "@jupyter-widgets/base",
            "overflow": null,
            "_model_module_version": "1.2.0",
            "_view_count": null,
            "flex_flow": null,
            "width": null,
            "min_width": null,
            "border": null,
            "align_items": null,
            "bottom": null,
            "_model_module": "@jupyter-widgets/base",
            "top": null,
            "grid_column": null,
            "overflow_y": null,
            "overflow_x": null,
            "grid_auto_flow": null,
            "grid_area": null,
            "grid_template_columns": null,
            "flex": null,
            "_model_name": "LayoutModel",
            "justify_items": null,
            "grid_row": null,
            "max_height": null,
            "align_content": null,
            "visibility": null,
            "align_self": null,
            "height": null,
            "min_height": null,
            "padding": null,
            "grid_auto_rows": null,
            "grid_gap": null,
            "max_width": null,
            "order": null,
            "_view_module_version": "1.2.0",
            "grid_template_areas": null,
            "object_position": null,
            "object_fit": null,
            "grid_auto_columns": null,
            "margin": null,
            "display": null,
            "left": null
          }
        },
        "9e956c73d47b4fceb7b5ce59ae3b3af8": {
          "model_module": "@jupyter-widgets/controls",
          "model_name": "FloatProgressModel",
          "state": {
            "_view_name": "ProgressView",
            "style": "IPY_MODEL_9971fbe54bba4d32a0a561f69aa6f999",
            "_dom_classes": [],
            "description": "100%",
            "_model_name": "FloatProgressModel",
            "bar_style": "success",
            "max": 100,
            "_view_module": "@jupyter-widgets/controls",
            "_model_module_version": "1.5.0",
            "value": 100,
            "_view_count": null,
            "_view_module_version": "1.5.0",
            "orientation": "horizontal",
            "min": 0,
            "description_tooltip": null,
            "_model_module": "@jupyter-widgets/controls",
            "layout": "IPY_MODEL_ed6f1ba0da1044d3a9a75e136e03b9d4"
          }
        },
        "91a1f82adaf64a28b7558face45940ab": {
          "model_module": "@jupyter-widgets/controls",
          "model_name": "HTMLModel",
          "state": {
            "_view_name": "HTMLView",
            "style": "IPY_MODEL_1f8410530c354081adb3f8ea33e34be3",
            "_dom_classes": [],
            "description": "",
            "_model_name": "HTMLModel",
            "placeholder": "​",
            "_view_module": "@jupyter-widgets/controls",
            "_model_module_version": "1.5.0",
            "value": " 100/100 [00:07&lt;00:00, 13.11it/s]",
            "_view_count": null,
            "_view_module_version": "1.5.0",
            "description_tooltip": null,
            "_model_module": "@jupyter-widgets/controls",
            "layout": "IPY_MODEL_2ba062f7e76e4e7e83178aea35153336"
          }
        },
        "9971fbe54bba4d32a0a561f69aa6f999": {
          "model_module": "@jupyter-widgets/controls",
          "model_name": "ProgressStyleModel",
          "state": {
            "_view_name": "StyleView",
            "_model_name": "ProgressStyleModel",
            "description_width": "initial",
            "_view_module": "@jupyter-widgets/base",
            "_model_module_version": "1.5.0",
            "_view_count": null,
            "_view_module_version": "1.2.0",
            "bar_color": null,
            "_model_module": "@jupyter-widgets/controls"
          }
        },
        "ed6f1ba0da1044d3a9a75e136e03b9d4": {
          "model_module": "@jupyter-widgets/base",
          "model_name": "LayoutModel",
          "state": {
            "_view_name": "LayoutView",
            "grid_template_rows": null,
            "right": null,
            "justify_content": null,
            "_view_module": "@jupyter-widgets/base",
            "overflow": null,
            "_model_module_version": "1.2.0",
            "_view_count": null,
            "flex_flow": null,
            "width": null,
            "min_width": null,
            "border": null,
            "align_items": null,
            "bottom": null,
            "_model_module": "@jupyter-widgets/base",
            "top": null,
            "grid_column": null,
            "overflow_y": null,
            "overflow_x": null,
            "grid_auto_flow": null,
            "grid_area": null,
            "grid_template_columns": null,
            "flex": null,
            "_model_name": "LayoutModel",
            "justify_items": null,
            "grid_row": null,
            "max_height": null,
            "align_content": null,
            "visibility": null,
            "align_self": null,
            "height": null,
            "min_height": null,
            "padding": null,
            "grid_auto_rows": null,
            "grid_gap": null,
            "max_width": null,
            "order": null,
            "_view_module_version": "1.2.0",
            "grid_template_areas": null,
            "object_position": null,
            "object_fit": null,
            "grid_auto_columns": null,
            "margin": null,
            "display": null,
            "left": null
          }
        },
        "1f8410530c354081adb3f8ea33e34be3": {
          "model_module": "@jupyter-widgets/controls",
          "model_name": "DescriptionStyleModel",
          "state": {
            "_view_name": "StyleView",
            "_model_name": "DescriptionStyleModel",
            "description_width": "",
            "_view_module": "@jupyter-widgets/base",
            "_model_module_version": "1.5.0",
            "_view_count": null,
            "_view_module_version": "1.2.0",
            "_model_module": "@jupyter-widgets/controls"
          }
        },
        "2ba062f7e76e4e7e83178aea35153336": {
          "model_module": "@jupyter-widgets/base",
          "model_name": "LayoutModel",
          "state": {
            "_view_name": "LayoutView",
            "grid_template_rows": null,
            "right": null,
            "justify_content": null,
            "_view_module": "@jupyter-widgets/base",
            "overflow": null,
            "_model_module_version": "1.2.0",
            "_view_count": null,
            "flex_flow": null,
            "width": null,
            "min_width": null,
            "border": null,
            "align_items": null,
            "bottom": null,
            "_model_module": "@jupyter-widgets/base",
            "top": null,
            "grid_column": null,
            "overflow_y": null,
            "overflow_x": null,
            "grid_auto_flow": null,
            "grid_area": null,
            "grid_template_columns": null,
            "flex": null,
            "_model_name": "LayoutModel",
            "justify_items": null,
            "grid_row": null,
            "max_height": null,
            "align_content": null,
            "visibility": null,
            "align_self": null,
            "height": null,
            "min_height": null,
            "padding": null,
            "grid_auto_rows": null,
            "grid_gap": null,
            "max_width": null,
            "order": null,
            "_view_module_version": "1.2.0",
            "grid_template_areas": null,
            "object_position": null,
            "object_fit": null,
            "grid_auto_columns": null,
            "margin": null,
            "display": null,
            "left": null
          }
        },
        "88bac9e6342546d98274a82f0ecf1a02": {
          "model_module": "@jupyter-widgets/controls",
          "model_name": "HBoxModel",
          "state": {
            "_view_name": "HBoxView",
            "_dom_classes": [],
            "_model_name": "HBoxModel",
            "_view_module": "@jupyter-widgets/controls",
            "_model_module_version": "1.5.0",
            "_view_count": null,
            "_view_module_version": "1.5.0",
            "box_style": "",
            "layout": "IPY_MODEL_2a66b5900e8f40a2ac7ef4e948886772",
            "_model_module": "@jupyter-widgets/controls",
            "children": [
              "IPY_MODEL_8d34e21efcd146e1bb71636d9a1fcb6d",
              "IPY_MODEL_0fd0ce4eabd441f58df13878b41bea1f"
            ]
          }
        },
        "2a66b5900e8f40a2ac7ef4e948886772": {
          "model_module": "@jupyter-widgets/base",
          "model_name": "LayoutModel",
          "state": {
            "_view_name": "LayoutView",
            "grid_template_rows": null,
            "right": null,
            "justify_content": null,
            "_view_module": "@jupyter-widgets/base",
            "overflow": null,
            "_model_module_version": "1.2.0",
            "_view_count": null,
            "flex_flow": null,
            "width": null,
            "min_width": null,
            "border": null,
            "align_items": null,
            "bottom": null,
            "_model_module": "@jupyter-widgets/base",
            "top": null,
            "grid_column": null,
            "overflow_y": null,
            "overflow_x": null,
            "grid_auto_flow": null,
            "grid_area": null,
            "grid_template_columns": null,
            "flex": null,
            "_model_name": "LayoutModel",
            "justify_items": null,
            "grid_row": null,
            "max_height": null,
            "align_content": null,
            "visibility": null,
            "align_self": null,
            "height": null,
            "min_height": null,
            "padding": null,
            "grid_auto_rows": null,
            "grid_gap": null,
            "max_width": null,
            "order": null,
            "_view_module_version": "1.2.0",
            "grid_template_areas": null,
            "object_position": null,
            "object_fit": null,
            "grid_auto_columns": null,
            "margin": null,
            "display": null,
            "left": null
          }
        },
        "8d34e21efcd146e1bb71636d9a1fcb6d": {
          "model_module": "@jupyter-widgets/controls",
          "model_name": "FloatProgressModel",
          "state": {
            "_view_name": "ProgressView",
            "style": "IPY_MODEL_21a2f68f79ba4b2480dd615b5be8979e",
            "_dom_classes": [],
            "description": "100%",
            "_model_name": "FloatProgressModel",
            "bar_style": "success",
            "max": 150,
            "_view_module": "@jupyter-widgets/controls",
            "_model_module_version": "1.5.0",
            "value": 150,
            "_view_count": null,
            "_view_module_version": "1.5.0",
            "orientation": "horizontal",
            "min": 0,
            "description_tooltip": null,
            "_model_module": "@jupyter-widgets/controls",
            "layout": "IPY_MODEL_80ca013735bf4b94bb551d98efd01ae7"
          }
        },
        "0fd0ce4eabd441f58df13878b41bea1f": {
          "model_module": "@jupyter-widgets/controls",
          "model_name": "HTMLModel",
          "state": {
            "_view_name": "HTMLView",
            "style": "IPY_MODEL_c459fb90b47447a48a26178e579729cb",
            "_dom_classes": [],
            "description": "",
            "_model_name": "HTMLModel",
            "placeholder": "​",
            "_view_module": "@jupyter-widgets/controls",
            "_model_module_version": "1.5.0",
            "value": " 150/150 [00:00&lt;00:00, 632.15it/s]",
            "_view_count": null,
            "_view_module_version": "1.5.0",
            "description_tooltip": null,
            "_model_module": "@jupyter-widgets/controls",
            "layout": "IPY_MODEL_dd27e4f592254bb9a96b1d13f30816f5"
          }
        },
        "21a2f68f79ba4b2480dd615b5be8979e": {
          "model_module": "@jupyter-widgets/controls",
          "model_name": "ProgressStyleModel",
          "state": {
            "_view_name": "StyleView",
            "_model_name": "ProgressStyleModel",
            "description_width": "initial",
            "_view_module": "@jupyter-widgets/base",
            "_model_module_version": "1.5.0",
            "_view_count": null,
            "_view_module_version": "1.2.0",
            "bar_color": null,
            "_model_module": "@jupyter-widgets/controls"
          }
        },
        "80ca013735bf4b94bb551d98efd01ae7": {
          "model_module": "@jupyter-widgets/base",
          "model_name": "LayoutModel",
          "state": {
            "_view_name": "LayoutView",
            "grid_template_rows": null,
            "right": null,
            "justify_content": null,
            "_view_module": "@jupyter-widgets/base",
            "overflow": null,
            "_model_module_version": "1.2.0",
            "_view_count": null,
            "flex_flow": null,
            "width": null,
            "min_width": null,
            "border": null,
            "align_items": null,
            "bottom": null,
            "_model_module": "@jupyter-widgets/base",
            "top": null,
            "grid_column": null,
            "overflow_y": null,
            "overflow_x": null,
            "grid_auto_flow": null,
            "grid_area": null,
            "grid_template_columns": null,
            "flex": null,
            "_model_name": "LayoutModel",
            "justify_items": null,
            "grid_row": null,
            "max_height": null,
            "align_content": null,
            "visibility": null,
            "align_self": null,
            "height": null,
            "min_height": null,
            "padding": null,
            "grid_auto_rows": null,
            "grid_gap": null,
            "max_width": null,
            "order": null,
            "_view_module_version": "1.2.0",
            "grid_template_areas": null,
            "object_position": null,
            "object_fit": null,
            "grid_auto_columns": null,
            "margin": null,
            "display": null,
            "left": null
          }
        },
        "c459fb90b47447a48a26178e579729cb": {
          "model_module": "@jupyter-widgets/controls",
          "model_name": "DescriptionStyleModel",
          "state": {
            "_view_name": "StyleView",
            "_model_name": "DescriptionStyleModel",
            "description_width": "",
            "_view_module": "@jupyter-widgets/base",
            "_model_module_version": "1.5.0",
            "_view_count": null,
            "_view_module_version": "1.2.0",
            "_model_module": "@jupyter-widgets/controls"
          }
        },
        "dd27e4f592254bb9a96b1d13f30816f5": {
          "model_module": "@jupyter-widgets/base",
          "model_name": "LayoutModel",
          "state": {
            "_view_name": "LayoutView",
            "grid_template_rows": null,
            "right": null,
            "justify_content": null,
            "_view_module": "@jupyter-widgets/base",
            "overflow": null,
            "_model_module_version": "1.2.0",
            "_view_count": null,
            "flex_flow": null,
            "width": null,
            "min_width": null,
            "border": null,
            "align_items": null,
            "bottom": null,
            "_model_module": "@jupyter-widgets/base",
            "top": null,
            "grid_column": null,
            "overflow_y": null,
            "overflow_x": null,
            "grid_auto_flow": null,
            "grid_area": null,
            "grid_template_columns": null,
            "flex": null,
            "_model_name": "LayoutModel",
            "justify_items": null,
            "grid_row": null,
            "max_height": null,
            "align_content": null,
            "visibility": null,
            "align_self": null,
            "height": null,
            "min_height": null,
            "padding": null,
            "grid_auto_rows": null,
            "grid_gap": null,
            "max_width": null,
            "order": null,
            "_view_module_version": "1.2.0",
            "grid_template_areas": null,
            "object_position": null,
            "object_fit": null,
            "grid_auto_columns": null,
            "margin": null,
            "display": null,
            "left": null
          }
        },
        "1df02fccae1e416bb3b4f1a3db3b4d90": {
          "model_module": "@jupyter-widgets/controls",
          "model_name": "HBoxModel",
          "state": {
            "_view_name": "HBoxView",
            "_dom_classes": [],
            "_model_name": "HBoxModel",
            "_view_module": "@jupyter-widgets/controls",
            "_model_module_version": "1.5.0",
            "_view_count": null,
            "_view_module_version": "1.5.0",
            "box_style": "",
            "layout": "IPY_MODEL_20ee2e659d9645838ef8e0961fa4c707",
            "_model_module": "@jupyter-widgets/controls",
            "children": [
              "IPY_MODEL_66e5921ae9744a938bbeba15da5dbe26",
              "IPY_MODEL_37f9e434efe34eada951aeb795fb14a4"
            ]
          }
        },
        "20ee2e659d9645838ef8e0961fa4c707": {
          "model_module": "@jupyter-widgets/base",
          "model_name": "LayoutModel",
          "state": {
            "_view_name": "LayoutView",
            "grid_template_rows": null,
            "right": null,
            "justify_content": null,
            "_view_module": "@jupyter-widgets/base",
            "overflow": null,
            "_model_module_version": "1.2.0",
            "_view_count": null,
            "flex_flow": null,
            "width": null,
            "min_width": null,
            "border": null,
            "align_items": null,
            "bottom": null,
            "_model_module": "@jupyter-widgets/base",
            "top": null,
            "grid_column": null,
            "overflow_y": null,
            "overflow_x": null,
            "grid_auto_flow": null,
            "grid_area": null,
            "grid_template_columns": null,
            "flex": null,
            "_model_name": "LayoutModel",
            "justify_items": null,
            "grid_row": null,
            "max_height": null,
            "align_content": null,
            "visibility": null,
            "align_self": null,
            "height": null,
            "min_height": null,
            "padding": null,
            "grid_auto_rows": null,
            "grid_gap": null,
            "max_width": null,
            "order": null,
            "_view_module_version": "1.2.0",
            "grid_template_areas": null,
            "object_position": null,
            "object_fit": null,
            "grid_auto_columns": null,
            "margin": null,
            "display": null,
            "left": null
          }
        },
        "66e5921ae9744a938bbeba15da5dbe26": {
          "model_module": "@jupyter-widgets/controls",
          "model_name": "FloatProgressModel",
          "state": {
            "_view_name": "ProgressView",
            "style": "IPY_MODEL_2a9b133d99104501a82c8138bb54fe70",
            "_dom_classes": [],
            "description": "100%",
            "_model_name": "FloatProgressModel",
            "bar_style": "success",
            "max": 100,
            "_view_module": "@jupyter-widgets/controls",
            "_model_module_version": "1.5.0",
            "value": 100,
            "_view_count": null,
            "_view_module_version": "1.5.0",
            "orientation": "horizontal",
            "min": 0,
            "description_tooltip": null,
            "_model_module": "@jupyter-widgets/controls",
            "layout": "IPY_MODEL_a78fef67da8048ceafa5ee2aea7b56fd"
          }
        },
        "37f9e434efe34eada951aeb795fb14a4": {
          "model_module": "@jupyter-widgets/controls",
          "model_name": "HTMLModel",
          "state": {
            "_view_name": "HTMLView",
            "style": "IPY_MODEL_03e6aa62af6a4981baa1be1d82e74f6e",
            "_dom_classes": [],
            "description": "",
            "_model_name": "HTMLModel",
            "placeholder": "​",
            "_view_module": "@jupyter-widgets/controls",
            "_model_module_version": "1.5.0",
            "value": " 100/100 [03:14&lt;00:00,  1.95s/it]",
            "_view_count": null,
            "_view_module_version": "1.5.0",
            "description_tooltip": null,
            "_model_module": "@jupyter-widgets/controls",
            "layout": "IPY_MODEL_6ce622bce9c54af0a976f00425beb60e"
          }
        },
        "2a9b133d99104501a82c8138bb54fe70": {
          "model_module": "@jupyter-widgets/controls",
          "model_name": "ProgressStyleModel",
          "state": {
            "_view_name": "StyleView",
            "_model_name": "ProgressStyleModel",
            "description_width": "initial",
            "_view_module": "@jupyter-widgets/base",
            "_model_module_version": "1.5.0",
            "_view_count": null,
            "_view_module_version": "1.2.0",
            "bar_color": null,
            "_model_module": "@jupyter-widgets/controls"
          }
        },
        "a78fef67da8048ceafa5ee2aea7b56fd": {
          "model_module": "@jupyter-widgets/base",
          "model_name": "LayoutModel",
          "state": {
            "_view_name": "LayoutView",
            "grid_template_rows": null,
            "right": null,
            "justify_content": null,
            "_view_module": "@jupyter-widgets/base",
            "overflow": null,
            "_model_module_version": "1.2.0",
            "_view_count": null,
            "flex_flow": null,
            "width": null,
            "min_width": null,
            "border": null,
            "align_items": null,
            "bottom": null,
            "_model_module": "@jupyter-widgets/base",
            "top": null,
            "grid_column": null,
            "overflow_y": null,
            "overflow_x": null,
            "grid_auto_flow": null,
            "grid_area": null,
            "grid_template_columns": null,
            "flex": null,
            "_model_name": "LayoutModel",
            "justify_items": null,
            "grid_row": null,
            "max_height": null,
            "align_content": null,
            "visibility": null,
            "align_self": null,
            "height": null,
            "min_height": null,
            "padding": null,
            "grid_auto_rows": null,
            "grid_gap": null,
            "max_width": null,
            "order": null,
            "_view_module_version": "1.2.0",
            "grid_template_areas": null,
            "object_position": null,
            "object_fit": null,
            "grid_auto_columns": null,
            "margin": null,
            "display": null,
            "left": null
          }
        },
        "03e6aa62af6a4981baa1be1d82e74f6e": {
          "model_module": "@jupyter-widgets/controls",
          "model_name": "DescriptionStyleModel",
          "state": {
            "_view_name": "StyleView",
            "_model_name": "DescriptionStyleModel",
            "description_width": "",
            "_view_module": "@jupyter-widgets/base",
            "_model_module_version": "1.5.0",
            "_view_count": null,
            "_view_module_version": "1.2.0",
            "_model_module": "@jupyter-widgets/controls"
          }
        },
        "6ce622bce9c54af0a976f00425beb60e": {
          "model_module": "@jupyter-widgets/base",
          "model_name": "LayoutModel",
          "state": {
            "_view_name": "LayoutView",
            "grid_template_rows": null,
            "right": null,
            "justify_content": null,
            "_view_module": "@jupyter-widgets/base",
            "overflow": null,
            "_model_module_version": "1.2.0",
            "_view_count": null,
            "flex_flow": null,
            "width": null,
            "min_width": null,
            "border": null,
            "align_items": null,
            "bottom": null,
            "_model_module": "@jupyter-widgets/base",
            "top": null,
            "grid_column": null,
            "overflow_y": null,
            "overflow_x": null,
            "grid_auto_flow": null,
            "grid_area": null,
            "grid_template_columns": null,
            "flex": null,
            "_model_name": "LayoutModel",
            "justify_items": null,
            "grid_row": null,
            "max_height": null,
            "align_content": null,
            "visibility": null,
            "align_self": null,
            "height": null,
            "min_height": null,
            "padding": null,
            "grid_auto_rows": null,
            "grid_gap": null,
            "max_width": null,
            "order": null,
            "_view_module_version": "1.2.0",
            "grid_template_areas": null,
            "object_position": null,
            "object_fit": null,
            "grid_auto_columns": null,
            "margin": null,
            "display": null,
            "left": null
          }
        }
      }
    }
  },
  "cells": [
    {
      "cell_type": "markdown",
      "metadata": {
        "id": "view-in-github",
        "colab_type": "text"
      },
      "source": [
        "<a href=\"https://colab.research.google.com/github/linesn/reddit_analysis/blob/main/Notebooks/vocabulary_entropy.ipynb\" target=\"_parent\"><img src=\"https://colab.research.google.com/assets/colab-badge.svg\" alt=\"Open In Colab\"/></a>"
      ]
    },
    {
      "cell_type": "markdown",
      "metadata": {
        "id": "k4_bnJa5n2_G"
      },
      "source": [
        "# Testing the vocabulary entropy of Reddit user groups\n",
        "\n",
        "This notebook represents the majority of the research for the related paper. The\n",
        "data used for this was collected with the notebook `Reddit_search_NL` in this\n",
        "directory.\n",
        "\n",
        "## Imports and environment preparation"
      ]
    },
    {
      "cell_type": "code",
      "metadata": {
        "colab": {
          "base_uri": "https://localhost:8080/"
        },
        "id": "fNL6i85ZpEA7",
        "outputId": "f6f4de35-1e99-42ec-8949-470d0b46ef74"
      },
      "source": [
        "%pylab inline"
      ],
      "execution_count": null,
      "outputs": [
        {
          "output_type": "stream",
          "text": [
            "Populating the interactive namespace from numpy and matplotlib\n"
          ],
          "name": "stdout"
        }
      ]
    },
    {
      "cell_type": "code",
      "metadata": {
        "id": "CNIauiLjzTgO"
      },
      "source": [
        "import string\n",
        "from tqdm.notebook import tqdm\n",
        "import pandas as pd"
      ],
      "execution_count": null,
      "outputs": []
    },
    {
      "cell_type": "code",
      "metadata": {
        "id": "gN3PZ8U3rhxi",
        "colab": {
          "base_uri": "https://localhost:8080/"
        },
        "outputId": "fa0deaef-21af-496d-ff34-073ec703b991"
      },
      "source": [
        "import nltk\n",
        "from nltk import SnowballStemmer\n",
        "from nltk.stem.porter import PorterStemmer\n",
        "from nltk.stem.lancaster import LancasterStemmer\n",
        "from nltk.stem.wordnet import WordNetLemmatizer\n",
        "nltk.download('gutenberg')"
      ],
      "execution_count": null,
      "outputs": [
        {
          "output_type": "stream",
          "text": [
            "[nltk_data] Downloading package gutenberg to /root/nltk_data...\n",
            "[nltk_data]   Unzipping corpora/gutenberg.zip.\n"
          ],
          "name": "stdout"
        },
        {
          "output_type": "execute_result",
          "data": {
            "text/plain": [
              "True"
            ]
          },
          "metadata": {
            "tags": []
          },
          "execution_count": 3
        }
      ]
    },
    {
      "cell_type": "code",
      "metadata": {
        "id": "SXaAdxFVHmVe"
      },
      "source": [
        "import pickle\n",
        "import scipy.stats as st"
      ],
      "execution_count": null,
      "outputs": []
    },
    {
      "cell_type": "code",
      "metadata": {
        "colab": {
          "base_uri": "https://localhost:8080/"
        },
        "id": "BPaVCR_SSabD",
        "outputId": "f6c9dab8-3c1f-44af-a1b7-9fffca290680"
      },
      "source": [
        "import os\n",
        "if 'COLAB_GPU' in os.environ: # a hacky way of determining if you are in colab.\n",
        "  print(\"Notebook is running in colab\")\n",
        "  from google.colab import drive\n",
        "  drive.mount(\"/content/drive\", force_remount=True)\n",
        "  DATA_DIR = \"./drive/My Drive/Data/\"\n",
        "  \n",
        "else:\n",
        "  # Get the system information from the OS\n",
        "  PLATFORM_SYSTEM = platform.system()\n",
        "\n",
        "  # Darwin is macOS\n",
        "  if PLATFORM_SYSTEM == \"Darwin\":\n",
        "      EXECUTABLE_PATH = Path(\"../dependencies/chromedriver\")\n",
        "  elif PLATFORM_SYSTEM == \"Windows\":\n",
        "      EXECUTABLE_PATH = Path(\"../dependencies/chromedriver.exe\")\n",
        "  else:\n",
        "      logging.critical(\"Chromedriver not found or Chromedriver is outdated...\")\n",
        "      exit()\n",
        "  DATA_DIR = \"../Data/raw/\""
      ],
      "execution_count": null,
      "outputs": [
        {
          "output_type": "stream",
          "text": [
            "Notebook is running in colab\n",
            "Mounted at /content/drive\n"
          ],
          "name": "stdout"
        }
      ]
    },
    {
      "cell_type": "markdown",
      "metadata": {
        "id": "Jf3gAAwB6NC9"
      },
      "source": [
        "## Some required functions"
      ]
    },
    {
      "cell_type": "code",
      "metadata": {
        "id": "5O6_HM89ny53"
      },
      "source": [
        "def vocabulary_quotient(token_array):\n",
        "  '''Compute the vocabulary quotient given a token array.\n",
        "  '''\n",
        "  doc_length = len(token_array)\n",
        "  emp_probs =  {i:count_nonzero(token_array==i)/doc_length for i in list(set(token_array))}\n",
        "  entropy = -sum([p_i * log10(p_i) for p_i in emp_probs.values()])\n",
        "  max_entropy = -log10(1/doc_length)\n",
        "  return(entropy/max_entropy)"
      ],
      "execution_count": null,
      "outputs": []
    },
    {
      "cell_type": "code",
      "metadata": {
        "id": "0ibEx80bV10d"
      },
      "source": [
        "def prep_text_list(text_list, min_length=150):\n",
        "  '''Take a list of text strings and tokenize it, dropping entries with fewer \n",
        "  than min_length tokens'''\n",
        "  new_list = []\n",
        "  for item in text_list:\n",
        "    tokenized_item = array(\n",
        "        nltk.casual_tokenize(item.translate(str.maketrans(\n",
        "            '', \n",
        "            '', \n",
        "            string.punctuation,\n",
        "            )), \n",
        "        preserve_case=False,strip_handles=True)\n",
        "        )\n",
        "    if len(tokenized_item) >= min_length:\n",
        "      new_list.append(tokenized_item[:min_length])\n",
        "  return new_list"
      ],
      "execution_count": null,
      "outputs": []
    },
    {
      "cell_type": "markdown",
      "metadata": {
        "id": "6EGO52Sc6U5L"
      },
      "source": [
        "## Read in the data (as Pandas dataframes) and process it for analysis"
      ]
    },
    {
      "cell_type": "code",
      "metadata": {
        "colab": {
          "base_uri": "https://localhost:8080/",
          "height": 265
        },
        "id": "SVT3aALZS4lx",
        "outputId": "d747f8f2-a4c5-4757-dbde-13dc1926f8c2"
      },
      "source": [
        "hs_comment_df = pd.read_csv(DATA_DIR + \"raw/Reddit/highschoolREDDIT_COMMENTS_2021-04-22T18-37-36-0400.csv\")\n",
        "hs_post_df = pd.read_csv(DATA_DIR + \"raw/Reddit/highschoolREDDIT_POSTS_2021-04-22T18-31-58-0400.csv\")\n",
        "hs_text = hs_post_df.post_body.dropna().to_list() + hs_comment_df.comment_body.dropna().to_list()\n",
        "hs_tokens = prep_text_list(hs_text)\n",
        "hs_quotients = [vocabulary_quotient(item) for item in hs_tokens]\n",
        "hist(hs_quotients);"
      ],
      "execution_count": null,
      "outputs": [
        {
          "output_type": "display_data",
          "data": {
            "image/png": "[encoded data removed]",
            "text/plain": [
              "<Figure size 432x288 with 1 Axes>"
            ]
          },
          "metadata": {
            "tags": [],
            "needs_background": "light"
          }
        }
      ]
    },
    {
      "cell_type": "code",
      "metadata": {
        "colab": {
          "base_uri": "https://localhost:8080/"
        },
        "id": "KLlVqD57Y1E6",
        "outputId": "718f64aa-6adf-4dd2-cc87-5d2648fe94bf"
      },
      "source": [
        "print(mean(hs_quotients), std(hs_quotients))"
      ],
      "execution_count": null,
      "outputs": [
        {
          "output_type": "stream",
          "text": [
            "0.8615243798249185 0.03182766370144049\n"
          ],
          "name": "stdout"
        }
      ]
    },
    {
      "cell_type": "code",
      "metadata": {
        "colab": {
          "base_uri": "https://localhost:8080/",
          "height": 265
        },
        "id": "rJXUo9u1UsFl",
        "outputId": "c870fec8-55ef-4d90-c078-8b7c88e62210"
      },
      "source": [
        "grad_comment_df = pd.read_csv(DATA_DIR + \"raw/Reddit/gradREDDIT_COMMENTS_2021-04-22T20-29-36-0400.csv\")\n",
        "grad_post_df = pd.read_csv(DATA_DIR + \"raw/Reddit/gradREDDIT_POSTS_2021-04-22T20-21-07-0400.csv\")\n",
        "grad_text = grad_post_df.post_body.dropna().to_list() + grad_comment_df.comment_body.dropna().to_list()\n",
        "grad_tokens = prep_text_list(grad_text)\n",
        "grad_quotients = [vocabulary_quotient(item) for item in grad_tokens]\n",
        "hist(grad_quotients);"
      ],
      "execution_count": null,
      "outputs": [
        {
          "output_type": "display_data",
          "data": {
            "image/png": "[encoded data removed]",
            "text/plain": [
              "<Figure size 432x288 with 1 Axes>"
            ]
          },
          "metadata": {
            "tags": [],
            "needs_background": "light"
          }
        }
      ]
    },
    {
      "cell_type": "code",
      "metadata": {
        "colab": {
          "base_uri": "https://localhost:8080/"
        },
        "id": "K9FhbxsaY5Kf",
        "outputId": "7d7b1d8e-eed5-4ae1-e51c-cf05524bc80e"
      },
      "source": [
        "print(mean(grad_quotients), std(grad_quotients))"
      ],
      "execution_count": null,
      "outputs": [
        {
          "output_type": "stream",
          "text": [
            "0.870033737395849 0.021562515424118932\n"
          ],
          "name": "stdout"
        }
      ]
    },
    {
      "cell_type": "code",
      "metadata": {
        "colab": {
          "base_uri": "https://localhost:8080/",
          "height": 283
        },
        "id": "3TvznqEQdqyW",
        "outputId": "fc823724-ddd9-4c3b-c280-e41593ca4b0b"
      },
      "source": [
        "e2l_comment_df = pd.read_csv(DATA_DIR + \"raw/Reddit/e2lREDDIT_COMMENTS_2021-04-22T22-04-02-0400.csv\")\n",
        "e2l_post_df = pd.read_csv(DATA_DIR + \"raw/Reddit/e2lREDDIT_POSTS_2021-04-22T22-01-51-0400.csv\")\n",
        "e2l_text = e2l_post_df.post_body.dropna().to_list() + e2l_comment_df.comment_body.dropna().to_list()\n",
        "e2l_tokens = prep_text_list(e2l_text)\n",
        "e2l_quotients = [vocabulary_quotient(item) for item in e2l_tokens]\n",
        "hist(e2l_quotients);\n",
        "print(mean(e2l_quotients), std(e2l_quotients))"
      ],
      "execution_count": null,
      "outputs": [
        {
          "output_type": "stream",
          "text": [
            "0.8546710912515258 0.03440424769473573\n"
          ],
          "name": "stdout"
        },
        {
          "output_type": "display_data",
          "data": {
            "image/png": "[encoded data removed]",
            "text/plain": [
              "<Figure size 432x288 with 1 Axes>"
            ]
          },
          "metadata": {
            "tags": [],
            "needs_background": "light"
          }
        }
      ]
    },
    {
      "cell_type": "code",
      "metadata": {
        "id": "DIOPRrqYZBGp"
      },
      "source": [
        "pol_comment_df = pd.read_csv(DATA_DIR + \"raw/Reddit/politicsREDDIT_COMMENTS_2021-04-22T19-43-57-0400.csv\")\n",
        "pol_post_df = pd.read_csv(DATA_DIR + \"raw/Reddit/politicsREDDIT_POSTS_2021-04-22T18-56-51-0400.csv\")\n",
        "pol_text = pol_post_df.post_body.dropna().to_list() + pol_comment_df.comment_body.dropna().to_list()"
      ],
      "execution_count": null,
      "outputs": []
    },
    {
      "cell_type": "code",
      "metadata": {
        "colab": {
          "base_uri": "https://localhost:8080/"
        },
        "id": "Y2KSuyoTb-g5",
        "outputId": "d3d99c6f-df2d-4ac7-d1a6-ce7ad4ab7695"
      },
      "source": [
        "political_subreddits = list(set(concatenate((pol_comment_df[\"subreddit\"].unique(),pol_post_df[\"subreddit\"].unique()))))\n",
        "political_subreddits.sort()\n",
        "print(political_subreddits)"
      ],
      "execution_count": null,
      "outputs": [
        {
          "output_type": "stream",
          "text": [
            "['Freethought', 'PoliticalDiscussion', 'changemyview', 'geopolitics', 'government', 'news', 'politics', 'politics2', 'uspolitics', 'worldnews']\n"
          ],
          "name": "stdout"
        }
      ]
    },
    {
      "cell_type": "code",
      "metadata": {
        "id": "7vadOmYvOzkF"
      },
      "source": [
        "political_subreddit_post_texts = []\n",
        "political_subreddit_comment_texts = []\n",
        "for sr in political_subreddits:\n",
        "  post_update = []\n",
        "  comment_update = []\n",
        "  if sr in pol_post_df.subreddit.values:\n",
        "    post_update = pol_post_df[pol_post_df[\"subreddit\"]==sr].post_body.dropna().to_list()\n",
        "  if sr in pol_comment_df.subreddit.values:\n",
        "    comment_update = pol_comment_df[pol_comment_df[\"subreddit\"]==sr].comment_body.dropna().to_list()  \n",
        "  political_subreddit_post_texts.append(post_update)\n",
        "  political_subreddit_comment_texts.append(comment_update)"
      ],
      "execution_count": null,
      "outputs": []
    },
    {
      "cell_type": "code",
      "metadata": {
        "colab": {
          "base_uri": "https://localhost:8080/"
        },
        "id": "J8bBSvj7RHl0",
        "outputId": "78154e2a-10a5-4a81-e9f7-def6455dca20"
      },
      "source": [
        "print([len(i) for i in political_subreddit_post_texts])\n",
        "print([len(i) for i in political_subreddit_comment_texts])"
      ],
      "execution_count": null,
      "outputs": [
        {
          "output_type": "stream",
          "text": [
            "[55, 965, 985, 306, 130, 0, 4, 165, 31, 0]\n",
            "[1432, 25795, 18432, 7012, 580, 3824, 19540, 250, 1990, 2225]\n"
          ],
          "name": "stdout"
        }
      ]
    },
    {
      "cell_type": "markdown",
      "metadata": {
        "id": "T-s-_fyI6jPN"
      },
      "source": [
        "## Compute Quotients and analyze"
      ]
    },
    {
      "cell_type": "code",
      "metadata": {
        "colab": {
          "base_uri": "https://localhost:8080/",
          "height": 117,
          "referenced_widgets": [
            "a69c1342ee4645afa35e881048ef5596",
            "128eaf8f2dc349959321751976fad9a5",
            "c6825ec9c01c4282b6b0d7e23869e0cc",
            "a7fc126e727d4dab9ae4f6eadd5c1807",
            "50a6b2e87c484a388bf5e8706bd6a43e",
            "640d9f02cf244b069eb94d51197f41c0",
            "2e9ab7bf21c64c55b55757540ed7ae58",
            "7003b8cf18294c58be169d81472fa7a0",
            "0e07f06f3f894ae188f7a66c857172c6",
            "6ed1836f0e9e4e81a7f9f689dfb1840e",
            "9e5ffecc195a40b08215e815c15df30e",
            "77a9d3a750054bed9cbc166daf39f7d0",
            "392e3f8ffe4743659abb02ce645a2489",
            "8e934bcb27fc412581fd21685bd179cb",
            "d1e9155069334b999bbf8dd1a988fa19",
            "942dedeef4374dca8925c8cada9f1b8c"
          ]
        },
        "id": "YS2LCBxUGKMl",
        "outputId": "153309a8-f4b3-4c80-9330-3a9ded37d21d"
      },
      "source": [
        "pol_sr_post_tokens = [prep_text_list(txt) for txt in tqdm(political_subreddit_post_texts)]\n",
        "pol_sr_comment_tokens = [prep_text_list(txt) for txt in tqdm(political_subreddit_comment_texts)]"
      ],
      "execution_count": null,
      "outputs": [
        {
          "output_type": "display_data",
          "data": {
            "application/vnd.jupyter.widget-view+json": {
              "model_id": "a69c1342ee4645afa35e881048ef5596",
              "version_minor": 0,
              "version_major": 2
            },
            "text/plain": [
              "HBox(children=(FloatProgress(value=0.0, max=10.0), HTML(value='')))"
            ]
          },
          "metadata": {
            "tags": []
          }
        },
        {
          "output_type": "stream",
          "text": [
            "\n"
          ],
          "name": "stdout"
        },
        {
          "output_type": "display_data",
          "data": {
            "application/vnd.jupyter.widget-view+json": {
              "model_id": "0e07f06f3f894ae188f7a66c857172c6",
              "version_minor": 0,
              "version_major": 2
            },
            "text/plain": [
              "HBox(children=(FloatProgress(value=0.0, max=10.0), HTML(value='')))"
            ]
          },
          "metadata": {
            "tags": []
          }
        },
        {
          "output_type": "stream",
          "text": [
            "\n"
          ],
          "name": "stdout"
        }
      ]
    },
    {
      "cell_type": "code",
      "metadata": {
        "colab": {
          "base_uri": "https://localhost:8080/",
          "height": 117,
          "referenced_widgets": [
            "56a17b1b02804e52be886144ec4b3fbb",
            "39391bac74b94d6bbbfc728ecfae113b",
            "2ffd2f066e0840bbb4cb6c4e5e4d9a74",
            "b074fca8e6dc4e93aa4d993c189f6b9b",
            "de8898ba41f14809a5348a8fe7f29a92",
            "2f1a38da43fb4890bbffef26a96f3f97",
            "21cb5c4c3c1f41a6b3421aa93e1ec84f",
            "cfe81561cb894a5b8ff53e4aec44e044",
            "6f7ade86ea244f139441f3adc7e53628",
            "019607c9268d47f89866f69c31804174",
            "c8e16a58453f444b90e3bf5ad5a00a75",
            "6f064b52937f4b8987cdd45fb4c1a5b0",
            "97108b43cda941ea8a748f182ef8f906",
            "5dad04e7473d4649a376d76167d1ee44",
            "9dadc7248eac4b6fa924f2c66b207881",
            "fcb6607eb52849c59862cf6bf69250ff"
          ]
        },
        "id": "JHunBiRWGiNi",
        "outputId": "202569fb-7e79-406d-b297-acf9a0ce30dc"
      },
      "source": [
        "pol_sr_post_quotients = [[vocabulary_quotient(item) for item in tkns] for tkns in tqdm(pol_sr_post_tokens)]\n",
        "pol_sr_comment_quotients = [[vocabulary_quotient(item) for item in tkns] for tkns in tqdm(pol_sr_comment_tokens)]"
      ],
      "execution_count": null,
      "outputs": [
        {
          "output_type": "display_data",
          "data": {
            "application/vnd.jupyter.widget-view+json": {
              "model_id": "56a17b1b02804e52be886144ec4b3fbb",
              "version_minor": 0,
              "version_major": 2
            },
            "text/plain": [
              "HBox(children=(FloatProgress(value=0.0, max=10.0), HTML(value='')))"
            ]
          },
          "metadata": {
            "tags": []
          }
        },
        {
          "output_type": "stream",
          "text": [
            "\n"
          ],
          "name": "stdout"
        },
        {
          "output_type": "display_data",
          "data": {
            "application/vnd.jupyter.widget-view+json": {
              "model_id": "6f7ade86ea244f139441f3adc7e53628",
              "version_minor": 0,
              "version_major": 2
            },
            "text/plain": [
              "HBox(children=(FloatProgress(value=0.0, max=10.0), HTML(value='')))"
            ]
          },
          "metadata": {
            "tags": []
          }
        },
        {
          "output_type": "stream",
          "text": [
            "\n"
          ],
          "name": "stdout"
        }
      ]
    },
    {
      "cell_type": "code",
      "metadata": {
        "id": "EhoqY6l8Srg1"
      },
      "source": [
        "pol_sr_quotients = [pol_sr_post_quotients[i]+pol_sr_comment_quotients[i] for i in range(len(political_subreddits))]"
      ],
      "execution_count": null,
      "outputs": []
    },
    {
      "cell_type": "code",
      "metadata": {
        "colab": {
          "base_uri": "https://localhost:8080/",
          "height": 265
        },
        "id": "6AEQNSytaLtB",
        "outputId": "700fac8a-e66f-4dae-94d0-4b4004a119c7"
      },
      "source": [
        "pol_tokens = prep_text_list(pol_text)\n",
        "pol_quotients = [vocabulary_quotient(item) for item in pol_tokens]\n",
        "hist(pol_quotients);"
      ],
      "execution_count": null,
      "outputs": [
        {
          "output_type": "display_data",
          "data": {
            "image/png": "[encoded data removed]",
            "text/plain": [
              "<Figure size 432x288 with 1 Axes>"
            ]
          },
          "metadata": {
            "tags": [],
            "needs_background": "light"
          }
        }
      ]
    },
    {
      "cell_type": "code",
      "metadata": {
        "id": "f3zub1GWxr0q"
      },
      "source": [
        "post_quotients = [e2l_quotients, hs_quotients, grad_quotients, pol_quotients] + pol_sr_post_quotients\n",
        "post_labels = [\"English as a second language\", \"high school\", \"graduate school\", \"all_politics\"] + [i+\"_posts\" for i in political_subreddits]"
      ],
      "execution_count": null,
      "outputs": []
    },
    {
      "cell_type": "code",
      "metadata": {
        "id": "xiZ28e_KSkHs"
      },
      "source": [
        "comment_quotients = [e2l_quotients, hs_quotients, grad_quotients, pol_quotients] + pol_sr_comment_quotients\n",
        "comment_labels = [\"English as a second language\", \"high school\", \"graduate school\", \"all_politics\"] + [i+\"_comments\" for i in political_subreddits]"
      ],
      "execution_count": null,
      "outputs": []
    },
    {
      "cell_type": "code",
      "metadata": {
        "id": "h2oxF35VTdw7"
      },
      "source": [
        "quotients = [e2l_quotients, hs_quotients, grad_quotients, pol_quotients] + pol_sr_quotients\n",
        "labels = [\"English as a second language\", \"high school\", \"graduate school\", \"all_politics\"] + political_subreddits"
      ],
      "execution_count": null,
      "outputs": []
    },
    {
      "cell_type": "code",
      "metadata": {
        "id": "TuX5ObUuHiAs"
      },
      "source": [
        "with open(DATA_DIR+\"quotients_labels\", \"wb\") as outfile:\n",
        "  pickle.dump([quotients, labels, post_quotients, post_labels, comment_quotients,comment_labels], outfile)"
      ],
      "execution_count": null,
      "outputs": []
    },
    {
      "cell_type": "code",
      "metadata": {
        "id": "jBeTtodRelzN"
      },
      "source": [
        "with open(DATA_DIR+\"quotients_labels\", \"rb\") as infile:\n",
        "  [quotients, labels, post_quotients, post_labels, comment_quotients,comment_labels] = pickle.load(infile)"
      ],
      "execution_count": null,
      "outputs": []
    },
    {
      "cell_type": "code",
      "metadata": {
        "colab": {
          "base_uri": "https://localhost:8080/"
        },
        "id": "6MpocY1C_NCh",
        "outputId": "ac46402c-70e4-475b-a3ca-4e3f50ca09e6"
      },
      "source": [
        "for i in range(len(quotients)):\n",
        "  print(labels[i], len(quotients[i]), len(post_quotients[i]), len(comment_quotients[i])) "
      ],
      "execution_count": null,
      "outputs": [
        {
          "output_type": "stream",
          "text": [
            "English as a second language 261 261 261\n",
            "high school 496 496 496\n",
            "graduate school 2370 2370 2370\n",
            "all_politics 11937 11937 11937\n",
            "Freethought 98 26 72\n",
            "PoliticalDiscussion 4576 357 4219\n",
            "changemyview 5345 794 4551\n",
            "geopolitics 1246 104 1142\n",
            "government 62 23 39\n",
            "news 81 0 81\n",
            "politics 314 0 314\n",
            "politics2 54 36 18\n",
            "uspolitics 66 6 60\n",
            "worldnews 95 0 95\n"
          ],
          "name": "stdout"
        }
      ]
    },
    {
      "cell_type": "code",
      "metadata": {
        "colab": {
          "base_uri": "https://localhost:8080/",
          "height": 679
        },
        "id": "jzpxPqs2xr2c",
        "outputId": "cd3f6c55-83a9-45c0-c171-b418e1048f09"
      },
      "source": [
        "fig, axs = plt.subplots(nrows=1, ncols=1, figsize=(25, 8))\n",
        "# plot box plot\n",
        "axs.boxplot(quotients)\n",
        "axs.set_title('Vocabulary entropy in Reddit communities')\n",
        "\n",
        "# adding horizontal grid lines\n",
        "axs.yaxis.grid(True)\n",
        "axs.set_xticks([y + 1 for y in range(len(quotients))])\n",
        "axs.set_xlabel('Subreddit groups')\n",
        "axs.set_ylabel('Vocabulary quotients')\n",
        "\n",
        "# add x-tick labels\n",
        "plt.setp(axs, xticks=[y + 1 for y in range(len(quotients))],\n",
        "         xticklabels=labels,)\n",
        "axs.set_xticklabels(labels, rotation = 50)\n",
        "plt.show()"
      ],
      "execution_count": null,
      "outputs": [
        {
          "output_type": "stream",
          "text": [
            "/usr/local/lib/python3.7/dist-packages/numpy/core/_asarray.py:83: VisibleDeprecationWarning: Creating an ndarray from ragged nested sequences (which is a list-or-tuple of lists-or-tuples-or ndarrays with different lengths or shapes) is deprecated. If you meant to do this, you must specify 'dtype=object' when creating the ndarray\n",
            "  return array(a, dtype, copy=False, order=order)\n"
          ],
          "name": "stderr"
        },
        {
          "output_type": "display_data",
          "data": {
            "image/png": "[encoded data removed]",
            "text/plain": [
              "<Figure size 1800x576 with 1 Axes>"
            ]
          },
          "metadata": {
            "tags": [],
            "needs_background": "light"
          }
        }
      ]
    },
    {
      "cell_type": "code",
      "metadata": {
        "colab": {
          "base_uri": "https://localhost:8080/",
          "height": 679
        },
        "id": "cBcR9cW3MtWO",
        "outputId": "ff987e6a-4ae4-4b53-bade-c5b976efda21"
      },
      "source": [
        "fig, axs = plt.subplots(nrows=1, ncols=1, figsize=(25, 8))\n",
        "# plot box plot\n",
        "axs.violinplot(quotients)\n",
        "axs.set_title('Vocabulary entropy in Reddit communities')\n",
        "\n",
        "# adding horizontal grid lines\n",
        "axs.yaxis.grid(True)\n",
        "axs.set_xticks([y + 1 for y in range(len(quotients))])\n",
        "axs.set_xlabel('Subreddit groups')\n",
        "axs.set_ylabel('Vocabulary quotients')\n",
        "\n",
        "# add x-tick labels\n",
        "plt.setp(axs, xticks=[y + 1 for y in range(len(quotients))],\n",
        "         xticklabels=labels,)\n",
        "axs.set_xticklabels(labels, rotation = 50)\n",
        "plt.show()"
      ],
      "execution_count": null,
      "outputs": [
        {
          "output_type": "stream",
          "text": [
            "/usr/local/lib/python3.7/dist-packages/numpy/core/_asarray.py:83: VisibleDeprecationWarning: Creating an ndarray from ragged nested sequences (which is a list-or-tuple of lists-or-tuples-or ndarrays with different lengths or shapes) is deprecated. If you meant to do this, you must specify 'dtype=object' when creating the ndarray\n",
            "  return array(a, dtype, copy=False, order=order)\n"
          ],
          "name": "stderr"
        },
        {
          "output_type": "display_data",
          "data": {
            "image/png": "[encoded data removed]",
            "text/plain": [
              "<Figure size 1800x576 with 1 Axes>"
            ]
          },
          "metadata": {
            "tags": [],
            "needs_background": "light"
          }
        }
      ]
    },
    {
      "cell_type": "code",
      "metadata": {
        "colab": {
          "base_uri": "https://localhost:8080/",
          "height": 679
        },
        "id": "6OkcLTmjV7QF",
        "outputId": "a87f2b2c-366b-45fc-9d9a-eb9c3b62c37b"
      },
      "source": [
        "fig, axs = plt.subplots(nrows=1, ncols=1, figsize=(25, 8))\n",
        "# plot box plot\n",
        "axs.boxplot(post_quotients)\n",
        "axs.set_title('Vocabulary entropy in Reddit communities')\n",
        "\n",
        "# adding horizontal grid lines\n",
        "axs.yaxis.grid(True)\n",
        "axs.set_xticks([y + 1 for y in range(len(post_quotients))])\n",
        "axs.set_xlabel('Subreddit groups')\n",
        "axs.set_ylabel('Vocabulary quotients')\n",
        "\n",
        "# add x-tick labels\n",
        "plt.setp(axs, xticks=[y + 1 for y in range(len(post_quotients))],\n",
        "         xticklabels=post_labels,)\n",
        "axs.set_xticklabels(post_labels, rotation = 50)\n",
        "plt.show()"
      ],
      "execution_count": null,
      "outputs": [
        {
          "output_type": "stream",
          "text": [
            "/usr/local/lib/python3.7/dist-packages/numpy/core/_asarray.py:83: VisibleDeprecationWarning: Creating an ndarray from ragged nested sequences (which is a list-or-tuple of lists-or-tuples-or ndarrays with different lengths or shapes) is deprecated. If you meant to do this, you must specify 'dtype=object' when creating the ndarray\n",
            "  return array(a, dtype, copy=False, order=order)\n"
          ],
          "name": "stderr"
        },
        {
          "output_type": "display_data",
          "data": {
            "image/png": "[encoded data removed]",
            "text/plain": [
              "<Figure size 1800x576 with 1 Axes>"
            ]
          },
          "metadata": {
            "tags": [],
            "needs_background": "light"
          }
        }
      ]
    },
    {
      "cell_type": "code",
      "metadata": {
        "colab": {
          "base_uri": "https://localhost:8080/",
          "height": 680
        },
        "id": "4EL8dAxMWZaH",
        "outputId": "33e3f681-6e02-4307-85fe-d0d95e51cd18"
      },
      "source": [
        "fig, axs = plt.subplots(nrows=1, ncols=1, figsize=(25, 8))\n",
        "# plot box plot\n",
        "axs.violinplot(comment_quotients)\n",
        "axs.set_title('Vocabulary entropy in Reddit communities')\n",
        "\n",
        "# adding horizontal grid lines\n",
        "axs.yaxis.grid(True)\n",
        "axs.set_xticks([y + 1 for y in range(len(comment_quotients))])\n",
        "axs.set_xlabel('Subreddit groups')\n",
        "axs.set_ylabel('Vocabulary quotients')\n",
        "\n",
        "# add x-tick labels\n",
        "plt.setp(axs, xticks=[y + 1 for y in range(len(comment_quotients))],\n",
        "         xticklabels=comment_labels,)\n",
        "axs.set_xticklabels(comment_labels, rotation = 50)\n",
        "plt.show()"
      ],
      "execution_count": null,
      "outputs": [
        {
          "output_type": "stream",
          "text": [
            "/usr/local/lib/python3.7/dist-packages/numpy/core/_asarray.py:83: VisibleDeprecationWarning: Creating an ndarray from ragged nested sequences (which is a list-or-tuple of lists-or-tuples-or ndarrays with different lengths or shapes) is deprecated. If you meant to do this, you must specify 'dtype=object' when creating the ndarray\n",
            "  return array(a, dtype, copy=False, order=order)\n"
          ],
          "name": "stderr"
        },
        {
          "output_type": "display_data",
          "data": {
            "image/png": "[encoded data removed]",
            "text/plain": [
              "<Figure size 1800x576 with 1 Axes>"
            ]
          },
          "metadata": {
            "tags": [],
            "needs_background": "light"
          }
        }
      ]
    },
    {
      "cell_type": "code",
      "metadata": {
        "id": "7BgPDYBZXQ6u"
      },
      "source": [
        "comments_and_posts_quotients = [val for pair in zip(post_quotients[4:], comment_quotients[4:]) for val in pair]\n",
        "comments_and_posts_labels = [val for pair in zip(post_labels[4:], comment_labels[4:]) for val in pair]"
      ],
      "execution_count": null,
      "outputs": []
    },
    {
      "cell_type": "code",
      "metadata": {
        "colab": {
          "base_uri": "https://localhost:8080/",
          "height": 680
        },
        "id": "7qQbnvz8WppA",
        "outputId": "a95f977b-fcee-4a7e-9ab2-14af991c63c9"
      },
      "source": [
        "fig, axs = plt.subplots(nrows=1, ncols=1, figsize=(25, 8))\n",
        "# plot box plot\n",
        "axs.boxplot(comments_and_posts_quotients)\n",
        "axs.set_title('Vocabulary entropy in comments and posts')\n",
        "\n",
        "# adding horizontal grid lines\n",
        "axs.yaxis.grid(True)\n",
        "axs.set_xticks([y + 1 for y in range(len(comments_and_posts_quotients))])\n",
        "axs.set_xlabel('Subreddit groups')\n",
        "axs.set_ylabel('Vocabulary quotients')\n",
        "\n",
        "# add x-tick labels\n",
        "plt.setp(axs, xticks=[y + 1 for y in range(len(comments_and_posts_quotients))],\n",
        "         xticklabels=comments_and_posts_labels,)\n",
        "axs.set_xticklabels(comments_and_posts_labels, rotation = 50)\n",
        "plt.show()"
      ],
      "execution_count": null,
      "outputs": [
        {
          "output_type": "stream",
          "text": [
            "/usr/local/lib/python3.7/dist-packages/numpy/core/_asarray.py:83: VisibleDeprecationWarning: Creating an ndarray from ragged nested sequences (which is a list-or-tuple of lists-or-tuples-or ndarrays with different lengths or shapes) is deprecated. If you meant to do this, you must specify 'dtype=object' when creating the ndarray\n",
            "  return array(a, dtype, copy=False, order=order)\n"
          ],
          "name": "stderr"
        },
        {
          "output_type": "display_data",
          "data": {
            "image/png": "[encoded data removed]",
            "text/plain": [
              "<Figure size 1800x576 with 1 Axes>"
            ]
          },
          "metadata": {
            "tags": [],
            "needs_background": "light"
          }
        }
      ]
    },
    {
      "cell_type": "markdown",
      "metadata": {
        "id": "NA3Us2bdZtou"
      },
      "source": [
        "## Run some basic statistics\n",
        "### Confidence intervals\n",
        "In each sample we know   \n",
        "\n",
        "$$\\bar{x}=\\hat{\\mu}\\sim N(\\mu,\\frac{\\sigma_x}{\\sqrt{n}})$$\n",
        "\n",
        "and we can approximate $\\sigma_x$ with $S_x$. This gives us the $(1-\\alpha)$ confidence interval for $\\mu$ \n",
        "\n",
        "$$\\bar{x}\\pm z_{\\alpha/2}\\frac{S_x}{\\sqrt{n}}$$"
      ]
    },
    {
      "cell_type": "code",
      "metadata": {
        "colab": {
          "base_uri": "https://localhost:8080/"
        },
        "id": "t4YszL83jdr1",
        "outputId": "6e6d982c-1079-4182-ed7b-1d6314d34cb6"
      },
      "source": [
        "alpha = 0.05\n",
        "x_bar = mean(quotients[0])\n",
        "S_x = std(quotients[0])\n",
        "z = st.norm(0,1).ppf(1-alpha/2)\n",
        "n = len(quotients[0])\n",
        "st.norm(x_bar,S_x/sqrt(n)).interval(0.95)"
      ],
      "execution_count": null,
      "outputs": [
        {
          "output_type": "execute_result",
          "data": {
            "text/plain": [
              "(0.8504972117874878, 0.8588449707155639)"
            ]
          },
          "metadata": {
            "tags": []
          },
          "execution_count": 126
        }
      ]
    },
    {
      "cell_type": "code",
      "metadata": {
        "id": "k8Hgfcuzk3B2"
      },
      "source": [
        "x_bars = [mean(i) for i in quotients]\n",
        "se = [std(quotients[i])/sqrt(len(quotients[i])) for i in range(len(quotients))]\n",
        "conf_intervals = [st.norm(x_bars[i],se[i]).interval(0.95) for i in range(len(quotients))]\n",
        "highs = [i[1] for i in conf_intervals]\n",
        "lows = [i[0] for i in conf_intervals]"
      ],
      "execution_count": null,
      "outputs": []
    },
    {
      "cell_type": "code",
      "metadata": {
        "id": "2eVeHGcWZtCa",
        "colab": {
          "base_uri": "https://localhost:8080/",
          "height": 484
        },
        "outputId": "2c0f9834-51eb-4bb5-a189-ed2811c99d08"
      },
      "source": [
        "fig, axs = plt.subplots(nrows=1, ncols=1, figsize=(27, 8))\n",
        "axs.yaxis.grid(True)\n",
        "for lower,x_bar,upper,x in zip(lows,x_bars,highs,range(len(x_bars))):\n",
        "    plot((x,x,x),(lower,x_bar,upper),'bo-');\n",
        "xticks(range(len(x_bars)), labels);"
      ],
      "execution_count": null,
      "outputs": [
        {
          "output_type": "display_data",
          "data": {
            "image/png": "[encoded data removed]",
            "text/plain": [
              "<Figure size 1944x576 with 1 Axes>"
            ]
          },
          "metadata": {
            "tags": [],
            "needs_background": "light"
          }
        }
      ]
    },
    {
      "cell_type": "markdown",
      "metadata": {
        "id": "cqGCQEyv6xYx"
      },
      "source": [
        "## Sanity checks"
      ]
    },
    {
      "cell_type": "code",
      "metadata": {
        "colab": {
          "base_uri": "https://localhost:8080/"
        },
        "id": "dL03NbLi_g2i",
        "outputId": "9ecc281e-d38b-4c1c-a25e-3649343484a5"
      },
      "source": [
        "for i in range(len(quotients)):\n",
        "  print(st.mode(array(quotients[i])))"
      ],
      "execution_count": null,
      "outputs": [
        {
          "output_type": "stream",
          "text": [
            "ModeResult(mode=array([0.90428086]), count=array([5]))\n",
            "ModeResult(mode=array([0.84541235]), count=array([2]))\n",
            "ModeResult(mode=array([0.88517857]), count=array([4]))\n",
            "ModeResult(mode=array([0.88263792]), count=array([15]))\n",
            "ModeResult(mode=array([0.89287786]), count=array([2]))\n",
            "ModeResult(mode=array([0.86714739]), count=array([8]))\n",
            "ModeResult(mode=array([0.88263792]), count=array([8]))\n",
            "ModeResult(mode=array([0.88756724]), count=array([3]))\n",
            "ModeResult(mode=array([0.81552608]), count=array([1]))\n",
            "ModeResult(mode=array([0.82839877]), count=array([1]))\n",
            "ModeResult(mode=array([0.84671277]), count=array([3]))\n",
            "ModeResult(mode=array([0.72414316]), count=array([1]))\n",
            "ModeResult(mode=array([0.80871364]), count=array([2]))\n",
            "ModeResult(mode=array([0.83133802]), count=array([1]))\n"
          ],
          "name": "stdout"
        }
      ]
    },
    {
      "cell_type": "markdown",
      "metadata": {
        "id": "XD-Q0woPEAW8"
      },
      "source": [
        "It's good to see that there's not a lot of high-frequency values showing up, as that would indicate heavy influence of a single repeated message."
      ]
    },
    {
      "cell_type": "code",
      "metadata": {
        "colab": {
          "base_uri": "https://localhost:8080/"
        },
        "id": "wgKBLCjx92dR",
        "outputId": "2b9422fb-e31c-49d3-89d3-5f65bc558f1d"
      },
      "source": [
        "for i in range(len(pol_sr_comment_tokens)):\n",
        "  try:\n",
        "    print(argmax(comment_quotients[i]))\n",
        "    print(pol_sr_comment_tokens[i][argmax(comment_quotients[i+4])])\n",
        "  except:\n",
        "    print(f\"something is wrong for {labels[i+4]}\")\n",
        "    print(len(pol_sr_comment_tokens[i]),len(comment_quotients[i+4]))"
      ],
      "execution_count": null,
      "outputs": [
        {
          "output_type": "stream",
          "text": [
            "190\n",
            "['this' 'is' 'the' 'best' 'tldr' 'i' 'could' 'make'\n",
            " 'originalhttpswwwvanityfaircomnews'\n",
            " '202005donaldtrumpmediaalliesavoidjoescarboroughconspiracy' 'reduced'\n",
            " 'by' '77' 'im' 'a' 'bot' 'quoti' 'know' 'joe' 'scarborough' 'joe' 'is'\n",
            " 'a' 'friend' 'of' 'mine' 'i' 'don' '039t' 'know' 'tj' 'klausutis' 'joe'\n",
            " 'can' 'weather' 'vile' 'baseless' 'accusations' 'but' 'tj' 'his' 'heart'\n",
            " 'is' 'breaking' 'enough' 'alreadyquot' 'romney' 'tweeted' 'wednesday'\n",
            " 'in' 'a' 'remarkable' 'change' 'of' 'pace' 'trump' '039s' 'low' 'blow'\n",
            " 'is' 'too' 'much' 'even' 'for' 'oann' 'quotthe' 'president' 'has' 'been'\n",
            " 'very' 'critical' 'of' 'the' 'coverage' 'taking' 'place' 'on' 'msnbc'\n",
            " '039s' 'morning' 'joequot' 'noted' 'oann' 'host' 'alex' 'salvi' 'last'\n",
            " 'week' 'adding' 'that' 'trump' '039s' 'disdain' 'for' 'the' 'cablenews'\n",
            " 'show' 'has' 'resulted' 'in' 'him' 'quotraising' 'conspiracy'\n",
            " 'theoriesquot' 'against' 'its' 'host' 'outside' 'of' 'trump' '039s'\n",
            " 'twitter' 'account' 'which' 'boasts' 'more' 'than' '80' 'million'\n",
            " 'followers' 'the' 'scarborough' 'conspiracy' 'theories' 'have'\n",
            " 'continued' 'to' 'spread' 'among' 'c' 'and' 'dlist' 'conservative'\n",
            " 'pundits' 'including' 'sinclair' 'contributor' 'and' 'salem' 'radio'\n",
            " 'host' 'sebastian' 'gorka' 'newsmax' 'host' 'john' 'cardillo' 'rightwing'\n",
            " 'blogger' 'mike']\n",
            "375\n",
            "['i' 'think' 'itll' 'depend' 'wholly' 'on' 'how' 'bad' 'the' 'education'\n",
            " 'system' 'is' 'in' '75' 'years' 'right' 'now' 'im' 'willing' 'to' 'bet'\n",
            " 'that' 'if' 'i' 'asked' 'an' 'average' 'joe' 'to' 'name' 'a' 'president'\n",
            " 'before' 'kennedy' 'ill' 'get' 'back' 'lincoln' 'fdr' 'or' 'washington'\n",
            " 'maybe' 'jefferson' 'thats' 'it' 'that' 'being' 'said' 'eisenhower'\n",
            " 'ford' 'carter' 'bush' '41' 'and' 'maybe' 'clinton' 'will' 'fade' 'away'\n",
            " 'while' 'each' 'president' 'had' 'their' 'own' 'memorable' 'events'\n",
            " 'happen' 'the' 'other' 'presidents' 'have' 'a' 'lot' 'more' 'to' 'hang'\n",
            " 'their' 'hat' 'on' 'for' 'better' 'or' 'worse' 'thatll' 'keep' 'them'\n",
            " 'memorable' 'kennedy' 'camelot' 'space' 'program' 'assassination'\n",
            " 'johnson' 'vietnam' 'civil' 'rights' 'civil' 'unrest' 'during' 'the'\n",
            " '60s' 'nixon' 'watergate' 'resigning' 'reagan' 'star' 'wars' 'ussr'\n",
            " 'synonymous' 'with' 'the' 'entire' '80s' 'bush' '43' '911' 'iraq' 'and'\n",
            " 'afghanistan' 'i' 'feel' 'like' 'bush' 'v' 'gore' 'will' 'still' 'be'\n",
            " 'remembered' 'too' 'obama' 'first' 'african' 'american' 'trump' 'the'\n",
            " 'entire' 'disaster' 'that' 'was' 'his' 'presidency' '2020' 'election'\n",
            " 'cult' 'of' 'personality' 'that' 'being']\n",
            "720\n",
            "['i' 'don' '’' 't' 'think' 'it' '’' 's' 'a' 'foregone' 'conclusion' 'that'\n",
            " 'alien' 'life' 'would' 'be' 'similar' 'to' 'us' 'aside' 'from' 'being'\n",
            " 'carbon' 'based' 'if' 'you' '’' 're' 'looking' 'for' 'dissimilar'\n",
            " 'highly' 'efficient' 'objectively' 'weird' 'aliens' 'look' 'no' 'further'\n",
            " 'than' 'fungi' 'it' '’' 's' 'entirely' 'possible' 'they' 'seeded'\n",
            " 'terrestrial' 'lifehttpswwwscientificamericancomarticlefirstlifeonland'\n",
            " '2016030' '2t225312z679129757l2n16a1martrmadt0sciencefunguspixxml' 'they'\n",
            " 'are' 'highly' 'complex' 'httpwwwbbccomearthstory' '2014111'\n",
            " '1plantshaveahiddeninternet' 'community' 'builders' 'some' 'argue' 'for'\n",
            " 'intelligence' 'because' 'they' 'conduct' 'behavior'\n",
            " 'modificationhttpswwwnytimescom' '2019102' '4scienceantzombiesfungushtml'\n",
            " 'to' 'meet' 'their' 'own' 'goals' 'spores' 'are' 'an' 'elegant' 'form'\n",
            " 'of' 'travelhttpsuphylprattdukeedunytimesfungi' '2017pdf' 'bordering'\n",
            " 'on' 'fully' 'organic' 'propulsion' 'despite' 'not' 'having' 'endogenous'\n",
            " 'locomotion' 'their' 'reproduction' 'is' 'incredibly'\n",
            " 'versatilehttpswwwbiolearnerscom'\n",
            " '201908reproductioninfungisexualandasexualhtml' 'allowing' 'for' 'a'\n",
            " 'higher' 'chance' 'of' 'success' 'on' 'new' 'planets' 'we' 'already'\n",
            " 'know' 'fungi' 'thriveshttpssciencelineorg'\n",
            " '201803fungilovetogrowinouterspace' 'in' 'space' 'as' 'a' 'tag' 'along'\n",
            " 'spores' 'can' 'even' 'survive' 'deep' 'space' 'conditions' 'without' 'a'\n",
            " 'vehicle' 'by' 'making' 'their' 'own'\n",
            " 'shieldhttphelioseieektgreiebitstream' '10442155611' 'interplanetary'\n",
            " '20survival20probability20of20aspergillus20terreus20sporespdf' 'and'\n",
            " 'can' 'remain' 'viablehttpspubmedncbinlmnihgov' '2968012' '4' 'after'\n",
            " 'exposure' 'to']\n",
            "37\n",
            "['two' 'reasons' 'that' 'seem' 'key' '1' 'sykes' '–' 'picot' 'agreement'\n",
            " 'drew' 'lines' 'in' 'the' 'sand' 'which' 'led' 'to' 'most' 'modern'\n",
            " 'arab' 'nations' 'as' 'we' 'know' 'them' 'today' 'the' 'straightasruler'\n",
            " 'type' 'lines' 'they' 'drew' 'on' 'the' 'map' 'essentially' 'made' 'sure'\n",
            " 'these' 'nations' 'would' 'have' 'very' 'low' 'internal' 'unity' 'too'\n",
            " 'many' 'different' 'sects' 'tribes' 'and' 'interests' 'in' 'a' 'single'\n",
            " 'polity' 'for' 'it' 'to' 'work' 'well' 'so' 'leadership' 'is' 'usually'\n",
            " 'dictators' 'that' 'rule' 'with' 'an' 'iron' 'fist' 'or' 'fractured'\n",
            " 'and' 'dysfunctional' 'democracies' 'in' 'both' 'cases' 'it' 'pretty'\n",
            " 'much' 'ensures' 'poorly' 'functioning' 'armies' 'and' 'other' 'large'\n",
            " 'institutions' '2' 'fighting' 'nondefensive' 'wars' 'ksa' 'in' 'yemen'\n",
            " 'iraq' 'vs' 'iran' 'wars' 'against' 'israel' 'these' 'are' 'nondefensive'\n",
            " 'conflicts' 'from' 'he' 'arab' 'side' 'in' 'cases' 'where' 'arabs'\n",
            " 'needed' 'to' 'defend' 'their' 'land' 'as' 'lebanese' 'did' 'against'\n",
            " 'israel' 'its' 'a' 'different' 'story' 'in' 'other' 'words' 'if' 'iran'\n",
            " 'was' 'the' 'aggressor' 'against' 'iraq' 'i' 'believe' 'theres' 'a'\n",
            " 'good' 'chance' 'the' 'iraqis']\n",
            "67\n",
            "['your' 'poor' 'wife' 'is' 'caught' 'in' 'a' 'double' 'bind' 'insurance'\n",
            " 'companies' 'dont' 'like' 'paying' 'for' 'back' 'pain' 'unless' 'theres'\n",
            " 'visible' 'damage' 'and' 'the' 'government' 'has' 'recently' 'decided'\n",
            " 'that' 'there' 'are' 'too' 'many' 'americans' 'hooked' 'on' 'oxy'\n",
            " 'unfortunately' 'your' 'wife' 'probably' 'falls' 'into' 'the' 'category'\n",
            " 'of' 'probable' 'abuser' 'especially' 'if' 'youre' 'younger' 'do'\n",
            " 'either' 'of' 'you' 'have' 'visible' 'tattoos' 'do' 'you' 'wear'\n",
            " 'leather' 'jackets' 'how' 'about' 'ear' 'plugs' 'any' 'of' 'these'\n",
            " 'items' 'along' 'with' 'others' 'are' 'enough' 'to' 'put' 'her' 'on' 'a'\n",
            " 'list' 'of' 'possible' 'abusers' 'that' 'will' 'be' 'restricted' 'from'\n",
            " 'receiving' 'narcotics' 'its' 'outright' 'profiling' 'and' 'it' 'should'\n",
            " 'never' 'be' 'allowed' 'to' 'happen' 'but' 'it' 'does' 'there' 'are'\n",
            " 'things' 'you' 'can' 'do' 'to' 'fight' 'this' 'though' 'does' 'she'\n",
            " 'have' 'her' 'own' 'or' 'family' 'doctor' 'or' 'are' 'you' 'stuck'\n",
            " 'using' 'a' 'clinic' 'if' 'you' 'are' 'going' 'where' 'you' 'see'\n",
            " 'someone' 'different' 'half' 'the' 'time' 'i' 'suggest' 'you' 'find'\n",
            " 'your' 'own' 'doctor']\n",
            "48\n",
            "['charging' 'inmates' 'to' 'keep' 'them' 'in' 'jail' 'is' 'just' 'so'\n",
            " 'fucked' 'up' 'these' 'are' 'mostly' 'pretrial' 'detainees' 'who'\n",
            " 'havent' 'even' 'been' 'convicted' 'of' 'anything' 'my' 'old' 'county'\n",
            " 'jail' 'charged' 'you' '320' 'a' 'day' 'for' 'the' 'privilege' 'of'\n",
            " 'staying' 'there' 'if' 'you' 'worked' 'you' 'didnt' 'get' 'paid' 'youd'\n",
            " 'just' 'get' 'the' '320' 'waived' 'and' 'it' 'would' 'go' 'into' 'the'\n",
            " 'negatives' 'as' 'well' 'it' 'takes' 'at' 'least' '2' 'weeks' 'of'\n",
            " 'processing' 'before' 'someone' 'can' 'put' 'money' 'on' 'your' 'books'\n",
            " 'for' 'commissary' 'so' 'youre' 'already' '45' 'in' 'the' 'hole' 'so'\n",
            " 'if' 'your' 'family' 'wanted' 'to' 'add' '20' 'it' 'would' 'be' '65fees'\n",
            " 'so' '75' 'and' 'then' 'of' 'course' 'next' 'week' 'youre' 'starting'\n",
            " 'at' '22' 'again' 'they' 'were' 'making' 'a' 'fucking' 'fortune' 'off'\n",
            " 'families' 'that' 'wanted' 'their' 'locked' 'up' 'people' 'to' 'have'\n",
            " 'more' 'than' 'just' 'the' 'garbage' 'they' 'served' 'and' 'basics'\n",
            " 'like' 'shampoo' 'and' 'body' 'wash' 'you' 'get' 'issued' 'hand' 'soap'\n",
            " 'inmates' 'with' 'no' 'money']\n",
            "1699\n",
            "['this' 'is' 'the' 'best' 'tldr' 'i' 'could' 'make'\n",
            " 'originalhttpslawandcrimecomsupremecourtsotomayorwastheonlyjusticewhoquestionedajailswarrantlesssearchofawomansvaginaandanus'\n",
            " 'reduced' 'by' '85' 'im' 'a' 'bot' 'supreme' 'court' 'justice' 'sonia'\n",
            " 'sotomayor' 'authored' 'an' 'opinion' 'related' 'to' 'an' 'order' 'on'\n",
            " 'monday' 'in' 'a' 'case' 'assessing' 'the' 'constitutionality' 'of'\n",
            " 'whether' 'people' 'who' 'are' 'accused' 'of' 'the' 'most' 'minor'\n",
            " 'crimes' 'can' 'be' 'subjected' 'to' 'extremely' 'invasive' 'warrantless'\n",
            " 'searches' 'and' 'traumatized' 'by' 'jail' 'officials' 'quotif' 'courts'\n",
            " 'permit' 'extraordinarily' 'intrusive' 'searches' 'of' 'pretrial'\n",
            " 'detainees' 'without' 'a' 'warrant' 'correctional' 'officers' 'may'\n",
            " 'abandon' 'less' 'invasive' 'but' 'more' 'burdensome' 'practicesquot'\n",
            " 'sotomayor' 'went' 'on' 'to' 'say' 'later' 'in' 'the' 'opinion'\n",
            " 'quotgoing' 'forward' 'courts' 'must' 'consider' 'less' 'intrusive'\n",
            " 'possibilities' 'before' 'categorically' 'allowing' 'warrantless'\n",
            " 'searches' 'this' 'obligation' 'weighs' 'particularly' 'heavily' 'for'\n",
            " 'dehumanizing' 'searches' 'of' 'pretrial' 'detainees' 'like' 'that'\n",
            " 'which' 'brown' 'endured' 'extended'\n",
            " 'summaryhttpnpredditcomrautotldrcommentsmuuzxasotomayorwastheonlyjusticewhoquestioneda'\n",
            " 'faqhttpnpredditcomrautotldrcomments' '31b9fmfaqautotldrbot' 'version'\n",
            " '202 5719' '13' 'tldrs' 'so' 'far'\n",
            " 'feedbackhttpnpredditcommessagecomposeto' '23autotldr' 'pms' 'and'\n",
            " 'comments' 'are' 'monitored' 'constructive' 'feedback' 'is' 'welcome'\n",
            " 'top' 'keywords' 'search' '1' 'brown' '2' 'jail' '3' 'court' '4']\n",
            "791\n",
            "['this' 'is' 'absurd' 'democrats' 'would' 'be' 'in' 'control' 'of'\n",
            " 'american' 'government' 'regardless' 'of' 'the' 'treasonous' 'acts'\n",
            " 'perpetrated' 'by' 'rightwing' 'sycophants' 'they' 'all' 'engaged' 'in'\n",
            " 'and' 'allowed' 'them' 'minds' 'to' 'be' 'infiltrated' 'with' 'the'\n",
            " 'greatest' 'lie' 'and' 'act' 'of' 'sedition' 'america' 'has' 'ever'\n",
            " 'experienced' 'fact' 'biden' 'win' 'the' '2020' 'election' 'fair' 'and'\n",
            " 'square' 'there' 'was' 'zero' 'widespread' 'voter' 'fraud' 'zero'\n",
            " 'reason' 'to' 'overturn' 'a' 'single' 'vote' 'in' 'any' 'state' '80'\n",
            " 'lawsuits' 'filed' 'by' 'trump' 'and' 'his' 'cronies' 'with' 'exactly'\n",
            " 'zero' 'having' 'a' 'shred' 'of' 'evidence' 'thanks' 'm' 'fact' 'rudy'\n",
            " 'giuliani' 'admitted' 'in' 'court' 'under' 'oath' 'that' 'there' 'was'\n",
            " 'not' 'voter' 'fraud' 'the' 'bottom' 'line' 'is' 'republicans' 'have'\n",
            " 'lost' 'power' 'their' 'base' 'is' 'shrinking' 'the' 'caucus' 'fractures'\n",
            " 'into' '3' 'separate' 'groups' 'and' 'they' '’' 're' 'destroying'\n",
            " 'themselves' 'from' 'within' 'this' 'is' 'no' 'surprise' 'if' 'you'\n",
            " 'look' 'at' 'history' 'all' 'groups' 'of' 'people' 'hungry' 'solely'\n",
            " 'for' 'greed' 'power' 'and' 'authority' 'always' 'end' 'up']\n",
            "30\n",
            "['like' 'those' 'in' 'most' 'us' 'states' 'floridas' 'public' 'schools'\n",
            " 'and' 'daycare' 'centers' 'require' 'students' 'to' 'be' 'vaccinated'\n",
            " 'for' 'diphtheria' 'tetanus' 'pertussis' 'polio' 'measles' 'mumps'\n",
            " 'rubella' 'chickenpox' 'and' 'other' 'diseases' 'before' 'being'\n",
            " 'allowed' 'to' 'attend' 'while' 'religious' 'exemptions' 'are'\n",
            " 'permitted' 'the' 'science' 'behind' 'vaccinating' 'schoolkids' 'before'\n",
            " 'allowing' 'them' 'to' 'congregate' 'in' 'classrooms' 'is' 'the' 'same'\n",
            " 'when' 'it' 'comes' 'to' 'businesses' 'and' 'covid' '19' 'snip' '“'\n",
            " 'proposals' 'like' 'these' 'smack' 'of' '1940s' 'nazi' 'germany' 'we'\n",
            " 'must' 'make' 'every' 'effort' 'to' 'keep' 'america' 'from' 'becoming'\n",
            " 'a' '‘' 'show' 'your' 'papers' 'society' '’' '”' 'cawthorn' 'told' 'fox'\n",
            " 'news' '“' 'the' 'constitution' 'and' 'our' 'founding' 'principles'\n",
            " 'decry' 'this' 'type' 'of' 'totalitarianism' '”' 'however' 'there' 'are'\n",
            " 'already' 'statutes' 'at' 'the' 'federal' 'level' 'that' 'require'\n",
            " 'people' 'to' 'be' 'vaccinated' 'against' 'various' 'infectious'\n",
            " 'diseases' 'in' 'some' 'cases' 'under' 'current' 'federal' 'law' 'for'\n",
            " 'example' '“' 'a' 'foreign' 'national' 'who' 'applies' 'for' 'an'\n",
            " 'immigrant' 'visa' 'abroad' 'or' 'who' 'seeks' 'to']\n",
            "29\n",
            "['this' 'is' 'the' 'best' 'tldr' 'i' 'could' 'make'\n",
            " 'originalhttpswwwthemoscowtimescom' '2021042'\n",
            " '1asitshappeningrussiansprotestinsupportofailingnavalnya73676' 'reduced'\n",
            " 'by' '72' 'im' 'a' 'bot' 'us' 'president' 'joe' 'biden' 'who' 'imposed'\n",
            " 'a' 'new' 'round' 'of' 'antirussian' 'sanctions' 'last' 'week' 'said'\n",
            " 'on' 'saturday' 'that' 'navalny' '039s' 'plight' 'was' 'quottotally'\n",
            " 'totally' 'unfair' 'totally' 'inappropriatequot' 'eu' 'foreign' 'policy'\n",
            " 'chief' 'josep' 'borrell' 'said' 'on' 'monday' 'that' 'the' 'bloc'\n",
            " 'holds' 'russia' 'quotresponsiblequot' 'for' 'navalny' '039s' 'health'\n",
            " '116' 'pm' 'at' 'least' 'five' 'navalny' 'supporters' 'have' 'been'\n",
            " 'detained' 'in' 'the' 'siberian' 'city' 'of' 'irkutsk' '5000'\n",
            " 'kilometers' 'east' 'of' 'moscow' 'according' 'to' 'the' 'mediazona'\n",
            " 'news' 'website' '1127' 'am' 'the' 'independent' 'monitor' 'ovdinfo'\n",
            " 'said' 'that' 'police' 'had' 'conducted' 'searches' 'and' 'detained'\n",
            " 'activists' 'in' 'at' 'least' '20' 'cities' 'across' 'russia' 'with'\n",
            " 'navalny' '039s' 'team' 'planning' 'protests' 'in' 'more' 'than' '100'\n",
            " 'cities' 'extended' 'summaryhttpnpredditcomrautotldrcommentsmvqlw'\n",
            " '21000arrestedasnavalnysupportersprotest'\n",
            " 'faqhttpnpredditcomrautotldrcomments' '31b9fmfaqautotldrbot' 'version'\n",
            " '202 5721' '46' 'tldrs' 'so' 'far'\n",
            " 'feedbackhttpnpredditcommessagecomposeto' '23autotldr' 'pms' 'and'\n",
            " 'comments' 'are' 'monitored' 'constructive' 'feedback' 'is' 'welcome'\n",
            " 'top' 'keywords' 'navalny' '1' 'city']\n"
          ],
          "name": "stdout"
        }
      ]
    },
    {
      "cell_type": "code",
      "metadata": {
        "colab": {
          "base_uri": "https://localhost:8080/"
        },
        "id": "FyZpidtcFSE8",
        "outputId": "38692f09-5723-4651-96a3-c14ff23d8fa1"
      },
      "source": [
        "for i in range(len(pol_sr_post_tokens)):\n",
        "  try:\n",
        "    print(argmax(post_quotients[i+4]))\n",
        "    print(pol_sr_post_tokens[i][argmax(post_quotients[i+4])])\n",
        "  except:\n",
        "    print(f\"something is wrong for {labels[i+4]}\")\n",
        "    print(len(pol_sr_post_tokens[i]),len(post_quotients[i+4]))"
      ],
      "execution_count": null,
      "outputs": [
        {
          "output_type": "stream",
          "text": [
            "25\n",
            "['x200b' 'httpspreviewreddit'\n",
            " '00x7z3kpymw41jpgwidth569formatpjpgautowebpsbbc8579896057436e1b9947d697a57b69df9f9c3'\n",
            " 'if' 'god' 'did' 'exist' 'he' 'wouldnt' 'discourage' 'rational'\n",
            " 'thinking' 'especially' 'when' 'it' 'comes' 'to' 'learning' 'rational'\n",
            " 'moral' 'values' 'people' 'that' 'read' 'and' 'understand' 'the' 'bible'\n",
            " 'must' 'realize' 'that' 'it' 'teaches' 'many' 'irrational' 'things'\n",
            " 'which' 'include' 'entrapment' 'slavery' 'divide' 'and' 'rule' 'tactics'\n",
            " 'and' 'propping' 'up' 'tyrant' 'dictating' 'the' 'truth' 'to' 'the'\n",
            " 'masses' 'httpszacherydtaylorblogspotcom'\n",
            " '201910thebiblicalgodisbrainwashingculthtmlhttpszacherydtaylorblogspotcom201910thebiblicalgodisbrainwashingculthtmlfbclidiwar2luo38mmwwxfahcetfud5teaaxj6p550iwzoyjb7u2n5rizpdt6vo4'\n",
            " 'the' 'bible' 'reads' 'more' 'like' 'an' 'indoctrination' 'manual' 'than'\n",
            " 'it' 'does' 'a' 'credible' 'source' 'for' 'morality' 'jesus' 'even'\n",
            " 'said' 'he' 'would' 'divide' 'family' 'members' 'against' 'each' 'other'\n",
            " 'if' 'they' 'dont' 'love' 'him' 'more' 'than' 'each' 'other' 'x200b'\n",
            " 'httpspreviewreddit'\n",
            " '0xdy4jlrymw41jpgwidth333formatpjpgautowebps7505e6de9a6672f6bf6e6562cba214897e36ad56'\n",
            " 'those' 'following' 'this' 'even' 'if' 'theyre' 'part' 'of' 'a' 'massive'\n",
            " 'group' 'with' 'millions' 'if' 'not' 'billions' 'of' 'followers' 'are'\n",
            " 'behaving' 'more' 'like' 'cult' 'followers' 'than' 'a' 'higher' 'moral'\n",
            " 'authority' 'this' 'is' 'enough' 'to' 'prove' 'that' 'either' 'god'\n",
            " 'doesnt' 'exist' 'or' 'he' 'has' 'an' 'incredibly' 'bizarre' 'farfetched'\n",
            " 'undisclosed' 'motive' 'either' 'way' 'hes' 'not' 'trustworthy' 'nor'\n",
            " 'are']\n",
            "31\n",
            "['this' 'isnt' 'a' 'question' 'of' 'whether' 'or' 'not' 'he' 'deserves'\n",
            " 'credit' 'an' 'argument' 'which' 'might' 'have' 'some' 'merit' 'much'\n",
            " 'stronger' 'stimulus' 'passed' 'and' 'anticipated' 'infrastructure'\n",
            " 'spending' 'tend' 'to' 'be' 'good' 'for' 'markets' 'but' 'whether' 'or'\n",
            " 'not' 'its' 'politically' 'wise' 'to' 'do' 'so' 'obviously' 'bidens'\n",
            " 'predecessor' 'trump' 'boasted' 'frequentlyhttpswwwcnbccom' '2018020'\n",
            " '6trumphastweetedaboutstockmarket63timessince2016electionhtml' 'about'\n",
            " 'stock' 'market' 'performance' 'which' 'trended' 'upward' 'during' 'his'\n",
            " 'presidency' 'obama' 'did' 'not' 'although' 'it' 'performed'\n",
            " 'betterhttpswwwcnncominteractive'\n",
            " '2019businessstockmarketbypresidentindexhtml' 'during' 'his' 'first' '4'\n",
            " 'years' 'and' 'surged' 'after' 'he' 'was' 'reelected' 'its' 'generally'\n",
            " 'performed'\n",
            " 'betterhttpsmarketsbusinessinsidercomnewsstocksstockmarketelectiondemocraticrepublicanpresidentsbetterperformanceeconomygdp'\n",
            " '2020810295' '28932' 'under' 'democratic' 'presidents' 'as' 'has' 'gdp'\n",
            " 'growth' 'market' 'indices' 'have' 'risen' 'around' '20' 'to' 'record'\n",
            " 'levels' 'since' 'biden' 'was' 'elected' 'reason' 'against' 'i' 'often'\n",
            " 'thought' 'trumps' 'boasting' 'was' 'tonedeaf' 'focusing' 'on' 'gains'\n",
            " 'that' 'are' 'mostly' 'tilted' 'towards' 'elites' 'while' 'other'\n",
            " 'measures' 'of' 'economic' 'improvement' 'were' 'relatively' 'lackluster'\n",
            " 'its' 'especially' 'tonedeaf' 'during' 'times' 'of' 'crisis' 'when' 'the'\n",
            " 'fedinduced' 'rebound' 'occurred' 'at' 'a' 'time' 'americans' 'were'\n",
            " 'struggling']\n",
            "730\n",
            "['oooooh' 'another' 'aa' 'post' 'hooooow' 'originaaaal' 'preface' 'i'\n",
            " 'think' 'minority' 'includes' 'asians' 'but' 'lets' 'pretend' 'it'\n",
            " 'doesnt' 'for' 'the' 'purposes' 'of' 'the' 'post' 'why' 'does' 'aa'\n",
            " 'exist' 'minorities' 'in' 'the' 'us' 'face' 'greater' 'obstacles' 'and'\n",
            " 'should' 'not' 'be' 'expected' 'to' 'be' 'as' 'achieving' 'as' 'their'\n",
            " 'white' 'and' 'asian' 'counterparts' 'fine' 'thats' 'true' 'but' 'its'\n",
            " 'a' 'wide' 'view' '71' 'of' 'harvards' 'brown' 'student' 'population'\n",
            " 'came' 'from' 'rich'\n",
            " 'familieshttpsblogcollegevinecomwhatisaffirmativeaction' 'so' 'it'\n",
            " 'looks' 'like' 'its' 'often' 'not' 'economically' 'challenged'\n",
            " 'minorities' 'who' 'are' 'getting' 'the' 'final' 'push' 'into' 'an'\n",
            " 'elite' 'school' 'from' 'affirmative' 'action' 'so' 'while' 'a'\n",
            " 'privileged' 'black' 'or' 'hispanic' 'kid' 'gets' 'a' 'seat' 'a' 'really'\n",
            " 'challenged' 'eastern' 'european' 'firstgeneration' 'kid' 'with'\n",
            " 'working' 'class' 'parents' 'whos' 'almost' 'at' 'the' 'finish' 'line'\n",
            " 'if' 'you' 'will' 'gets' 'rejected' 'ps' 'yes' 'i' 'know' 'college'\n",
            " 'admission' 'are' 'holistic' 'and' 'more' 'complicated' 'than' 'checking'\n",
            " 'off' 'boxes' 'and' 'two' 'students' 'are' 'never' 'compared'\n",
            " 'sidebyside' 'in' 'an' 'admissions' 'room' 'this']\n",
            "26\n",
            "['given' 'that' 'they' 'are' 'a' 'fullfledged' 'nuclear' 'nation' 'and'\n",
            " 'backed' 'by' 'chinaand' 'maybe' 'russiaperhaps' 'the' 'hermit' 'kingdom'\n",
            " 'doesnt' 'really' 'have' 'much' 'to' 'fear' 'nowadayssince' 'nukesimmune'\n",
            " 'to' 'invasionor' 'so' 'i' 'think' 'sowhere' 'does' 'north' 'korea' 'go'\n",
            " 'from' 'here' 'do' 'they' 'become' 'a' 'minichinado' 'we' 'just' 'remove'\n",
            " 'the' 'sanctions' 'on' 'themthey' 'havent' 'worked' 'at' 'allto' 'be'\n",
            " 'very' 'honest' 'and' 'just' 'attempt' 'some' 'sort' 'of' 'détente'\n",
            " 'with' 'them' 'becausethe' 'way' 'i' 'see' 'itnorth' 'korea' 'pretty'\n",
            " 'much' 'has' 'everyone' 'dead' 'to' 'rights' 'couldlets' 'be' 'honest'\n",
            " 'here' 'eradicate' 'seoulthe' 'whole' 'sea' 'of' 'fire' 'thing' 'could'\n",
            " 'very' 'much' 'cripple' 'japanthird' 'nuke' 'depending' 'on' 'who'\n",
            " 'starts' 'would' 'have' 'to' 'contend' 'with' 'china' 'as' 'well' 'as'\n",
            " 'fighting' 'the' 'north' 'korean' 'militarywhich' 'is' 'vast' 'and'\n",
            " 'even' 'in' 'north' 'korea' 'falls' 'no' 'one' 'wants' 'to' 'deal' 'with'\n",
            " '23' 'million' 'impoverished' 'people' 'who' 'would' 'no' 'doubt' 'flee'\n",
            " 'south' 'or' 'to' 'china' 'and' 'to' 'top' 'it' 'off' 'the' 'korean'\n",
            " 'peninsula' 'is' 'one']\n",
            "13\n",
            "['here' 'i' 'will' 'make' 'the' 'argument' 'that' 'the' 'dont' 'say' 'it'\n",
            " 'internet' 'has' 'crippled' 'that' 'effect' 'and' 'weight' 'free'\n",
            " 'speech' 'has' 'recently' 'ed' 'snowden' 'leaked' 'critical'\n",
            " 'information' 'on' 'how' 'intelligence' 'is' 'gathered' 'and' 'more'\n",
            " 'importantly' 'the' 'large' 'volume' 'and' 'reasoning' 'behind' 'doing'\n",
            " 'so' 'first' 'off' 'it' 'means' 'that' 'the' 'government' 'is' 'taking'\n",
            " 'power' 'into' 'their' 'own' 'hands' 'think' 'about' 'that' 'sentence'\n",
            " 'for' 'a' 'minute' 'the' 'shining' 'beacon' 'of' 'democracy' 'and'\n",
            " 'northern' 'star' 'of' 'justice' 'just' 'slipped' 'and' 'shushed' 'and'\n",
            " 'by' 'the' 'way' 'internally' 'justified' 'the' 'time' 'and' 'money' 'to'\n",
            " 'process' 'billions' 'of' 'gigabits' 'of' 'data' 'from' 'you' 'and' 'me'\n",
            " 'what' 'the' 'fuck' 'right' 'my' 'beloved' 'baby' 'she' 'cant' 'help' 'a'\n",
            " 'poor' 'college' 'student' 'with' 'his' 'more' 'likely' 'her' 'american'\n",
            " 'dream' 'but' 'dont' 'worry' 'if' 'little' 'sally' 'across' 'the'\n",
            " 'street' 'plans' 'anything' 'terroristy' 'my' 'new' 'adjective' 'we'\n",
            " 'got' 'your' 'back' 'what' 'the' 'hell' 'happened' 'to' 'believing'\n",
            " 'people' 'arent' 'terrible' 'unfortunately' 'me']\n",
            "something is wrong for news\n",
            "0 0\n",
            "something is wrong for politics\n",
            "0 0\n",
            "22\n",
            "['without' 'simply' 'saying' 'look' 'what' 'happened' 'in' '2016' 'biden'\n",
            " 'is' 'leading' 'by' 'even' 'more' 'than' 'hillary' 'was' 'trump' 'barely'\n",
            " 'won' 'several' 'states' 'and' 'i' 'just' 'dont' 'think' 'lightning'\n",
            " 'will' 'strike' 'twice' 'i' 'got' 'biden' 'at' 'odds' 'of' '160' 'and'\n",
            " '185' 'on' 'bovada' 'and' 'want' 'to' 'put' 'more' 'down' 'before' 'the'\n",
            " 'line' 'moves' 'again' 'if' 'youre' 'not' 'familiar' 'with' 'gambling'\n",
            " 'odds' 'thats' 'how' 'much' 'money' 'you' 'have' 'to' 'risk' 'to' 'win'\n",
            " '100' 'meaning' 'biden' 'is' 'less' 'than' '65' 'predicted' 'to' 'win'\n",
            " 'i' 'disagree' 'completely' 'and' 'think' 'the' 'only' 'thing' 'that'\n",
            " 'is' 'keeping' 'him' 'at' 'that' 'low' 'favorite' 'line' 'is' 'what'\n",
            " 'happened' 'in' '2016' 'people' 'just' 'arent' 'comfortable' 'betting'\n",
            " 'against' 'trump' 'like' 'someone' 'afraid' 'to' 'go' 'into' 'a' 'field'\n",
            " 'where' 'they' 'were' 'struck' 'by' 'lightning' 'this' 'one' 'time' '4'\n",
            " 'years' 'ago' 'there' 'are' 'mma' 'fighters' 'sports' 'teams' 'etc'\n",
            " 'that' 'at' '400' 'i' 'would' 'have' 'less' 'confidence' 'in' 'them'\n",
            " 'winning' 'let' 'alone' 'being']\n",
            "0\n",
            "['these' 'lawsuits' 'are' 'deadly' 'serious' 'when' 'it' 'comes' 'to'\n",
            " 'the' 'big' 'lie' 'trump' 'has' 'been' 'defending' 'and' 'lots' 'of'\n",
            " 'money' 'might' 'change' 'hands' 'if' 'they' 'lose' 'those' 'lawsuits'\n",
            " 'but' 'just' 'how' 'will' 'their' 'loss' 'affect' 'trumps' 'base' 'voter'\n",
            " 'is' 'it' 'possible' 'that' 'this' 'base' 'voter' 'will' 'turn' 'on'\n",
            " 'the' 'object' 'of' 'their' 'affection' 'and' 'ever' 'reject' 'trump'\n",
            " 'or' 'can' 'we' 'expect' 'trump' 'to' 'keep' 'it' 'up' 'through' 'the'\n",
            " '2024' 'election' 'in' 'the' 'face' 'of' 'a' 'dramatic' 'courtroom'\n",
            " 'loss' 'its' 'a' 'long' 'way' 'until' '2024' 'trump' 'et' 'al' 'have'\n",
            " 'been' 'pursuing' 'their' 'big' 'lie' 'strategy' 'since' 'long' 'before'\n",
            " 'last' 'novembers' 'election' 'not' 'once' 'has' 'there' 'ever' 'been'\n",
            " 'admitted' 'into' 'court' 'any' 'actual' 'evidence' 'to' 'support' 'the'\n",
            " 'big' 'lie' 'so' 'you' 'could' 'argue' 'trumps' 'base' 'needs' 'zero'\n",
            " 'evidence' 'to' 'keep' 'going' 'but' 'losing' 'a' 'judgement' 'in'\n",
            " 'these' 'two' 'defamation' 'suits' 'will' 'be' 'a' 'serious' 'challenge'\n",
            " 'to' 'those' 'base' 'voters' 'this' 'could' 'be']\n",
            "something is wrong for worldnews\n",
            "0 0\n"
          ],
          "name": "stdout"
        }
      ]
    },
    {
      "cell_type": "markdown",
      "metadata": {
        "id": "8eWGZMUWAAlG"
      },
      "source": [
        "## Future work:\n",
        "- Remove bot comments: it looks like there are a bunch of bot comments that are messing up the weights. These ought to be removed and the tests re-run\n",
        "- Try 200 token samples instead. This ought to give better precision and meaning.\n",
        "- Remove emojis (?)"
      ]
    },
    {
      "cell_type": "markdown",
      "metadata": {
        "id": "x2qqW8W167YR"
      },
      "source": [
        "## Bonus: use a classical author to show that vocabulary quotients are not stable as sample size changes"
      ]
    },
    {
      "cell_type": "code",
      "metadata": {
        "id": "C_CH_pG1ygx0"
      },
      "source": [
        "text = nltk.corpus.gutenberg.raw('milton-paradise.txt')\n",
        "text = text.translate(str.maketrans('', '', string.punctuation)) # remove punctuation"
      ],
      "execution_count": null,
      "outputs": []
    },
    {
      "cell_type": "code",
      "metadata": {
        "id": "qj4hFLzfpivV"
      },
      "source": [
        "text = nltk.corpus.gutenberg.raw('shakespeare-hamlet.txt')\n",
        "text = text.translate(str.maketrans('', '', string.punctuation)) # remove punctuation"
      ],
      "execution_count": null,
      "outputs": []
    },
    {
      "cell_type": "code",
      "metadata": {
        "id": "t6sgOahOz43T"
      },
      "source": [
        "tokens = array(nltk.casual_tokenize(text, preserve_case=False,strip_handles=True))"
      ],
      "execution_count": null,
      "outputs": []
    },
    {
      "cell_type": "markdown",
      "metadata": {
        "id": "a3iX3kRI7FQN"
      },
      "source": [
        "This is the overall corpus quotient."
      ]
    },
    {
      "cell_type": "code",
      "metadata": {
        "colab": {
          "base_uri": "https://localhost:8080/"
        },
        "id": "bB3RpqNWrm6_",
        "outputId": "95063f60-2cd3-4f4f-e4c3-0fa4fec38564"
      },
      "source": [
        "vocabulary_quotient(tokens)"
      ],
      "execution_count": null,
      "outputs": [
        {
          "output_type": "execute_result",
          "data": {
            "text/plain": [
              "0.6304034073858895"
            ]
          },
          "metadata": {
            "tags": []
          },
          "execution_count": 10
        }
      ]
    },
    {
      "cell_type": "markdown",
      "metadata": {
        "id": "glCn1DJY7XWN"
      },
      "source": [
        "Now we'll look at a handful of different sample sizes, and move a sliding window of the sample size through the text to get a sample of text chunks that size, and find the average quotient for each sample size."
      ]
    },
    {
      "cell_type": "code",
      "metadata": {
        "id": "M4rYewss0o2p"
      },
      "source": [
        "def test_a_text(tokens_array, num_tests, test_length):\n",
        "  text_length = len(tokens_array)\n",
        "  starts = random.randint(low=0,high=text_length-test_length, size= num_tests)\n",
        "  txt_quotients = []\n",
        "  for i in tqdm(range(num_tests)):\n",
        "    test_sample = tokens_array[starts[i]:starts[i] + test_length]\n",
        "    txt_quotients.append(vocabulary_quotient(test_sample))\n",
        "  #hist(quotients);\n",
        "  return(np.mean(txt_quotients))"
      ],
      "execution_count": null,
      "outputs": []
    },
    {
      "cell_type": "code",
      "metadata": {
        "colab": {
          "base_uri": "https://localhost:8080/",
          "height": 268,
          "referenced_widgets": [
            "52f728ef81e74964861bd4bb26312c7c",
            "50f1a2bf34f849e8a4ee22024dfa81ad",
            "496640dfa3e046d3be58f64893a34b0d",
            "8ff12a6233224afd95f413307e38f20a",
            "8be1b90060144c44b75e1c98f169c124",
            "4b0e5a3e7462433982ba047977f6f7ff",
            "cff5ff7b3e0a492aae33ad3254a1d9a1",
            "4b4e1f279d824fef8c71cba9a46a80fd",
            "c185007ffe404b9ab5a25e701dc49bd0",
            "1b4616c4671240f1a0dae71074bdba82",
            "bff52faa7dd74d63ae147c9c2ebd909f",
            "0f898205d7be43e3a2ff781ca2c20331",
            "868800eab8604c7e807763ad5927355b",
            "1a64bf3d68b645138d0cf28b386cf59c",
            "3c102e257b1842deaa8a283ce5fe804c",
            "e21a0ed5c8ef4100b1465d786a678494",
            "3edbc0b2af924a45b889c5feddb378f4",
            "8cbdcc21c1874050b3b17ff34a2e0353",
            "64a4b0a5e7394b589870921938128f8a",
            "b570c473c3da4661a46603c26fbd9f8c",
            "251cceeefa25401ebfee51d509912a5f",
            "15a1765a3ff2459da388d92b8bcabbff",
            "42902ff6c56b4ea6a1003077b84cb532",
            "0dedb1510cc34fcab59b9a77d62566f9",
            "0b725e6b1ac24088a53caf41a25fb6a4",
            "c785742aca1f433790e91a8a66d41b82",
            "42ff58fc363745fca2682f736982ca32",
            "4d4021441c7749d69bb95ab5c216d941",
            "47a8850abe4446de974f269d712f39c2",
            "e147d9cb8dc04270b4e168c16c178f52",
            "bdf3a2dd2d124f92b52b7076b1681cfd",
            "10485ee32c024264b8d2502a9db3ae5a",
            "c71c40ea6ab248e5af5a472369b595a4",
            "2a9bf327c8084780ad41692792a8326f",
            "83779e94dd6b4d139d2776f969a13e1a",
            "a2454d63aa8d4389b731df16776ab770",
            "abf2714b7fbb48d68219b66adf88f2f6",
            "5cb4fc79c8bf476bb88be015af7bbaab",
            "c70e3e15765d4bca85e8ab21225d487a",
            "7ff442bf9a834c3398625b82ef77aad6"
          ]
        },
        "id": "dDgvOpmS3wTs",
        "outputId": "aae38d26-3df0-45e0-f185-d3ead672edd9"
      },
      "source": [
        "test_lengths = [10,100,200,500,1000]\n",
        "quotient_means = []\n",
        "for test_length in test_lengths:\n",
        "  quotient_means.append(test_a_text(tokens, 100, test_length))"
      ],
      "execution_count": null,
      "outputs": [
        {
          "output_type": "display_data",
          "data": {
            "application/vnd.jupyter.widget-view+json": {
              "model_id": "52f728ef81e74964861bd4bb26312c7c",
              "version_minor": 0,
              "version_major": 2
            },
            "text/plain": [
              "HBox(children=(FloatProgress(value=0.0), HTML(value='')))"
            ]
          },
          "metadata": {
            "tags": []
          }
        },
        {
          "output_type": "stream",
          "text": [
            "\n"
          ],
          "name": "stdout"
        },
        {
          "output_type": "display_data",
          "data": {
            "application/vnd.jupyter.widget-view+json": {
              "model_id": "c185007ffe404b9ab5a25e701dc49bd0",
              "version_minor": 0,
              "version_major": 2
            },
            "text/plain": [
              "HBox(children=(FloatProgress(value=0.0), HTML(value='')))"
            ]
          },
          "metadata": {
            "tags": []
          }
        },
        {
          "output_type": "stream",
          "text": [
            "\n"
          ],
          "name": "stdout"
        },
        {
          "output_type": "display_data",
          "data": {
            "application/vnd.jupyter.widget-view+json": {
              "model_id": "3edbc0b2af924a45b889c5feddb378f4",
              "version_minor": 0,
              "version_major": 2
            },
            "text/plain": [
              "HBox(children=(FloatProgress(value=0.0), HTML(value='')))"
            ]
          },
          "metadata": {
            "tags": []
          }
        },
        {
          "output_type": "stream",
          "text": [
            "\n"
          ],
          "name": "stdout"
        },
        {
          "output_type": "display_data",
          "data": {
            "application/vnd.jupyter.widget-view+json": {
              "model_id": "0b725e6b1ac24088a53caf41a25fb6a4",
              "version_minor": 0,
              "version_major": 2
            },
            "text/plain": [
              "HBox(children=(FloatProgress(value=0.0), HTML(value='')))"
            ]
          },
          "metadata": {
            "tags": []
          }
        },
        {
          "output_type": "stream",
          "text": [
            "\n"
          ],
          "name": "stdout"
        },
        {
          "output_type": "display_data",
          "data": {
            "application/vnd.jupyter.widget-view+json": {
              "model_id": "c71c40ea6ab248e5af5a472369b595a4",
              "version_minor": 0,
              "version_major": 2
            },
            "text/plain": [
              "HBox(children=(FloatProgress(value=0.0), HTML(value='')))"
            ]
          },
          "metadata": {
            "tags": []
          }
        },
        {
          "output_type": "stream",
          "text": [
            "\n"
          ],
          "name": "stdout"
        }
      ]
    },
    {
      "cell_type": "markdown",
      "metadata": {
        "id": "ZOgRE-6m7a7Y"
      },
      "source": [
        "Note the monotonic decrease."
      ]
    },
    {
      "cell_type": "code",
      "metadata": {
        "colab": {
          "base_uri": "https://localhost:8080/",
          "height": 265
        },
        "id": "M-Zdmv7T4HAJ",
        "outputId": "19b1c203-c0a9-4106-e3ab-0786a1d8060b"
      },
      "source": [
        "plot(test_lengths, quotient_means);"
      ],
      "execution_count": null,
      "outputs": [
        {
          "output_type": "display_data",
          "data": {
            "image/png": "[encoded data removed]",
            "text/plain": [
              "<Figure size 432x288 with 1 Axes>"
            ]
          },
          "metadata": {
            "tags": [],
            "needs_background": "light"
          }
        }
      ]
    },
    {
      "cell_type": "code",
      "metadata": {
        "colab": {
          "base_uri": "https://localhost:8080/",
          "height": 85,
          "referenced_widgets": [
            "b4874edac886420dbabfe1f8cb9eeaa2",
            "c1ba9bc4cfb24a35ad18f9b0b98cabce",
            "9e956c73d47b4fceb7b5ce59ae3b3af8",
            "91a1f82adaf64a28b7558face45940ab",
            "9971fbe54bba4d32a0a561f69aa6f999",
            "ed6f1ba0da1044d3a9a75e136e03b9d4",
            "1f8410530c354081adb3f8ea33e34be3",
            "2ba062f7e76e4e7e83178aea35153336"
          ]
        },
        "id": "C2Fr6mLr11-w",
        "outputId": "1f0631f1-6c99-4743-c864-bd9cc5432bff"
      },
      "source": [
        "test_a_text(tokens, 100, 100)"
      ],
      "execution_count": null,
      "outputs": [
        {
          "output_type": "display_data",
          "data": {
            "application/vnd.jupyter.widget-view+json": {
              "model_id": "b4874edac886420dbabfe1f8cb9eeaa2",
              "version_minor": 0,
              "version_major": 2
            },
            "text/plain": [
              "HBox(children=(FloatProgress(value=0.0), HTML(value='')))"
            ]
          },
          "metadata": {
            "tags": []
          }
        },
        {
          "output_type": "stream",
          "text": [
            "\n"
          ],
          "name": "stdout"
        },
        {
          "output_type": "execute_result",
          "data": {
            "text/plain": [
              "0.8960895702926794"
            ]
          },
          "metadata": {
            "tags": []
          },
          "execution_count": 14
        }
      ]
    },
    {
      "cell_type": "code",
      "metadata": {
        "colab": {
          "base_uri": "https://localhost:8080/",
          "height": 85,
          "referenced_widgets": [
            "88bac9e6342546d98274a82f0ecf1a02",
            "2a66b5900e8f40a2ac7ef4e948886772",
            "8d34e21efcd146e1bb71636d9a1fcb6d",
            "0fd0ce4eabd441f58df13878b41bea1f",
            "21a2f68f79ba4b2480dd615b5be8979e",
            "80ca013735bf4b94bb551d98efd01ae7",
            "c459fb90b47447a48a26178e579729cb",
            "dd27e4f592254bb9a96b1d13f30816f5"
          ]
        },
        "id": "nYN81-No3gHA",
        "outputId": "b8c9b5b2-5acb-4c1a-caf8-0b139162719b"
      },
      "source": [
        "test_a_text(tokens, 150, 200)"
      ],
      "execution_count": null,
      "outputs": [
        {
          "output_type": "display_data",
          "data": {
            "application/vnd.jupyter.widget-view+json": {
              "model_id": "88bac9e6342546d98274a82f0ecf1a02",
              "version_minor": 0,
              "version_major": 2
            },
            "text/plain": [
              "HBox(children=(FloatProgress(value=0.0, max=150.0), HTML(value='')))"
            ]
          },
          "metadata": {
            "tags": []
          }
        },
        {
          "output_type": "stream",
          "text": [
            "\n"
          ],
          "name": "stdout"
        },
        {
          "output_type": "execute_result",
          "data": {
            "text/plain": [
              "0.8698580823850541"
            ]
          },
          "metadata": {
            "tags": []
          },
          "execution_count": 15
        }
      ]
    },
    {
      "cell_type": "code",
      "metadata": {
        "colab": {
          "base_uri": "https://localhost:8080/",
          "height": 85,
          "referenced_widgets": [
            "1df02fccae1e416bb3b4f1a3db3b4d90",
            "20ee2e659d9645838ef8e0961fa4c707",
            "66e5921ae9744a938bbeba15da5dbe26",
            "37f9e434efe34eada951aeb795fb14a4",
            "2a9b133d99104501a82c8138bb54fe70",
            "a78fef67da8048ceafa5ee2aea7b56fd",
            "03e6aa62af6a4981baa1be1d82e74f6e",
            "6ce622bce9c54af0a976f00425beb60e"
          ]
        },
        "id": "n1DpQ6-93myL",
        "outputId": "156fe940-09ed-45c0-dee6-80eda5f4e2ad"
      },
      "source": [
        "test_a_text(tokens, 100, 300)"
      ],
      "execution_count": null,
      "outputs": [
        {
          "output_type": "display_data",
          "data": {
            "application/vnd.jupyter.widget-view+json": {
              "model_id": "1df02fccae1e416bb3b4f1a3db3b4d90",
              "version_minor": 0,
              "version_major": 2
            },
            "text/plain": [
              "HBox(children=(FloatProgress(value=0.0), HTML(value='')))"
            ]
          },
          "metadata": {
            "tags": []
          }
        },
        {
          "output_type": "stream",
          "text": [
            "\n"
          ],
          "name": "stdout"
        },
        {
          "output_type": "execute_result",
          "data": {
            "text/plain": [
              "0.8541157192637514"
            ]
          },
          "metadata": {
            "tags": []
          },
          "execution_count": 16
        }
      ]
    }
  ]
}