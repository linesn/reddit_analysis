{
  "nbformat": 4,
  "nbformat_minor": 0,
  "metadata": {
    "colab": {
      "name": "Reddit_Descriptive_Analytics.ipynb",
      "provenance": [],
      "authorship_tag": "ABX9TyO0miixiTfWKuGj/47xnAhr",
      "include_colab_link": true
    },
    "kernelspec": {
      "name": "python3",
      "display_name": "Python 3"
    }
  },
  "cells": [
    {
      "cell_type": "markdown",
      "metadata": {
        "id": "view-in-github",
        "colab_type": "text"
      },
      "source": [
        "<a href=\"https://colab.research.google.com/github/linesn/reddit_analysis/blob/main/Reddit_Descriptive_Analytics.ipynb\" target=\"_parent\"><img src=\"https://colab.research.google.com/assets/colab-badge.svg\" alt=\"Open In Colab\"/></a>"
      ]
    },
    {
      "cell_type": "markdown",
      "metadata": {
        "id": "WkHjgDR7PqqY"
      },
      "source": [
        "# Descriptive Analysis of the Reddit dataset\r\n",
        "\r\n",
        "This notebook represents an exploration of the Reddit dataset discussed in previous notebooks in this project. \r\n",
        "\r\n",
        "## Environment setup"
      ]
    },
    {
      "cell_type": "code",
      "metadata": {
        "colab": {
          "base_uri": "https://localhost:8080/"
        },
        "id": "NkCUeY7uN6Eb",
        "outputId": "a52997fa-9d63-476c-9c51-73f111e1835f"
      },
      "source": [
        "%pylab inline\r\n",
        "import os\r\n",
        "import pandas as pd\r\n",
        "import scipy.sparse as sp\r\n",
        "import networkx as nx\r\n",
        "from itertools import chain\r\n",
        "import sklearn.preprocessing as skp\r\n",
        "import sklearn.impute as impute\r\n",
        "\r\n",
        "try:\r\n",
        "  import datashader as ds\r\n",
        "  import datashader.transfer_functions as tf\r\n",
        "  from datashader.layout import random_layout, circular_layout, forceatlas2_layout\r\n",
        "  from datashader.bundling import connect_edges, hammer_bundle\r\n",
        "except:\r\n",
        "  %pip install datashader\r\n",
        "  import datashader as ds\r\n",
        "  import datashader.transfer_functions as tf\r\n",
        "  from datashader.layout import random_layout, circular_layout, forceatlas2_layout\r\n",
        "  from datashader.bundling import connect_edges, hammer_bundle\r\n",
        "\r\n",
        "try: \r\n",
        "  import sklearn_pandas as skp\r\n",
        "except:\r\n",
        "  %pip install sklearn-pandas\r\n",
        "  import sklearn_pandas as skp\r\n",
        "\r\n",
        "if 'COLAB_GPU' in os.environ: # a hacky way of determining if you are in colab.\r\n",
        "  print(\"Notebook is running in colab\")\r\n",
        "  from google.colab import drive\r\n",
        "  drive.mount(\"/content/drive\")\r\n",
        "  DATA_DIR = \"./drive/My Drive/Data/\"\r\n",
        "  \r\n",
        "else:\r\n",
        "  # Get the system information from the OS\r\n",
        "  PLATFORM_SYSTEM = platform.system()\r\n",
        "\r\n",
        "  # Darwin is macOS\r\n",
        "  if PLATFORM_SYSTEM == \"Darwin\":\r\n",
        "      EXECUTABLE_PATH = Path(\"../dependencies/chromedriver\")\r\n",
        "  elif PLATFORM_SYSTEM == \"Windows\":\r\n",
        "      EXECUTABLE_PATH = Path(\"../dependencies/chromedriver.exe\")\r\n",
        "  else:\r\n",
        "      logging.critical(\"Chromedriver not found or Chromedriver is outdated...\")\r\n",
        "      exit()\r\n",
        "  DATA_DIR = \"../Data/raw/\""
      ],
      "execution_count": 99,
      "outputs": [
        {
          "output_type": "stream",
          "text": [
            "Populating the interactive namespace from numpy and matplotlib\n",
            "Notebook is running in colab\n",
            "Drive already mounted at /content/drive; to attempt to forcibly remount, call drive.mount(\"/content/drive\", force_remount=True).\n"
          ],
          "name": "stdout"
        }
      ]
    },
    {
      "cell_type": "markdown",
      "metadata": {
        "id": "lyeR1nIFQAA5"
      },
      "source": [
        "## The data - is anything missing?"
      ]
    },
    {
      "cell_type": "code",
      "metadata": {
        "id": "T8YB0ALnOXZ1"
      },
      "source": [
        "comment_df = pd.read_csv(DATA_DIR + \"raw/Reddit/REDDIT_COMMENTS_2021-02-03T17-02-00-0500.csv\")\r\n",
        "post_df = pd.read_csv(DATA_DIR + \"raw/Reddit/REDDIT_POSTS_2021-02-03T16-56-30-0500.csv\")"
      ],
      "execution_count": 54,
      "outputs": []
    },
    {
      "cell_type": "code",
      "metadata": {
        "colab": {
          "base_uri": "https://localhost:8080/",
          "height": 660
        },
        "id": "dbCLBjuiOn1E",
        "outputId": "e8a070ce-97ed-43d6-c4bd-e5aebe96a0fc"
      },
      "source": [
        "comment_df"
      ],
      "execution_count": 5,
      "outputs": [
        {
          "output_type": "execute_result",
          "data": {
            "text/html": [
              "<div>\n",
              "<style scoped>\n",
              "    .dataframe tbody tr th:only-of-type {\n",
              "        vertical-align: middle;\n",
              "    }\n",
              "\n",
              "    .dataframe tbody tr th {\n",
              "        vertical-align: top;\n",
              "    }\n",
              "\n",
              "    .dataframe thead th {\n",
              "        text-align: right;\n",
              "    }\n",
              "</style>\n",
              "<table border=\"1\" class=\"dataframe\">\n",
              "  <thead>\n",
              "    <tr style=\"text-align: right;\">\n",
              "      <th></th>\n",
              "      <th>subreddit</th>\n",
              "      <th>post_id</th>\n",
              "      <th>comment_id</th>\n",
              "      <th>parent_id</th>\n",
              "      <th>comment_author</th>\n",
              "      <th>comment_permalink</th>\n",
              "      <th>comment_body</th>\n",
              "      <th>comment_created</th>\n",
              "      <th>comment_score</th>\n",
              "      <th>comment_distinguished</th>\n",
              "      <th>scrape_time</th>\n",
              "    </tr>\n",
              "  </thead>\n",
              "  <tbody>\n",
              "    <tr>\n",
              "      <th>0</th>\n",
              "      <td>Conservative</td>\n",
              "      <td>lbzf12</td>\n",
              "      <td>glwxgzj</td>\n",
              "      <td>t3_lbzf12</td>\n",
              "      <td>professor_arturo</td>\n",
              "      <td>/r/Conservative/comments/lbzf12/biden_sides_wi...</td>\n",
              "      <td>Why is Biden denying science? Why isn't Biden ...</td>\n",
              "      <td>2021-02-04 05:55:02</td>\n",
              "      <td>1</td>\n",
              "      <td>NaN</td>\n",
              "      <td>2021-02-03 21:56:30.279986</td>\n",
              "    </tr>\n",
              "    <tr>\n",
              "      <th>1</th>\n",
              "      <td>teenagers</td>\n",
              "      <td>lbzdh1</td>\n",
              "      <td>glwx8qs</td>\n",
              "      <td>t3_lbzdh1</td>\n",
              "      <td>MelanfriJr</td>\n",
              "      <td>/r/teenagers/comments/lbzdh1/imagine_voting_fo...</td>\n",
              "      <td>Are the other 44% dead people?</td>\n",
              "      <td>2021-02-04 05:53:27</td>\n",
              "      <td>2</td>\n",
              "      <td>NaN</td>\n",
              "      <td>2021-02-03 21:56:30.859606</td>\n",
              "    </tr>\n",
              "    <tr>\n",
              "      <th>2</th>\n",
              "      <td>teenagers</td>\n",
              "      <td>lbzdh1</td>\n",
              "      <td>glwxds4</td>\n",
              "      <td>t3_lbzdh1</td>\n",
              "      <td>post-quote-bot</td>\n",
              "      <td>/r/teenagers/comments/lbzdh1/imagine_voting_fo...</td>\n",
              "      <td>Yea no shit who else they gonna vote for kanye</td>\n",
              "      <td>2021-02-04 05:54:26</td>\n",
              "      <td>1</td>\n",
              "      <td>NaN</td>\n",
              "      <td>2021-02-03 21:56:30.859606</td>\n",
              "    </tr>\n",
              "    <tr>\n",
              "      <th>3</th>\n",
              "      <td>teenagers</td>\n",
              "      <td>lbzdh1</td>\n",
              "      <td>glwxkpd</td>\n",
              "      <td>t3_lbzdh1</td>\n",
              "      <td>No_Owl_4141</td>\n",
              "      <td>/r/teenagers/comments/lbzdh1/imagine_voting_fo...</td>\n",
              "      <td>Imagine having to vote between a skeleton and ...</td>\n",
              "      <td>2021-02-04 05:55:46</td>\n",
              "      <td>1</td>\n",
              "      <td>NaN</td>\n",
              "      <td>2021-02-03 21:56:30.859606</td>\n",
              "    </tr>\n",
              "    <tr>\n",
              "      <th>4</th>\n",
              "      <td>FawningLiberalMedia</td>\n",
              "      <td>lbzd6x</td>\n",
              "      <td>glwx5dd</td>\n",
              "      <td>t3_lbzd6x</td>\n",
              "      <td>FawningMediaMod</td>\n",
              "      <td>/r/FawningLiberalMedia/comments/lbzd6x/fawning...</td>\n",
              "      <td>https://archive.is/WhGOQ</td>\n",
              "      <td>2021-02-04 05:52:46</td>\n",
              "      <td>1</td>\n",
              "      <td>moderator</td>\n",
              "      <td>2021-02-03 21:56:31.108414</td>\n",
              "    </tr>\n",
              "    <tr>\n",
              "      <th>...</th>\n",
              "      <td>...</td>\n",
              "      <td>...</td>\n",
              "      <td>...</td>\n",
              "      <td>...</td>\n",
              "      <td>...</td>\n",
              "      <td>...</td>\n",
              "      <td>...</td>\n",
              "      <td>...</td>\n",
              "      <td>...</td>\n",
              "      <td>...</td>\n",
              "      <td>...</td>\n",
              "    </tr>\n",
              "    <tr>\n",
              "      <th>9186</th>\n",
              "      <td>politics2</td>\n",
              "      <td>j7kctz</td>\n",
              "      <td>g88f1f0</td>\n",
              "      <td>t3_j7kctz</td>\n",
              "      <td>dfj2025</td>\n",
              "      <td>/r/politics2/comments/j7kctz/everyone_is_entit...</td>\n",
              "      <td>For years the Republicans do not pull any punc...</td>\n",
              "      <td>2020-10-10 01:05:54</td>\n",
              "      <td>1</td>\n",
              "      <td>NaN</td>\n",
              "      <td>2021-02-03 22:01:59.761360</td>\n",
              "    </tr>\n",
              "    <tr>\n",
              "      <th>9187</th>\n",
              "      <td>politics2</td>\n",
              "      <td>j61b4e</td>\n",
              "      <td>g7vyitx</td>\n",
              "      <td>t3_j61b4e</td>\n",
              "      <td>Bennett_Barreca</td>\n",
              "      <td>/r/politics2/comments/j61b4e/note_to_trumpster...</td>\n",
              "      <td>more like r/theleftcantmeme</td>\n",
              "      <td>2020-10-06 20:12:37</td>\n",
              "      <td>2</td>\n",
              "      <td>NaN</td>\n",
              "      <td>2021-02-03 22:01:59.951924</td>\n",
              "    </tr>\n",
              "    <tr>\n",
              "      <th>9188</th>\n",
              "      <td>politics2</td>\n",
              "      <td>j61b4e</td>\n",
              "      <td>g7xfuqp</td>\n",
              "      <td>t3_j61b4e</td>\n",
              "      <td>GoneWithTheZen</td>\n",
              "      <td>/r/politics2/comments/j61b4e/note_to_trumpster...</td>\n",
              "      <td>Awwww that's adorable. You think Biden's going...</td>\n",
              "      <td>2020-10-07 03:37:34</td>\n",
              "      <td>2</td>\n",
              "      <td>NaN</td>\n",
              "      <td>2021-02-03 22:01:59.951924</td>\n",
              "    </tr>\n",
              "    <tr>\n",
              "      <th>9189</th>\n",
              "      <td>politics2</td>\n",
              "      <td>j61b4e</td>\n",
              "      <td>g7xlkdq</td>\n",
              "      <td>t3_j61b4e</td>\n",
              "      <td>HerpsDean_</td>\n",
              "      <td>/r/politics2/comments/j61b4e/note_to_trumpster...</td>\n",
              "      <td>Next month will be painful for you lmao</td>\n",
              "      <td>2020-10-07 04:16:01</td>\n",
              "      <td>2</td>\n",
              "      <td>NaN</td>\n",
              "      <td>2021-02-03 22:01:59.951924</td>\n",
              "    </tr>\n",
              "    <tr>\n",
              "      <th>9190</th>\n",
              "      <td>politics2</td>\n",
              "      <td>j61b4e</td>\n",
              "      <td>g7xtmqp</td>\n",
              "      <td>t3_j61b4e</td>\n",
              "      <td>OPrime50</td>\n",
              "      <td>/r/politics2/comments/j61b4e/note_to_trumpster...</td>\n",
              "      <td>The best part about this is the only dipshits ...</td>\n",
              "      <td>2020-10-07 05:22:56</td>\n",
              "      <td>1</td>\n",
              "      <td>NaN</td>\n",
              "      <td>2021-02-03 22:01:59.951924</td>\n",
              "    </tr>\n",
              "  </tbody>\n",
              "</table>\n",
              "<p>9191 rows × 11 columns</p>\n",
              "</div>"
            ],
            "text/plain": [
              "                subreddit  ...                 scrape_time\n",
              "0            Conservative  ...  2021-02-03 21:56:30.279986\n",
              "1               teenagers  ...  2021-02-03 21:56:30.859606\n",
              "2               teenagers  ...  2021-02-03 21:56:30.859606\n",
              "3               teenagers  ...  2021-02-03 21:56:30.859606\n",
              "4     FawningLiberalMedia  ...  2021-02-03 21:56:31.108414\n",
              "...                   ...  ...                         ...\n",
              "9186            politics2  ...  2021-02-03 22:01:59.761360\n",
              "9187            politics2  ...  2021-02-03 22:01:59.951924\n",
              "9188            politics2  ...  2021-02-03 22:01:59.951924\n",
              "9189            politics2  ...  2021-02-03 22:01:59.951924\n",
              "9190            politics2  ...  2021-02-03 22:01:59.951924\n",
              "\n",
              "[9191 rows x 11 columns]"
            ]
          },
          "metadata": {
            "tags": []
          },
          "execution_count": 5
        }
      ]
    },
    {
      "cell_type": "markdown",
      "metadata": {
        "id": "Y_KyElMnQXi3"
      },
      "source": [
        "Is there any missing data? We can check this quickly in Pandas."
      ]
    },
    {
      "cell_type": "code",
      "metadata": {
        "colab": {
          "base_uri": "https://localhost:8080/"
        },
        "id": "5kBTkRbJOths",
        "outputId": "4f877469-cb67-4aad-fe69-e7b02a1e13ca"
      },
      "source": [
        "comment_df[comment_df.isna().any(axis=1)].shape[0]"
      ],
      "execution_count": 55,
      "outputs": [
        {
          "output_type": "execute_result",
          "data": {
            "text/plain": [
              "8866"
            ]
          },
          "metadata": {
            "tags": []
          },
          "execution_count": 55
        }
      ]
    },
    {
      "cell_type": "code",
      "metadata": {
        "colab": {
          "base_uri": "https://localhost:8080/"
        },
        "id": "OhOJkM64iv27",
        "outputId": "804e6989-2d54-4e70-dc57-1cde216666a0"
      },
      "source": [
        "print(\"Number of NaN entries per column:\")\r\n",
        "for col in comment_df:\r\n",
        "  print(col, comment_df[pd.isna(comment_df[col])].shape[0])"
      ],
      "execution_count": 56,
      "outputs": [
        {
          "output_type": "stream",
          "text": [
            "Number of NaN entries per column:\n",
            "subreddit 0\n",
            "post_id 0\n",
            "comment_id 0\n",
            "parent_id 0\n",
            "comment_author 0\n",
            "comment_permalink 0\n",
            "comment_body 0\n",
            "comment_created 0\n",
            "comment_score 0\n",
            "comment_distinguished 8866\n",
            "scrape_time 0\n"
          ],
          "name": "stdout"
        }
      ]
    },
    {
      "cell_type": "code",
      "metadata": {
        "colab": {
          "base_uri": "https://localhost:8080/"
        },
        "id": "LqcT99E2Quu9",
        "outputId": "288dc875-f833-4247-cc19-46764e94587d"
      },
      "source": [
        "comment_df.comment_distinguished.value_counts()"
      ],
      "execution_count": 57,
      "outputs": [
        {
          "output_type": "execute_result",
          "data": {
            "text/plain": [
              "moderator    325\n",
              "Name: comment_distinguished, dtype: int64"
            ]
          },
          "metadata": {
            "tags": []
          },
          "execution_count": 57
        }
      ]
    },
    {
      "cell_type": "markdown",
      "metadata": {
        "id": "O4YwZk7vQmpy"
      },
      "source": [
        "It looks like most rows have a `comment_distinguished` value of `NaN`. This field appears to be used only to mark whether the comment was left by a moderator, so there's no actual missing data in this dataframe. Let's try the posts next."
      ]
    },
    {
      "cell_type": "code",
      "metadata": {
        "colab": {
          "base_uri": "https://localhost:8080/"
        },
        "id": "xKR38ij8bPIH",
        "outputId": "bd362702-a65b-4444-b3b8-f3f2f8cf21b7"
      },
      "source": [
        "post_df[post_df.isna().any(axis=1)].shape[0]"
      ],
      "execution_count": 58,
      "outputs": [
        {
          "output_type": "execute_result",
          "data": {
            "text/plain": [
              "1099"
            ]
          },
          "metadata": {
            "tags": []
          },
          "execution_count": 58
        }
      ]
    },
    {
      "cell_type": "code",
      "metadata": {
        "colab": {
          "base_uri": "https://localhost:8080/"
        },
        "id": "XgMRPjKzb4gC",
        "outputId": "9fa15af5-30eb-4cf1-b70c-754e452c9e9c"
      },
      "source": [
        "num_na = post_df[post_df.isna().any(axis=1)].shape[0]\r\n",
        "#post_df[pd.notna(post_df.post_body)].size\r\n",
        "print(f\"In post_df There are {num_na} rows with NaN values, and {post_df.shape[0] - num_na} without\")"
      ],
      "execution_count": 60,
      "outputs": [
        {
          "output_type": "stream",
          "text": [
            "In post_df There are 1099 rows with NaN values, and 1 without\n"
          ],
          "name": "stdout"
        }
      ]
    },
    {
      "cell_type": "code",
      "metadata": {
        "colab": {
          "base_uri": "https://localhost:8080/"
        },
        "id": "DuyBZLhucDLJ",
        "outputId": "ae6fdbdd-9a1c-4e43-ee1a-598984fea8db"
      },
      "source": [
        "print(\"Number of NaN entries per column:\")\r\n",
        "for col in post_df:\r\n",
        "  print(col, post_df[pd.isna(post_df[col])].shape[0])"
      ],
      "execution_count": 61,
      "outputs": [
        {
          "output_type": "stream",
          "text": [
            "Number of NaN entries per column:\n",
            "subreddit 0\n",
            "post_id 0\n",
            "title 0\n",
            "post_body 743\n",
            "post_author 0\n",
            "url 0\n",
            "post_permalink 0\n",
            "num_comments 0\n",
            "post_created 0\n",
            "post_score 0\n",
            "post_distinguished 1099\n",
            "original_content 0\n",
            "upvote_ratio 0\n",
            "flair_text 0\n",
            "scrape_time 0\n"
          ],
          "name": "stdout"
        }
      ]
    },
    {
      "cell_type": "markdown",
      "metadata": {
        "id": "NToRTIEUmlNe"
      },
      "source": [
        "Well, the only other column with potentially missing data here is the `post_body` column, and it turns out that this column is left empty if the post consists of a header and no body, which is very, very common. So there is no missing data here either. But I want a chance to use Sklearn's imputation techniques, so I'm going to artificially remove some data, which will let me check how well the imputation techniques work anyway."
      ]
    },
    {
      "cell_type": "markdown",
      "metadata": {
        "id": "AphA4DK_nM6G"
      },
      "source": [
        "## Data imputation\r\n",
        "\r\n",
        "First let's remove some values."
      ]
    },
    {
      "cell_type": "code",
      "metadata": {
        "id": "OMF_Jix5pIzz"
      },
      "source": [
        "number_to_delete = 100\r\n",
        "np.random.seed(10) # seeding the pRNG for reproducibility\r\n",
        "rand_rows = randint(low=0, high=post_df.shape[0] - 1, size=number_to_delete)"
      ],
      "execution_count": 139,
      "outputs": []
    },
    {
      "cell_type": "code",
      "metadata": {
        "id": "i5jaQckYqgbe"
      },
      "source": [
        "post_df_copy = post_df.copy(deep=True)\r\n",
        "\r\n",
        "for i in rand_rows:\r\n",
        "  post_df_copy.loc[i, 'post_author'] = NaN\r\n",
        "  post_df_copy.loc[i, 'num_comments'] = NaN\r\n",
        "  post_df_copy.loc[i, 'post_score'] = NaN"
      ],
      "execution_count": 140,
      "outputs": []
    },
    {
      "cell_type": "markdown",
      "metadata": {
        "id": "xJBNp9uUtbjc"
      },
      "source": [
        "OK, now we want to try imputing values to see how we work around the missing labels. To do this, we need to make imputer objects, \"train\" them on the non-null values, and then have them use some strategy to fill in the missing data. For text or categorical data, this ammounts to using the most frequent value or some other constant fill. For numeric data, we also can use mean or median or either of the previously named options. "
      ]
    },
    {
      "cell_type": "code",
      "metadata": {
        "id": "oayneoP4op_6"
      },
      "source": [
        "text_imputer = impute.SimpleImputer(strategy='most_frequent')\r\n",
        "int_imputer = impute.SimpleImputer(strategy='median')\r\n",
        "float_imputer = impute.SimpleImputer(strategy='mean')\r\n",
        "text_imputer.fit(array(post_df_copy.post_author).reshape(-1, 1))\r\n",
        "post_df_copy.post_author = text_imputer.transform(array(post_df_copy.post_author).reshape(-1, 1))\r\n",
        "int_imputer.fit(array(post_df_copy.num_comments).reshape(-1, 1))\r\n",
        "post_df_copy.num_comments = int_imputer.transform(array(post_df_copy.num_comments).reshape(-1, 1))\r\n",
        "float_imputer.fit(array(post_df_copy.post_score).reshape(-1, 1))\r\n",
        "post_df_copy.post_score = float_imputer.transform(array(post_df_copy.post_score).reshape(-1, 1))\r\n",
        "## Alternatively, you could just apply transformations to the whole dataframe if desired.\r\n",
        "# int_imputer.fit(post_df_copy)\r\n",
        "# post_df_copy = pd.DataFrame.from_records(int_imputer.transform(post_df_copy), columns=post_df_copy.columns)"
      ],
      "execution_count": 145,
      "outputs": []
    },
    {
      "cell_type": "code",
      "metadata": {
        "colab": {
          "base_uri": "https://localhost:8080/"
        },
        "id": "QWx67DWslAPd",
        "outputId": "eaaa8d69-253f-4634-81fa-4c33919366f5"
      },
      "source": [
        "post_df_copy.post_author.isna().any()"
      ],
      "execution_count": 146,
      "outputs": [
        {
          "output_type": "execute_result",
          "data": {
            "text/plain": [
              "False"
            ]
          },
          "metadata": {
            "tags": []
          },
          "execution_count": 146
        }
      ]
    },
    {
      "cell_type": "code",
      "metadata": {
        "colab": {
          "base_uri": "https://localhost:8080/"
        },
        "id": "d4hdzgeBo5bH",
        "outputId": "ecec955d-ed7f-4a9f-a622-a6a1b20404dc"
      },
      "source": [
        "post_df_copy.num_comments.isna().any()"
      ],
      "execution_count": 147,
      "outputs": [
        {
          "output_type": "execute_result",
          "data": {
            "text/plain": [
              "False"
            ]
          },
          "metadata": {
            "tags": []
          },
          "execution_count": 147
        }
      ]
    },
    {
      "cell_type": "code",
      "metadata": {
        "colab": {
          "base_uri": "https://localhost:8080/"
        },
        "id": "HZJ88NaSo5dX",
        "outputId": "7628a94a-14cd-4afb-9734-39e84de4b6d9"
      },
      "source": [
        "post_df_copy.post_score.isna().any()"
      ],
      "execution_count": 148,
      "outputs": [
        {
          "output_type": "execute_result",
          "data": {
            "text/plain": [
              "False"
            ]
          },
          "metadata": {
            "tags": []
          },
          "execution_count": 148
        }
      ]
    },
    {
      "cell_type": "markdown",
      "metadata": {
        "id": "loIYyGJy2VnB"
      },
      "source": [
        "Well, that put in the new values. Let's see how well they actually fit."
      ]
    },
    {
      "cell_type": "code",
      "metadata": {
        "colab": {
          "base_uri": "https://localhost:8080/"
        },
        "id": "LR1yeWLx19Mq",
        "outputId": "b64e4384-4ef5-41e2-b186-4f53f01e277f"
      },
      "source": [
        "errors = 0\r\n",
        "for i in rand_rows:\r\n",
        "  if not post_df.loc[i, 'post_author'] == post_df_copy.loc[i, 'post_author']:\r\n",
        "    errors += 1\r\n",
        "print(f\"The author name guess accuracy was {errors/len(rand_rows)*100} %\")"
      ],
      "execution_count": 154,
      "outputs": [
        {
          "output_type": "stream",
          "text": [
            "The author name guess accuracy was 94.0 %\n"
          ],
          "name": "stdout"
        }
      ]
    },
    {
      "cell_type": "code",
      "metadata": {
        "colab": {
          "base_uri": "https://localhost:8080/"
        },
        "id": "PfVaxnYS3LgJ",
        "outputId": "a3b6ff1a-d24c-44a1-ea27-3091d14e881f"
      },
      "source": [
        "abs_error = 0\r\n",
        "for i in rand_rows:\r\n",
        "  abs_error += abs( post_df.loc[i, 'num_comments'] == post_df_copy.loc[i, 'num_comments'])\r\n",
        "print(f\"The average absolute error in num_comments guess was {abs_error/len(rand_rows)}\")\r\n",
        "abs_error = 0\r\n",
        "for i in rand_rows:\r\n",
        "  abs_error += abs( post_df.loc[i, 'post_score'] == post_df_copy.loc[i, 'post_score'])\r\n",
        "print(f\"The average absolute error in post_score guess was {abs_error/len(rand_rows)}\")"
      ],
      "execution_count": 156,
      "outputs": [
        {
          "output_type": "stream",
          "text": [
            "The average absolute error in num_comments guess was 0.02\n",
            "The average absolute error in post_score guess was 0.0\n"
          ],
          "name": "stdout"
        }
      ]
    },
    {
      "cell_type": "markdown",
      "metadata": {
        "id": "CFbwHvR34Arp"
      },
      "source": [
        "Clearly these strategies performed fairly well on average for the data values we wished to impute. As the plot below shows, though, we could easily have highly incorrect predictions in the columns with non-linearly distributed values."
      ]
    },
    {
      "cell_type": "code",
      "metadata": {
        "colab": {
          "base_uri": "https://localhost:8080/",
          "height": 282
        },
        "id": "Q_XOGVucRHOd",
        "outputId": "17315e32-e6ba-45b2-d3d3-483ccb59d2a5"
      },
      "source": [
        "plot(list(post_df.post_score.sort_values()), '.');"
      ],
      "execution_count": 157,
      "outputs": [
        {
          "output_type": "execute_result",
          "data": {
            "text/plain": [
              "[<matplotlib.lines.Line2D at 0x7f9c2367f550>]"
            ]
          },
          "metadata": {
            "tags": []
          },
          "execution_count": 157
        },
        {
          "output_type": "display_data",
          "data": {
            "image/png": "[encoded data removed]",
            "text/plain": [
              "<Figure size 432x288 with 1 Axes>"
            ]
          },
          "metadata": {
            "tags": [],
            "needs_background": "light"
          }
        }
      ]
    },
    {
      "cell_type": "markdown",
      "metadata": {
        "id": "gtGWHURF4zQA"
      },
      "source": [
        "## Some more descriptive analysis"
      ]
    },
    {
      "cell_type": "code",
      "metadata": {
        "colab": {
          "base_uri": "https://localhost:8080/",
          "height": 282
        },
        "id": "cKkrF8FD5Nci",
        "outputId": "4a4d0b2e-1fb4-40a8-8a02-4bd64f5f86c1"
      },
      "source": [
        "figure()\r\n",
        "plot(list(comment_df.comment_score.sort_values()), '.', label=\"comment scores\");\r\n",
        "plot(list(post_df.post_score.sort_values()), '.', label=\"post scores\");"
      ],
      "execution_count": 160,
      "outputs": [
        {
          "output_type": "execute_result",
          "data": {
            "text/plain": [
              "<matplotlib.legend.Legend at 0x7f9c0a176210>"
            ]
          },
          "metadata": {
            "tags": []
          },
          "execution_count": 160
        },
        {
          "output_type": "display_data",
          "data": {
            "image/png": "[encoded data removed]",
            "text/plain": [
              "<Figure size 432x288 with 1 Axes>"
            ]
          },
          "metadata": {
            "tags": [],
            "needs_background": "light"
          }
        }
      ]
    },
    {
      "cell_type": "code",
      "metadata": {
        "colab": {
          "base_uri": "https://localhost:8080/",
          "height": 294
        },
        "id": "Lc32cfI75YDS",
        "outputId": "0eb65e8e-2b13-4de7-e5c5-b7c23e2e9fff"
      },
      "source": [
        "fig, (ax1, ax2) = plt.subplots(2)\r\n",
        "fig.suptitle('Log histograms of scores')\r\n",
        "ax1.hist(comment_df.comment_score, log=True, label=\"comment log scores\");\r\n",
        "ax1.legend();\r\n",
        "ax2.hist(post_df.post_score, log=True, label=\"post log scores\");\r\n",
        "ax2.legend();"
      ],
      "execution_count": 167,
      "outputs": [
        {
          "output_type": "display_data",
          "data": {
            "image/png": "[encoded data removed]",
            "text/plain": [
              "<Figure size 432x288 with 2 Axes>"
            ]
          },
          "metadata": {
            "tags": [],
            "needs_background": "light"
          }
        }
      ]
    },
    {
      "cell_type": "code",
      "metadata": {
        "colab": {
          "base_uri": "https://localhost:8080/",
          "height": 357
        },
        "id": "aOcksQkd5rDh",
        "outputId": "b88e3491-6533-4a7d-c5fd-b5c45c8082a4"
      },
      "source": [
        "fig, (ax1, ax2) = plt.subplots(1,2, figsize=(25,5))\r\n",
        "fig.suptitle('Posts by subredit')\r\n",
        "comment_df.subreddit.value_counts().plot(ax=ax1, kind='bar',label=\"comments\")\r\n",
        "post_df.subreddit.value_counts().plot(ax=ax2, kind='bar',label=\"posts\")\r\n",
        "ax1.legend();\r\n",
        "ax2.legend();"
      ],
      "execution_count": 179,
      "outputs": [
        {
          "output_type": "display_data",
          "data": {
            "image/png": "[encoded data removed]",
            "text/plain": [
              "<Figure size 1800x360 with 2 Axes>"
            ]
          },
          "metadata": {
            "tags": [],
            "needs_background": "light"
          }
        }
      ]
    }
  ]
}