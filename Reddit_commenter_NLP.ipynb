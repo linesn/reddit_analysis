{
  "nbformat": 4,
  "nbformat_minor": 0,
  "metadata": {
    "colab": {
      "name": "Reddit_commenter_NLP.ipynb",
      "provenance": [],
      "collapsed_sections": [],
      "authorship_tag": "ABX9TyNw/O/Jadq6a/zy7YLk1M0g",
      "include_colab_link": true
    },
    "kernelspec": {
      "name": "python3",
      "display_name": "Python 3"
    }
  },
  "cells": [
    {
      "cell_type": "markdown",
      "metadata": {
        "id": "view-in-github",
        "colab_type": "text"
      },
      "source": [
        "<a href=\"https://colab.research.google.com/github/linesn/reddit_analysis/blob/main/Reddit_commenter_NLP.ipynb\" target=\"_parent\"><img src=\"https://colab.research.google.com/assets/colab-badge.svg\" alt=\"Open In Colab\"/></a>"
      ]
    },
    {
      "cell_type": "markdown",
      "metadata": {
        "id": "E1C-ABlcKFxT"
      },
      "source": [
        "# Introduction\r\n",
        "The purpose of this notebook is to allow the user to group Reddit comment data by commenter and then tokenize, stem, and lemmatize the text produced by that commenter, as desired.\r\n",
        "\r\n",
        "**WARNING:** The data shown is raw Reddit data that has not been sanitized to remove foul language nor has it been anonymized. \r\n",
        "\r\n",
        "## Imports and environment setup"
      ]
    },
    {
      "cell_type": "code",
      "metadata": {
        "colab": {
          "base_uri": "https://localhost:8080/"
        },
        "id": "st0aAsigKFXE",
        "outputId": "be76a50d-2b45-4d26-8778-fcafa951e3b4"
      },
      "source": [
        "%pylab inline\r\n",
        "import os\r\n",
        "import pandas as pd\r\n",
        "import scipy.sparse as sp\r\n",
        "import networkx as nx\r\n",
        "from itertools import chain\r\n",
        "import nltk\r\n",
        "from nltk import SnowballStemmer\r\n",
        "from nltk.stem.porter import PorterStemmer\r\n",
        "from nltk.stem.lancaster import LancasterStemmer\r\n",
        "from nltk.stem.wordnet import WordNetLemmatizer"
      ],
      "execution_count": 4,
      "outputs": [
        {
          "output_type": "stream",
          "text": [
            "Populating the interactive namespace from numpy and matplotlib\n"
          ],
          "name": "stdout"
        }
      ]
    },
    {
      "cell_type": "code",
      "metadata": {
        "colab": {
          "base_uri": "https://localhost:8080/"
        },
        "id": "g8IB71TLJ7wr",
        "outputId": "a5f0789d-b06f-4265-fc87-7de2bc1fb35a"
      },
      "source": [
        "if 'COLAB_GPU' in os.environ: # a hacky way of determining if you are in colab.\r\n",
        "  print(\"Notebook is running in colab\")\r\n",
        "  from google.colab import drive\r\n",
        "  drive.mount(\"/content/drive\")\r\n",
        "  DATA_DIR = \"./drive/My Drive/Data/\"\r\n",
        "  \r\n",
        "else:\r\n",
        "  # Get the system information from the OS\r\n",
        "  PLATFORM_SYSTEM = platform.system()\r\n",
        "\r\n",
        "  # Darwin is macOS\r\n",
        "  if PLATFORM_SYSTEM == \"Darwin\":\r\n",
        "      EXECUTABLE_PATH = Path(\"../dependencies/chromedriver\")\r\n",
        "  elif PLATFORM_SYSTEM == \"Windows\":\r\n",
        "      EXECUTABLE_PATH = Path(\"../dependencies/chromedriver.exe\")\r\n",
        "  else:\r\n",
        "      logging.critical(\"Chromedriver not found or Chromedriver is outdated...\")\r\n",
        "      exit()\r\n",
        "  DATA_DIR = \"../Data/raw/\""
      ],
      "execution_count": 5,
      "outputs": [
        {
          "output_type": "stream",
          "text": [
            "Notebook is running in colab\n",
            "Mounted at /content/drive\n"
          ],
          "name": "stdout"
        }
      ]
    },
    {
      "cell_type": "code",
      "metadata": {
        "colab": {
          "base_uri": "https://localhost:8080/"
        },
        "id": "uXU3QIpOdS__",
        "outputId": "ff161121-fb54-4067-b664-4f911162ca4e"
      },
      "source": [
        "nltk.download('wordnet')"
      ],
      "execution_count": 6,
      "outputs": [
        {
          "output_type": "stream",
          "text": [
            "[nltk_data] Downloading package wordnet to /root/nltk_data...\n",
            "[nltk_data]   Unzipping corpora/wordnet.zip.\n"
          ],
          "name": "stdout"
        },
        {
          "output_type": "execute_result",
          "data": {
            "text/plain": [
              "True"
            ]
          },
          "metadata": {
            "tags": []
          },
          "execution_count": 6
        }
      ]
    },
    {
      "cell_type": "markdown",
      "metadata": {
        "id": "WHbeCddac1Fx"
      },
      "source": [
        "In the next cell you can choose your stemmer and lemmatizer."
      ]
    },
    {
      "cell_type": "code",
      "metadata": {
        "id": "bHWz-w8gcUO_"
      },
      "source": [
        "lmtzr = WordNetLemmatizer()\r\n",
        "\r\n",
        "\r\n",
        "def do_lemma(filtered):\r\n",
        "\tlemmize = []\r\n",
        "\tfor f in filtered:\r\n",
        "\t\tlemmize.append(lmtzr.lemmatize(f, 'v'))\r\n",
        "\treturn lemmize\r\n",
        "\r\n",
        "\r\n",
        "def do_stemming(filtered):\r\n",
        "\tstemmed = []\r\n",
        "\tfor f in filtered:\r\n",
        "\t\t#stemmed.append(PorterStemmer().stem(f))\r\n",
        "\t\t#stemmed.append(LancasterStemmer().stem(f))\r\n",
        "\t\tstemmed.append(SnowballStemmer('english').stem(f))\r\n",
        "\treturn stemmed"
      ],
      "execution_count": 7,
      "outputs": []
    },
    {
      "cell_type": "markdown",
      "metadata": {
        "id": "Q839kDWtLxA9"
      },
      "source": [
        "## Read and manipulate data"
      ]
    },
    {
      "cell_type": "code",
      "metadata": {
        "id": "8XwMqSL-Lu_P"
      },
      "source": [
        "comment_df = pd.read_csv(DATA_DIR + \"raw/Reddit/REDDIT_COMMENTS_2021-02-03T17-02-00-0500.csv\")"
      ],
      "execution_count": 8,
      "outputs": []
    },
    {
      "cell_type": "code",
      "metadata": {
        "colab": {
          "base_uri": "https://localhost:8080/",
          "height": 589
        },
        "id": "hIO3ZTJNV0Ca",
        "outputId": "d4c735a7-722c-4521-a76d-60b5cb7cfbf2"
      },
      "source": [
        "comment_df"
      ],
      "execution_count": 9,
      "outputs": [
        {
          "output_type": "execute_result",
          "data": {
            "text/html": [
              "<div>\n",
              "<style scoped>\n",
              "    .dataframe tbody tr th:only-of-type {\n",
              "        vertical-align: middle;\n",
              "    }\n",
              "\n",
              "    .dataframe tbody tr th {\n",
              "        vertical-align: top;\n",
              "    }\n",
              "\n",
              "    .dataframe thead th {\n",
              "        text-align: right;\n",
              "    }\n",
              "</style>\n",
              "<table border=\"1\" class=\"dataframe\">\n",
              "  <thead>\n",
              "    <tr style=\"text-align: right;\">\n",
              "      <th></th>\n",
              "      <th>subreddit</th>\n",
              "      <th>post_id</th>\n",
              "      <th>comment_id</th>\n",
              "      <th>parent_id</th>\n",
              "      <th>comment_author</th>\n",
              "      <th>comment_permalink</th>\n",
              "      <th>comment_body</th>\n",
              "      <th>comment_created</th>\n",
              "      <th>comment_score</th>\n",
              "      <th>comment_distinguished</th>\n",
              "      <th>scrape_time</th>\n",
              "    </tr>\n",
              "  </thead>\n",
              "  <tbody>\n",
              "    <tr>\n",
              "      <th>0</th>\n",
              "      <td>Conservative</td>\n",
              "      <td>lbzf12</td>\n",
              "      <td>glwxgzj</td>\n",
              "      <td>t3_lbzf12</td>\n",
              "      <td>professor_arturo</td>\n",
              "      <td>/r/Conservative/comments/lbzf12/biden_sides_wi...</td>\n",
              "      <td>Why is Biden denying science? Why isn't Biden ...</td>\n",
              "      <td>2021-02-04 05:55:02</td>\n",
              "      <td>1</td>\n",
              "      <td>NaN</td>\n",
              "      <td>2021-02-03 21:56:30.279986</td>\n",
              "    </tr>\n",
              "    <tr>\n",
              "      <th>1</th>\n",
              "      <td>teenagers</td>\n",
              "      <td>lbzdh1</td>\n",
              "      <td>glwx8qs</td>\n",
              "      <td>t3_lbzdh1</td>\n",
              "      <td>MelanfriJr</td>\n",
              "      <td>/r/teenagers/comments/lbzdh1/imagine_voting_fo...</td>\n",
              "      <td>Are the other 44% dead people?</td>\n",
              "      <td>2021-02-04 05:53:27</td>\n",
              "      <td>2</td>\n",
              "      <td>NaN</td>\n",
              "      <td>2021-02-03 21:56:30.859606</td>\n",
              "    </tr>\n",
              "    <tr>\n",
              "      <th>2</th>\n",
              "      <td>teenagers</td>\n",
              "      <td>lbzdh1</td>\n",
              "      <td>glwxds4</td>\n",
              "      <td>t3_lbzdh1</td>\n",
              "      <td>post-quote-bot</td>\n",
              "      <td>/r/teenagers/comments/lbzdh1/imagine_voting_fo...</td>\n",
              "      <td>Yea no shit who else they gonna vote for kanye</td>\n",
              "      <td>2021-02-04 05:54:26</td>\n",
              "      <td>1</td>\n",
              "      <td>NaN</td>\n",
              "      <td>2021-02-03 21:56:30.859606</td>\n",
              "    </tr>\n",
              "    <tr>\n",
              "      <th>3</th>\n",
              "      <td>teenagers</td>\n",
              "      <td>lbzdh1</td>\n",
              "      <td>glwxkpd</td>\n",
              "      <td>t3_lbzdh1</td>\n",
              "      <td>No_Owl_4141</td>\n",
              "      <td>/r/teenagers/comments/lbzdh1/imagine_voting_fo...</td>\n",
              "      <td>Imagine having to vote between a skeleton and ...</td>\n",
              "      <td>2021-02-04 05:55:46</td>\n",
              "      <td>1</td>\n",
              "      <td>NaN</td>\n",
              "      <td>2021-02-03 21:56:30.859606</td>\n",
              "    </tr>\n",
              "    <tr>\n",
              "      <th>4</th>\n",
              "      <td>FawningLiberalMedia</td>\n",
              "      <td>lbzd6x</td>\n",
              "      <td>glwx5dd</td>\n",
              "      <td>t3_lbzd6x</td>\n",
              "      <td>FawningMediaMod</td>\n",
              "      <td>/r/FawningLiberalMedia/comments/lbzd6x/fawning...</td>\n",
              "      <td>https://archive.is/WhGOQ</td>\n",
              "      <td>2021-02-04 05:52:46</td>\n",
              "      <td>1</td>\n",
              "      <td>moderator</td>\n",
              "      <td>2021-02-03 21:56:31.108414</td>\n",
              "    </tr>\n",
              "    <tr>\n",
              "      <th>...</th>\n",
              "      <td>...</td>\n",
              "      <td>...</td>\n",
              "      <td>...</td>\n",
              "      <td>...</td>\n",
              "      <td>...</td>\n",
              "      <td>...</td>\n",
              "      <td>...</td>\n",
              "      <td>...</td>\n",
              "      <td>...</td>\n",
              "      <td>...</td>\n",
              "      <td>...</td>\n",
              "    </tr>\n",
              "    <tr>\n",
              "      <th>9186</th>\n",
              "      <td>politics2</td>\n",
              "      <td>j7kctz</td>\n",
              "      <td>g88f1f0</td>\n",
              "      <td>t3_j7kctz</td>\n",
              "      <td>dfj2025</td>\n",
              "      <td>/r/politics2/comments/j7kctz/everyone_is_entit...</td>\n",
              "      <td>For years the Republicans do not pull any punc...</td>\n",
              "      <td>2020-10-10 01:05:54</td>\n",
              "      <td>1</td>\n",
              "      <td>NaN</td>\n",
              "      <td>2021-02-03 22:01:59.761360</td>\n",
              "    </tr>\n",
              "    <tr>\n",
              "      <th>9187</th>\n",
              "      <td>politics2</td>\n",
              "      <td>j61b4e</td>\n",
              "      <td>g7vyitx</td>\n",
              "      <td>t3_j61b4e</td>\n",
              "      <td>Bennett_Barreca</td>\n",
              "      <td>/r/politics2/comments/j61b4e/note_to_trumpster...</td>\n",
              "      <td>more like r/theleftcantmeme</td>\n",
              "      <td>2020-10-06 20:12:37</td>\n",
              "      <td>2</td>\n",
              "      <td>NaN</td>\n",
              "      <td>2021-02-03 22:01:59.951924</td>\n",
              "    </tr>\n",
              "    <tr>\n",
              "      <th>9188</th>\n",
              "      <td>politics2</td>\n",
              "      <td>j61b4e</td>\n",
              "      <td>g7xfuqp</td>\n",
              "      <td>t3_j61b4e</td>\n",
              "      <td>GoneWithTheZen</td>\n",
              "      <td>/r/politics2/comments/j61b4e/note_to_trumpster...</td>\n",
              "      <td>Awwww that's adorable. You think Biden's going...</td>\n",
              "      <td>2020-10-07 03:37:34</td>\n",
              "      <td>2</td>\n",
              "      <td>NaN</td>\n",
              "      <td>2021-02-03 22:01:59.951924</td>\n",
              "    </tr>\n",
              "    <tr>\n",
              "      <th>9189</th>\n",
              "      <td>politics2</td>\n",
              "      <td>j61b4e</td>\n",
              "      <td>g7xlkdq</td>\n",
              "      <td>t3_j61b4e</td>\n",
              "      <td>HerpsDean_</td>\n",
              "      <td>/r/politics2/comments/j61b4e/note_to_trumpster...</td>\n",
              "      <td>Next month will be painful for you lmao</td>\n",
              "      <td>2020-10-07 04:16:01</td>\n",
              "      <td>2</td>\n",
              "      <td>NaN</td>\n",
              "      <td>2021-02-03 22:01:59.951924</td>\n",
              "    </tr>\n",
              "    <tr>\n",
              "      <th>9190</th>\n",
              "      <td>politics2</td>\n",
              "      <td>j61b4e</td>\n",
              "      <td>g7xtmqp</td>\n",
              "      <td>t3_j61b4e</td>\n",
              "      <td>OPrime50</td>\n",
              "      <td>/r/politics2/comments/j61b4e/note_to_trumpster...</td>\n",
              "      <td>The best part about this is the only dipshits ...</td>\n",
              "      <td>2020-10-07 05:22:56</td>\n",
              "      <td>1</td>\n",
              "      <td>NaN</td>\n",
              "      <td>2021-02-03 22:01:59.951924</td>\n",
              "    </tr>\n",
              "  </tbody>\n",
              "</table>\n",
              "<p>9191 rows × 11 columns</p>\n",
              "</div>"
            ],
            "text/plain": [
              "                subreddit  ...                 scrape_time\n",
              "0            Conservative  ...  2021-02-03 21:56:30.279986\n",
              "1               teenagers  ...  2021-02-03 21:56:30.859606\n",
              "2               teenagers  ...  2021-02-03 21:56:30.859606\n",
              "3               teenagers  ...  2021-02-03 21:56:30.859606\n",
              "4     FawningLiberalMedia  ...  2021-02-03 21:56:31.108414\n",
              "...                   ...  ...                         ...\n",
              "9186            politics2  ...  2021-02-03 22:01:59.761360\n",
              "9187            politics2  ...  2021-02-03 22:01:59.951924\n",
              "9188            politics2  ...  2021-02-03 22:01:59.951924\n",
              "9189            politics2  ...  2021-02-03 22:01:59.951924\n",
              "9190            politics2  ...  2021-02-03 22:01:59.951924\n",
              "\n",
              "[9191 rows x 11 columns]"
            ]
          },
          "metadata": {
            "tags": []
          },
          "execution_count": 9
        }
      ]
    },
    {
      "cell_type": "code",
      "metadata": {
        "colab": {
          "base_uri": "https://localhost:8080/"
        },
        "id": "UiKK7nn1L36r",
        "outputId": "768664ac-4327-4c26-d0c5-3eb71d040074"
      },
      "source": [
        "comment_df[\"comment_author\"].value_counts()"
      ],
      "execution_count": 10,
      "outputs": [
        {
          "output_type": "execute_result",
          "data": {
            "text/plain": [
              "None                    281\n",
              "AutoModerator           280\n",
              "autotldr                 43\n",
              "DeltaBot                 41\n",
              "Tibaltdidnothinwrong     19\n",
              "                       ... \n",
              "UmeTechGuy                1\n",
              "ejpierle                  1\n",
              "SkeletonCrew_             1\n",
              "123ilovelaughing123       1\n",
              "furyg3                    1\n",
              "Name: comment_author, Length: 6241, dtype: int64"
            ]
          },
          "metadata": {
            "tags": []
          },
          "execution_count": 10
        }
      ]
    },
    {
      "cell_type": "code",
      "metadata": {
        "id": "NFrg_fukUuCi"
      },
      "source": [
        "# concatenate the string \r\n",
        "commenter_texts = comment_df.groupby([\"comment_author\"], as_index=False)[\"comment_body\"].transform(lambda x : ' '.join(x)) "
      ],
      "execution_count": 11,
      "outputs": []
    },
    {
      "cell_type": "code",
      "metadata": {
        "colab": {
          "base_uri": "https://localhost:8080/"
        },
        "id": "V3THQdnJaG_0",
        "outputId": "a25e168c-4c68-447f-8e39-4b2e4ce83ad3"
      },
      "source": [
        "comment_df[\"comment_author\"].unique()"
      ],
      "execution_count": 12,
      "outputs": [
        {
          "output_type": "execute_result",
          "data": {
            "text/plain": [
              "array(['professor_arturo', 'MelanfriJr', 'post-quote-bot', ...,\n",
              "       'GoneWithTheZen', 'HerpsDean_', 'OPrime50'], dtype=object)"
            ]
          },
          "metadata": {
            "tags": []
          },
          "execution_count": 12
        }
      ]
    },
    {
      "cell_type": "code",
      "metadata": {
        "id": "NMv7lNYUU7_1"
      },
      "source": [
        "commenter_texts = commenter_texts.drop_duplicates()"
      ],
      "execution_count": 13,
      "outputs": []
    },
    {
      "cell_type": "code",
      "metadata": {
        "id": "adtCpysUZJ8n"
      },
      "source": [
        "commenter_texts[\"comment_author\"] = comment_df[\"comment_author\"].unique()"
      ],
      "execution_count": 14,
      "outputs": []
    },
    {
      "cell_type": "code",
      "metadata": {
        "id": "Far_-IhZa7AF"
      },
      "source": [
        "commenter_texts[\"tokens\"] = commenter_texts[\"comment_body\"].apply(nltk.casual_tokenize)"
      ],
      "execution_count": 15,
      "outputs": []
    },
    {
      "cell_type": "code",
      "metadata": {
        "id": "VQezrKDecBOK"
      },
      "source": [
        "commenter_texts[\"stems\"] = commenter_texts[\"tokens\"].apply(do_stemming)"
      ],
      "execution_count": 16,
      "outputs": []
    },
    {
      "cell_type": "code",
      "metadata": {
        "id": "dnMo6AF3dAwf"
      },
      "source": [
        "commenter_texts[\"lemmas\"] = commenter_texts[\"tokens\"].apply(do_lemma)"
      ],
      "execution_count": 17,
      "outputs": []
    },
    {
      "cell_type": "code",
      "metadata": {
        "colab": {
          "base_uri": "https://localhost:8080/",
          "height": 419
        },
        "id": "K2nFy2_-aZD4",
        "outputId": "2c83eec7-a922-4756-c568-7c7a99705357"
      },
      "source": [
        "commenter_texts"
      ],
      "execution_count": 18,
      "outputs": [
        {
          "output_type": "execute_result",
          "data": {
            "text/html": [
              "<div>\n",
              "<style scoped>\n",
              "    .dataframe tbody tr th:only-of-type {\n",
              "        vertical-align: middle;\n",
              "    }\n",
              "\n",
              "    .dataframe tbody tr th {\n",
              "        vertical-align: top;\n",
              "    }\n",
              "\n",
              "    .dataframe thead th {\n",
              "        text-align: right;\n",
              "    }\n",
              "</style>\n",
              "<table border=\"1\" class=\"dataframe\">\n",
              "  <thead>\n",
              "    <tr style=\"text-align: right;\">\n",
              "      <th></th>\n",
              "      <th>comment_body</th>\n",
              "      <th>comment_author</th>\n",
              "      <th>tokens</th>\n",
              "      <th>stems</th>\n",
              "      <th>lemmas</th>\n",
              "    </tr>\n",
              "  </thead>\n",
              "  <tbody>\n",
              "    <tr>\n",
              "      <th>0</th>\n",
              "      <td>Why is Biden denying science? Why isn't Biden ...</td>\n",
              "      <td>professor_arturo</td>\n",
              "      <td>[Why, is, Biden, denying, science, ?, Why, isn...</td>\n",
              "      <td>[whi, is, biden, deni, scienc, ?, whi, isn't, ...</td>\n",
              "      <td>[Why, be, Biden, deny, science, ?, Why, isn't,...</td>\n",
              "    </tr>\n",
              "    <tr>\n",
              "      <th>1</th>\n",
              "      <td>Are the other 44% dead people?</td>\n",
              "      <td>MelanfriJr</td>\n",
              "      <td>[Are, the, other, 44, %, dead, people, ?]</td>\n",
              "      <td>[are, the, other, 44, %, dead, peopl, ?]</td>\n",
              "      <td>[Are, the, other, 44, %, dead, people, ?]</td>\n",
              "    </tr>\n",
              "    <tr>\n",
              "      <th>2</th>\n",
              "      <td>Yea no shit who else they gonna vote for kanye</td>\n",
              "      <td>post-quote-bot</td>\n",
              "      <td>[Yea, no, shit, who, else, they, gonna, vote, ...</td>\n",
              "      <td>[yea, no, shit, who, els, they, gonna, vote, f...</td>\n",
              "      <td>[Yea, no, shit, who, else, they, gonna, vote, ...</td>\n",
              "    </tr>\n",
              "    <tr>\n",
              "      <th>3</th>\n",
              "      <td>Imagine having to vote between a skeleton and ...</td>\n",
              "      <td>No_Owl_4141</td>\n",
              "      <td>[Imagine, having, to, vote, between, a, skelet...</td>\n",
              "      <td>[imagin, have, to, vote, between, a, skeleton,...</td>\n",
              "      <td>[Imagine, have, to, vote, between, a, skeleton...</td>\n",
              "    </tr>\n",
              "    <tr>\n",
              "      <th>4</th>\n",
              "      <td>https://archive.is/WhGOQ</td>\n",
              "      <td>FawningMediaMod</td>\n",
              "      <td>[https://archive.is/WhGOQ]</td>\n",
              "      <td>[https://archive.is/whgoq]</td>\n",
              "      <td>[https://archive.is/WhGOQ]</td>\n",
              "    </tr>\n",
              "    <tr>\n",
              "      <th>...</th>\n",
              "      <td>...</td>\n",
              "      <td>...</td>\n",
              "      <td>...</td>\n",
              "      <td>...</td>\n",
              "      <td>...</td>\n",
              "    </tr>\n",
              "    <tr>\n",
              "      <th>9185</th>\n",
              "      <td>Gaslighting at it finest.</td>\n",
              "      <td>printupr</td>\n",
              "      <td>[Gaslighting, at, it, finest, .]</td>\n",
              "      <td>[gaslight, at, it, finest, .]</td>\n",
              "      <td>[Gaslighting, at, it, finest, .]</td>\n",
              "    </tr>\n",
              "    <tr>\n",
              "      <th>9187</th>\n",
              "      <td>more like r/theleftcantmeme</td>\n",
              "      <td>Bennett_Barreca</td>\n",
              "      <td>[more, like, r, /, theleftcantmeme]</td>\n",
              "      <td>[more, like, r, /, theleftcantmem]</td>\n",
              "      <td>[more, like, r, /, theleftcantmeme]</td>\n",
              "    </tr>\n",
              "    <tr>\n",
              "      <th>9188</th>\n",
              "      <td>Awwww that's adorable. You think Biden's going...</td>\n",
              "      <td>GoneWithTheZen</td>\n",
              "      <td>[Awwww, that's, adorable, ., You, think, Biden...</td>\n",
              "      <td>[awwww, that, ador, ., you, think, biden, go, ...</td>\n",
              "      <td>[Awwww, that's, adorable, ., You, think, Biden...</td>\n",
              "    </tr>\n",
              "    <tr>\n",
              "      <th>9189</th>\n",
              "      <td>Next month will be painful for you lmao</td>\n",
              "      <td>HerpsDean_</td>\n",
              "      <td>[Next, month, will, be, painful, for, you, lmao]</td>\n",
              "      <td>[next, month, will, be, pain, for, you, lmao]</td>\n",
              "      <td>[Next, month, will, be, painful, for, you, lmao]</td>\n",
              "    </tr>\n",
              "    <tr>\n",
              "      <th>9190</th>\n",
              "      <td>The best part about this is the only dipshits ...</td>\n",
              "      <td>OPrime50</td>\n",
              "      <td>[The, best, part, about, this, is, the, only, ...</td>\n",
              "      <td>[the, best, part, about, this, is, the, onli, ...</td>\n",
              "      <td>[The, best, part, about, this, be, the, only, ...</td>\n",
              "    </tr>\n",
              "  </tbody>\n",
              "</table>\n",
              "<p>6241 rows × 5 columns</p>\n",
              "</div>"
            ],
            "text/plain": [
              "                                           comment_body  ...                                             lemmas\n",
              "0     Why is Biden denying science? Why isn't Biden ...  ...  [Why, be, Biden, deny, science, ?, Why, isn't,...\n",
              "1                        Are the other 44% dead people?  ...          [Are, the, other, 44, %, dead, people, ?]\n",
              "2        Yea no shit who else they gonna vote for kanye  ...  [Yea, no, shit, who, else, they, gonna, vote, ...\n",
              "3     Imagine having to vote between a skeleton and ...  ...  [Imagine, have, to, vote, between, a, skeleton...\n",
              "4                              https://archive.is/WhGOQ  ...                         [https://archive.is/WhGOQ]\n",
              "...                                                 ...  ...                                                ...\n",
              "9185                          Gaslighting at it finest.  ...                   [Gaslighting, at, it, finest, .]\n",
              "9187                        more like r/theleftcantmeme  ...                [more, like, r, /, theleftcantmeme]\n",
              "9188  Awwww that's adorable. You think Biden's going...  ...  [Awwww, that's, adorable, ., You, think, Biden...\n",
              "9189            Next month will be painful for you lmao  ...   [Next, month, will, be, painful, for, you, lmao]\n",
              "9190  The best part about this is the only dipshits ...  ...  [The, best, part, about, this, be, the, only, ...\n",
              "\n",
              "[6241 rows x 5 columns]"
            ]
          },
          "metadata": {
            "tags": []
          },
          "execution_count": 18
        }
      ]
    },
    {
      "cell_type": "markdown",
      "metadata": {
        "id": "6YKVsOTJNXKq"
      },
      "source": [
        "Let's also take a look at how long these text strings get."
      ]
    },
    {
      "cell_type": "code",
      "metadata": {
        "colab": {
          "base_uri": "https://localhost:8080/",
          "height": 607
        },
        "id": "rbHxp_YYeNdr",
        "outputId": "3b881c12-49e6-4a98-e337-53eda481dd0c"
      },
      "source": [
        "figure(figsize=(10,10))\r\n",
        "hist([len(i) for i in commenter_texts.tokens], bins=100, log=True);\r\n",
        "title(\"Histogram of commenter text lengths in tokens\");"
      ],
      "execution_count": 20,
      "outputs": [
        {
          "output_type": "display_data",
          "data": {
            "image/png": "[encoded data removed]",
            "text/plain": [
              "<Figure size 720x720 with 1 Axes>"
            ]
          },
          "metadata": {
            "tags": [],
            "needs_background": "light"
          }
        }
      ]
    },
    {
      "cell_type": "markdown",
      "metadata": {
        "id": "FbllSG3VNdYO"
      },
      "source": [
        "There are some obvious outliers that post way more material than others. These are probably benign bots. Here are the top posters."
      ]
    },
    {
      "cell_type": "code",
      "metadata": {
        "id": "oZ9ObSMiKbaU"
      },
      "source": [
        "commenter_texts['length'] = commenter_texts['tokens'].str.len()\r\n",
        "commenter_texts.sort_values('length', ascending=False, inplace=True)"
      ],
      "execution_count": 25,
      "outputs": []
    },
    {
      "cell_type": "code",
      "metadata": {
        "colab": {
          "base_uri": "https://localhost:8080/",
          "height": 359
        },
        "id": "qW-bNjmZM80A",
        "outputId": "abec1b1b-f142-4b55-ee6d-649b1d964fc4"
      },
      "source": [
        "commenter_texts.head(10)"
      ],
      "execution_count": 28,
      "outputs": [
        {
          "output_type": "execute_result",
          "data": {
            "text/html": [
              "<div>\n",
              "<style scoped>\n",
              "    .dataframe tbody tr th:only-of-type {\n",
              "        vertical-align: middle;\n",
              "    }\n",
              "\n",
              "    .dataframe tbody tr th {\n",
              "        vertical-align: top;\n",
              "    }\n",
              "\n",
              "    .dataframe thead th {\n",
              "        text-align: right;\n",
              "    }\n",
              "</style>\n",
              "<table border=\"1\" class=\"dataframe\">\n",
              "  <thead>\n",
              "    <tr style=\"text-align: right;\">\n",
              "      <th></th>\n",
              "      <th>comment_body</th>\n",
              "      <th>comment_author</th>\n",
              "      <th>tokens</th>\n",
              "      <th>stems</th>\n",
              "      <th>lemmas</th>\n",
              "      <th>length</th>\n",
              "    </tr>\n",
              "  </thead>\n",
              "  <tbody>\n",
              "    <tr>\n",
              "      <th>5</th>\n",
              "      <td>Take action: **[Join us on Discord](https://di...</td>\n",
              "      <td>AutoModerator</td>\n",
              "      <td>[Take, action, :, *, *, [, Join, us, on, Disco...</td>\n",
              "      <td>[take, action, :, *, *, [, join, us, on, disco...</td>\n",
              "      <td>[Take, action, :, *, *, [, Join, us, on, Disco...</td>\n",
              "      <td>37578</td>\n",
              "    </tr>\n",
              "    <tr>\n",
              "      <th>1054</th>\n",
              "      <td>This is the best tl;dr I could make, [original...</td>\n",
              "      <td>autotldr</td>\n",
              "      <td>[This, is, the, best, tl, ;d, r, I, could, mak...</td>\n",
              "      <td>[this, is, the, best, tl, ;d, r, i, could, mak...</td>\n",
              "      <td>[This, be, the, best, tl, ;d, r, I, could, mak...</td>\n",
              "      <td>10884</td>\n",
              "    </tr>\n",
              "    <tr>\n",
              "      <th>358</th>\n",
              "      <td>[deleted] [removed] [deleted] [deleted] [remov...</td>\n",
              "      <td>None</td>\n",
              "      <td>[[, deleted, ], [, removed, ], [, deleted, ], ...</td>\n",
              "      <td>[[, delet, ], [, remov, ], [, delet, ], [, del...</td>\n",
              "      <td>[[, delete, ], [, remove, ], [, delete, ], [, ...</td>\n",
              "      <td>5476</td>\n",
              "    </tr>\n",
              "    <tr>\n",
              "      <th>5747</th>\n",
              "      <td>Not to put too fine a point on it, but this re...</td>\n",
              "      <td>BPC3</td>\n",
              "      <td>[Not, to, put, too, fine, a, point, on, it, ,,...</td>\n",
              "      <td>[not, to, put, too, fine, a, point, on, it, ,,...</td>\n",
              "      <td>[Not, to, put, too, fine, a, point, on, it, ,,...</td>\n",
              "      <td>4115</td>\n",
              "    </tr>\n",
              "    <tr>\n",
              "      <th>4955</th>\n",
              "      <td>/u/h0sti1e17 (OP) has awarded 1 delta(s) in th...</td>\n",
              "      <td>DeltaBot</td>\n",
              "      <td>[/, u, /, h0sti1e17, (, OP, ), has, awarded, 1...</td>\n",
              "      <td>[/, u, /, h0sti1e17, (, op, ), has, award, 1, ...</td>\n",
              "      <td>[/, u, /, h0sti1e17, (, OP, ), have, award, 1,...</td>\n",
              "      <td>3850</td>\n",
              "    </tr>\n",
              "    <tr>\n",
              "      <th>5067</th>\n",
              "      <td>I think an important thing to note is that muc...</td>\n",
              "      <td>badass_panda</td>\n",
              "      <td>[I, think, an, important, thing, to, note, is,...</td>\n",
              "      <td>[i, think, an, import, thing, to, note, is, th...</td>\n",
              "      <td>[I, think, an, important, thing, to, note, be,...</td>\n",
              "      <td>3197</td>\n",
              "    </tr>\n",
              "    <tr>\n",
              "      <th>1698</th>\n",
              "      <td>OAN got started with 65 employees and a partne...</td>\n",
              "      <td>AgoraiosBum</td>\n",
              "      <td>[OAN, got, started, with, 65, employees, and, ...</td>\n",
              "      <td>[oan, got, start, with, 65, employe, and, a, p...</td>\n",
              "      <td>[OAN, get, start, with, 65, employees, and, a,...</td>\n",
              "      <td>2951</td>\n",
              "    </tr>\n",
              "    <tr>\n",
              "      <th>5269</th>\n",
              "      <td>To modify your view here:\\n\\n&gt;CMV: You cannot ...</td>\n",
              "      <td>thethoughtexperiment</td>\n",
              "      <td>[To, modify, your, view, here, :, &gt;, CMV, :, Y...</td>\n",
              "      <td>[to, modifi, your, view, here, :, &gt;, cmv, :, y...</td>\n",
              "      <td>[To, modify, your, view, here, :, &gt;, CMV, :, Y...</td>\n",
              "      <td>2803</td>\n",
              "    </tr>\n",
              "    <tr>\n",
              "      <th>3916</th>\n",
              "      <td>Submission Statement:  This Reuters article re...</td>\n",
              "      <td>theoryofdoom</td>\n",
              "      <td>[Submission, Statement, :, This, Reuters, arti...</td>\n",
              "      <td>[submiss, statement, :, this, reuter, articl, ...</td>\n",
              "      <td>[Submission, Statement, :, This, Reuters, arti...</td>\n",
              "      <td>2728</td>\n",
              "    </tr>\n",
              "    <tr>\n",
              "      <th>1597</th>\n",
              "      <td>I consider myself a technocrat, if only to eng...</td>\n",
              "      <td>illegalmorality</td>\n",
              "      <td>[I, consider, myself, a, technocrat, ,, if, on...</td>\n",
              "      <td>[i, consid, myself, a, technocrat, ,, if, onli...</td>\n",
              "      <td>[I, consider, myself, a, technocrat, ,, if, on...</td>\n",
              "      <td>2453</td>\n",
              "    </tr>\n",
              "  </tbody>\n",
              "</table>\n",
              "</div>"
            ],
            "text/plain": [
              "                                           comment_body  ... length\n",
              "5     Take action: **[Join us on Discord](https://di...  ...  37578\n",
              "1054  This is the best tl;dr I could make, [original...  ...  10884\n",
              "358   [deleted] [removed] [deleted] [deleted] [remov...  ...   5476\n",
              "5747  Not to put too fine a point on it, but this re...  ...   4115\n",
              "4955  /u/h0sti1e17 (OP) has awarded 1 delta(s) in th...  ...   3850\n",
              "5067  I think an important thing to note is that muc...  ...   3197\n",
              "1698  OAN got started with 65 employees and a partne...  ...   2951\n",
              "5269  To modify your view here:\\n\\n>CMV: You cannot ...  ...   2803\n",
              "3916  Submission Statement:  This Reuters article re...  ...   2728\n",
              "1597  I consider myself a technocrat, if only to eng...  ...   2453\n",
              "\n",
              "[10 rows x 6 columns]"
            ]
          },
          "metadata": {
            "tags": []
          },
          "execution_count": 28
        }
      ]
    },
    {
      "cell_type": "markdown",
      "metadata": {
        "id": "ytE0uPhZNrCm"
      },
      "source": [
        "Sure enough, the top posts were by bots, also the \"None\" author which represents deleted users. However, the next 5 topmost users are interesting."
      ]
    }
  ]
}